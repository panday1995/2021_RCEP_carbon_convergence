{
 "cells": [
  {
   "cell_type": "code",
   "execution_count": 1,
   "metadata": {},
   "outputs": [
    {
     "data": {
      "application/javascript": [
       "\n",
       "            setTimeout(function() {\n",
       "                var nbb_cell_id = 1;\n",
       "                var nbb_unformatted_code = \"from DEA import *\\nfrom pandas import ExcelWriter\\n\\nimport matplotlib.pyplot as plt\\nimport plotly.express as px\\nimport plotly.graph_objects as go\\n\\n%load_ext nb_black\";\n",
       "                var nbb_formatted_code = \"from DEA import *\\nfrom pandas import ExcelWriter\\n\\nimport matplotlib.pyplot as plt\\nimport plotly.express as px\\nimport plotly.graph_objects as go\\n\\n%load_ext nb_black\";\n",
       "                var nbb_cells = Jupyter.notebook.get_cells();\n",
       "                for (var i = 0; i < nbb_cells.length; ++i) {\n",
       "                    if (nbb_cells[i].input_prompt_number == nbb_cell_id) {\n",
       "                        if (nbb_cells[i].get_text() == nbb_unformatted_code) {\n",
       "                             nbb_cells[i].set_text(nbb_formatted_code);\n",
       "                        }\n",
       "                        break;\n",
       "                    }\n",
       "                }\n",
       "            }, 500);\n",
       "            "
      ],
      "text/plain": [
       "<IPython.core.display.Javascript object>"
      ]
     },
     "metadata": {},
     "output_type": "display_data"
    }
   ],
   "source": [
    "from DEA import *\n",
    "from pandas import ExcelWriter\n",
    "\n",
    "import matplotlib.pyplot as plt\n",
    "import plotly.express as px\n",
    "import plotly.graph_objects as go\n",
    "\n",
    "%load_ext nb_black"
   ]
  },
  {
   "cell_type": "markdown",
   "metadata": {},
   "source": [
    "# Efficiency Measurement"
   ]
  },
  {
   "cell_type": "code",
   "execution_count": 2,
   "metadata": {},
   "outputs": [
    {
     "data": {
      "application/javascript": [
       "\n",
       "            setTimeout(function() {\n",
       "                var nbb_cell_id = 2;\n",
       "                var nbb_unformatted_code = \"def read_excel(dir_data, xls, sheet_name):\\n    \\\"\\\"\\\"\\n    read input-output data from an excel\\n\\n    the *dir_data* argument is the directory stored data\\n    the *xls* argument is the file name of the excel\\n    the *sheet_name* argument is the name of the excel sheet\\n    \\\"\\\"\\\"\\n    os.chdir(dir_data)\\n    dea_inout = pd.read_excel(xls, sheet_name=sheet_name, header=0)\\n    return dea_inout\";\n",
       "                var nbb_formatted_code = \"def read_excel(dir_data, xls, sheet_name):\\n    \\\"\\\"\\\"\\n    read input-output data from an excel\\n\\n    the *dir_data* argument is the directory stored data\\n    the *xls* argument is the file name of the excel\\n    the *sheet_name* argument is the name of the excel sheet\\n    \\\"\\\"\\\"\\n    os.chdir(dir_data)\\n    dea_inout = pd.read_excel(xls, sheet_name=sheet_name, header=0)\\n    return dea_inout\";\n",
       "                var nbb_cells = Jupyter.notebook.get_cells();\n",
       "                for (var i = 0; i < nbb_cells.length; ++i) {\n",
       "                    if (nbb_cells[i].input_prompt_number == nbb_cell_id) {\n",
       "                        if (nbb_cells[i].get_text() == nbb_unformatted_code) {\n",
       "                             nbb_cells[i].set_text(nbb_formatted_code);\n",
       "                        }\n",
       "                        break;\n",
       "                    }\n",
       "                }\n",
       "            }, 500);\n",
       "            "
      ],
      "text/plain": [
       "<IPython.core.display.Javascript object>"
      ]
     },
     "metadata": {},
     "output_type": "display_data"
    }
   ],
   "source": [
    "def read_excel(dir_data, xls, sheet_name):\n",
    "    \"\"\"\n",
    "    read input-output data from an excel\n",
    "\n",
    "    the *dir_data* argument is the directory stored data\n",
    "    the *xls* argument is the file name of the excel\n",
    "    the *sheet_name* argument is the name of the excel sheet\n",
    "    \"\"\"\n",
    "    os.chdir(dir_data)\n",
    "    dea_inout = pd.read_excel(xls, sheet_name=sheet_name, header=0)\n",
    "    return dea_inout"
   ]
  },
  {
   "cell_type": "code",
   "execution_count": 3,
   "metadata": {},
   "outputs": [
    {
     "data": {
      "application/javascript": [
       "\n",
       "            setTimeout(function() {\n",
       "                var nbb_cell_id = 3;\n",
       "                var nbb_unformatted_code = \"def read_inoutData(dir_data, xls, sheet_name, columns):\\n    \\\"\\\"\\\"\\n    read input output data by columns\\n\\n    the *dir_data* argument is the directory stored data\\n    the *xls* argument is the file name of the excel\\n    the *sheet_name* argument is the name of the excel sheet\\n    the *columns* argument is the names of columns to be read\\n    \\\"\\\"\\\"\\n    data = read_excel(dir_data, xls, sheet_name)\\n    data_DEA = data.loc[:, columns]\\n    return data_DEA\";\n",
       "                var nbb_formatted_code = \"def read_inoutData(dir_data, xls, sheet_name, columns):\\n    \\\"\\\"\\\"\\n    read input output data by columns\\n\\n    the *dir_data* argument is the directory stored data\\n    the *xls* argument is the file name of the excel\\n    the *sheet_name* argument is the name of the excel sheet\\n    the *columns* argument is the names of columns to be read\\n    \\\"\\\"\\\"\\n    data = read_excel(dir_data, xls, sheet_name)\\n    data_DEA = data.loc[:, columns]\\n    return data_DEA\";\n",
       "                var nbb_cells = Jupyter.notebook.get_cells();\n",
       "                for (var i = 0; i < nbb_cells.length; ++i) {\n",
       "                    if (nbb_cells[i].input_prompt_number == nbb_cell_id) {\n",
       "                        if (nbb_cells[i].get_text() == nbb_unformatted_code) {\n",
       "                             nbb_cells[i].set_text(nbb_formatted_code);\n",
       "                        }\n",
       "                        break;\n",
       "                    }\n",
       "                }\n",
       "            }, 500);\n",
       "            "
      ],
      "text/plain": [
       "<IPython.core.display.Javascript object>"
      ]
     },
     "metadata": {},
     "output_type": "display_data"
    }
   ],
   "source": [
    "def read_inoutData(dir_data, xls, sheet_name, columns):\n",
    "    \"\"\"\n",
    "    read input output data by columns\n",
    "\n",
    "    the *dir_data* argument is the directory stored data\n",
    "    the *xls* argument is the file name of the excel\n",
    "    the *sheet_name* argument is the name of the excel sheet\n",
    "    the *columns* argument is the names of columns to be read\n",
    "    \"\"\"\n",
    "    data = read_excel(dir_data, xls, sheet_name)\n",
    "    data_DEA = data.loc[:, columns]\n",
    "    return data_DEA"
   ]
  },
  {
   "cell_type": "code",
   "execution_count": 4,
   "metadata": {},
   "outputs": [
    {
     "data": {
      "application/javascript": [
       "\n",
       "            setTimeout(function() {\n",
       "                var nbb_cell_id = 4;\n",
       "                var nbb_unformatted_code = \"dir_data = r\\\"D:\\\\tencent_files\\\\chrome_Download\\\\Research\\\\DEA\\\\DEA_RCEP\\\\Data\\\"\\nxls = \\\"Data.xlsx\\\"\\nsheet_name = \\\"DEA_data\\\"\";\n",
       "                var nbb_formatted_code = \"dir_data = r\\\"D:\\\\tencent_files\\\\chrome_Download\\\\Research\\\\DEA\\\\DEA_RCEP\\\\Data\\\"\\nxls = \\\"Data.xlsx\\\"\\nsheet_name = \\\"DEA_data\\\"\";\n",
       "                var nbb_cells = Jupyter.notebook.get_cells();\n",
       "                for (var i = 0; i < nbb_cells.length; ++i) {\n",
       "                    if (nbb_cells[i].input_prompt_number == nbb_cell_id) {\n",
       "                        if (nbb_cells[i].get_text() == nbb_unformatted_code) {\n",
       "                             nbb_cells[i].set_text(nbb_formatted_code);\n",
       "                        }\n",
       "                        break;\n",
       "                    }\n",
       "                }\n",
       "            }, 500);\n",
       "            "
      ],
      "text/plain": [
       "<IPython.core.display.Javascript object>"
      ]
     },
     "metadata": {},
     "output_type": "display_data"
    }
   ],
   "source": [
    "dir_data = r\"D:\\tencent_files\\chrome_Download\\Research\\DEA\\DEA_RCEP\\Data\"\n",
    "xls = \"Data.xlsx\"\n",
    "sheet_name = \"DEA_data\""
   ]
  },
  {
   "cell_type": "code",
   "execution_count": 5,
   "metadata": {},
   "outputs": [
    {
     "data": {
      "application/javascript": [
       "\n",
       "            setTimeout(function() {\n",
       "                var nbb_cell_id = 5;\n",
       "                var nbb_unformatted_code = \"# DEA parameters and data\\n\\ninput_columns = [\\\"Population\\\", \\\"Capital\\\", \\\"Energy_consume\\\"]\\noutput_columns = [\\\"GDP\\\"]\\nundout_columns = [\\\"CO2_emission\\\"]\\nweight_vector = [0, 0, 1 / 3, 1 / 3, 1 / 3]\\nname_columns = [\\\"Country\\\", \\\"Region\\\", \\\"year\\\"]\";\n",
       "                var nbb_formatted_code = \"# DEA parameters and data\\n\\ninput_columns = [\\\"Population\\\", \\\"Capital\\\", \\\"Energy_consume\\\"]\\noutput_columns = [\\\"GDP\\\"]\\nundout_columns = [\\\"CO2_emission\\\"]\\nweight_vector = [0, 0, 1 / 3, 1 / 3, 1 / 3]\\nname_columns = [\\\"Country\\\", \\\"Region\\\", \\\"year\\\"]\";\n",
       "                var nbb_cells = Jupyter.notebook.get_cells();\n",
       "                for (var i = 0; i < nbb_cells.length; ++i) {\n",
       "                    if (nbb_cells[i].input_prompt_number == nbb_cell_id) {\n",
       "                        if (nbb_cells[i].get_text() == nbb_unformatted_code) {\n",
       "                             nbb_cells[i].set_text(nbb_formatted_code);\n",
       "                        }\n",
       "                        break;\n",
       "                    }\n",
       "                }\n",
       "            }, 500);\n",
       "            "
      ],
      "text/plain": [
       "<IPython.core.display.Javascript object>"
      ]
     },
     "metadata": {},
     "output_type": "display_data"
    }
   ],
   "source": [
    "# DEA parameters and data\n",
    "\n",
    "input_columns = [\"Population\", \"Capital\", \"Energy_consume\"]\n",
    "output_columns = [\"GDP\"]\n",
    "undout_columns = [\"CO2_emission\"]\n",
    "weight_vector = [0, 0, 1 / 3, 1 / 3, 1 / 3]\n",
    "name_columns = [\"Country\", \"Region\", \"year\"]"
   ]
  },
  {
   "cell_type": "code",
   "execution_count": 6,
   "metadata": {},
   "outputs": [
    {
     "data": {
      "application/javascript": [
       "\n",
       "            setTimeout(function() {\n",
       "                var nbb_cell_id = 6;\n",
       "                var nbb_unformatted_code = \"def DEA_calc(\\n    dir_data=dir_data,\\n    xls=xls,\\n    sheet_name=sheet_name,\\n    weight_vector=weight_vector,\\n    undout_columns=undout_columns,\\n    disp=\\\"weak disposability\\\",\\n    returns=\\\"CRS\\\",\\n):\\n    data_in = read_inoutData(dir_data, xls, sheet_name, input_columns)\\n    data_out = read_inoutData(dir_data, xls, sheet_name, output_columns)\\n    data_undout = read_inoutData(dir_data, xls, sheet_name, undout_columns)\\n    names = read_inoutData(dir_data, xls, sheet_name, name_columns).reset_index(\\n        drop=True\\n    )\\n\\n    solve = DEAProblem(\\n        data_in, data_out, data_undout, weight_vector, disp=disp, returns=returns\\n    ).solve()\\n\\n    status = pd.DataFrame.from_dict(solve[0], orient=\\\"index\\\", columns=[\\\"status\\\"])\\n    efficiency = pd.DataFrame.from_dict(\\n        solve[1], orient=\\\"index\\\", columns=[\\\"efficiency\\\"]\\n    )\\n    weight = pd.DataFrame.from_dict(solve[2], orient=\\\"index\\\")\\n\\n    results = pd.concat([names, status, efficiency, weight], axis=1)\\n    return results.round(decimals=4)\";\n",
       "                var nbb_formatted_code = \"def DEA_calc(\\n    dir_data=dir_data,\\n    xls=xls,\\n    sheet_name=sheet_name,\\n    weight_vector=weight_vector,\\n    undout_columns=undout_columns,\\n    disp=\\\"weak disposability\\\",\\n    returns=\\\"CRS\\\",\\n):\\n    data_in = read_inoutData(dir_data, xls, sheet_name, input_columns)\\n    data_out = read_inoutData(dir_data, xls, sheet_name, output_columns)\\n    data_undout = read_inoutData(dir_data, xls, sheet_name, undout_columns)\\n    names = read_inoutData(dir_data, xls, sheet_name, name_columns).reset_index(\\n        drop=True\\n    )\\n\\n    solve = DEAProblem(\\n        data_in, data_out, data_undout, weight_vector, disp=disp, returns=returns\\n    ).solve()\\n\\n    status = pd.DataFrame.from_dict(solve[0], orient=\\\"index\\\", columns=[\\\"status\\\"])\\n    efficiency = pd.DataFrame.from_dict(\\n        solve[1], orient=\\\"index\\\", columns=[\\\"efficiency\\\"]\\n    )\\n    weight = pd.DataFrame.from_dict(solve[2], orient=\\\"index\\\")\\n\\n    results = pd.concat([names, status, efficiency, weight], axis=1)\\n    return results.round(decimals=4)\";\n",
       "                var nbb_cells = Jupyter.notebook.get_cells();\n",
       "                for (var i = 0; i < nbb_cells.length; ++i) {\n",
       "                    if (nbb_cells[i].input_prompt_number == nbb_cell_id) {\n",
       "                        if (nbb_cells[i].get_text() == nbb_unformatted_code) {\n",
       "                             nbb_cells[i].set_text(nbb_formatted_code);\n",
       "                        }\n",
       "                        break;\n",
       "                    }\n",
       "                }\n",
       "            }, 500);\n",
       "            "
      ],
      "text/plain": [
       "<IPython.core.display.Javascript object>"
      ]
     },
     "metadata": {},
     "output_type": "display_data"
    }
   ],
   "source": [
    "def DEA_calc(\n",
    "    dir_data=dir_data,\n",
    "    xls=xls,\n",
    "    sheet_name=sheet_name,\n",
    "    weight_vector=weight_vector,\n",
    "    undout_columns=undout_columns,\n",
    "    disp=\"weak disposability\",\n",
    "    returns=\"CRS\",\n",
    "):\n",
    "    data_in = read_inoutData(dir_data, xls, sheet_name, input_columns)\n",
    "    data_out = read_inoutData(dir_data, xls, sheet_name, output_columns)\n",
    "    data_undout = read_inoutData(dir_data, xls, sheet_name, undout_columns)\n",
    "    names = read_inoutData(dir_data, xls, sheet_name, name_columns).reset_index(\n",
    "        drop=True\n",
    "    )\n",
    "\n",
    "    solve = DEAProblem(\n",
    "        data_in, data_out, data_undout, weight_vector, disp=disp, returns=returns\n",
    "    ).solve()\n",
    "\n",
    "    status = pd.DataFrame.from_dict(solve[0], orient=\"index\", columns=[\"status\"])\n",
    "    efficiency = pd.DataFrame.from_dict(\n",
    "        solve[1], orient=\"index\", columns=[\"efficiency\"]\n",
    "    )\n",
    "    weight = pd.DataFrame.from_dict(solve[2], orient=\"index\")\n",
    "\n",
    "    results = pd.concat([names, status, efficiency, weight], axis=1)\n",
    "    return results.round(decimals=4)"
   ]
  },
  {
   "cell_type": "code",
   "execution_count": 7,
   "metadata": {},
   "outputs": [
    {
     "data": {
      "text/plain": [
       "'C:\\\\Users\\\\sheep\\\\Codes'"
      ]
     },
     "execution_count": 7,
     "metadata": {},
     "output_type": "execute_result"
    },
    {
     "data": {
      "application/javascript": [
       "\n",
       "            setTimeout(function() {\n",
       "                var nbb_cell_id = 7;\n",
       "                var nbb_unformatted_code = \"os.getcwd()\";\n",
       "                var nbb_formatted_code = \"os.getcwd()\";\n",
       "                var nbb_cells = Jupyter.notebook.get_cells();\n",
       "                for (var i = 0; i < nbb_cells.length; ++i) {\n",
       "                    if (nbb_cells[i].input_prompt_number == nbb_cell_id) {\n",
       "                        if (nbb_cells[i].get_text() == nbb_unformatted_code) {\n",
       "                             nbb_cells[i].set_text(nbb_formatted_code);\n",
       "                        }\n",
       "                        break;\n",
       "                    }\n",
       "                }\n",
       "            }, 500);\n",
       "            "
      ],
      "text/plain": [
       "<IPython.core.display.Javascript object>"
      ]
     },
     "metadata": {},
     "output_type": "display_data"
    }
   ],
   "source": [
    "os.getcwd()"
   ]
  },
  {
   "cell_type": "code",
   "execution_count": 30,
   "metadata": {},
   "outputs": [
    {
     "data": {
      "application/javascript": [
       "\n",
       "            setTimeout(function() {\n",
       "                var nbb_cell_id = 30;\n",
       "                var nbb_unformatted_code = \"weight_vector_CEE = [0, 0, 0, 0, 1]  # carbon emission efficiency\\nweight_vector_CEP = [0, 0, 0, 1 / 2, 1 / 2]  # carbon economic performance\\nweight_vector_CEEP = [0, 0, 1 / 3, 1 / 3, 1 / 3]  # carbon energy economic performance\\nweight_vector_CPP = [1 / 9, 1/9, 1/9, 1/3, 1 / 3]  # carbon energy economic performance\";\n",
       "                var nbb_formatted_code = \"weight_vector_CEE = [0, 0, 0, 0, 1]  # carbon emission efficiency\\nweight_vector_CEP = [0, 0, 0, 1 / 2, 1 / 2]  # carbon economic performance\\nweight_vector_CEEP = [0, 0, 1 / 3, 1 / 3, 1 / 3]  # carbon energy economic performance\\nweight_vector_CPP = [\\n    1 / 9,\\n    1 / 9,\\n    1 / 9,\\n    1 / 3,\\n    1 / 3,\\n]  # carbon energy economic performance\";\n",
       "                var nbb_cells = Jupyter.notebook.get_cells();\n",
       "                for (var i = 0; i < nbb_cells.length; ++i) {\n",
       "                    if (nbb_cells[i].input_prompt_number == nbb_cell_id) {\n",
       "                        if (nbb_cells[i].get_text() == nbb_unformatted_code) {\n",
       "                             nbb_cells[i].set_text(nbb_formatted_code);\n",
       "                        }\n",
       "                        break;\n",
       "                    }\n",
       "                }\n",
       "            }, 500);\n",
       "            "
      ],
      "text/plain": [
       "<IPython.core.display.Javascript object>"
      ]
     },
     "metadata": {},
     "output_type": "display_data"
    }
   ],
   "source": [
    "weight_vector_CEE = [0, 0, 0, 0, 1]  # carbon emission efficiency\n",
    "weight_vector_CEP = [0, 0, 0, 1 / 2, 1 / 2]  # carbon economic performance\n",
    "weight_vector_CEEP = [0, 0, 1 / 3, 1 / 3, 1 / 3]  # carbon energy economic performance\n",
    "weight_vector_CPP = [\n",
    "    1 / 9,\n",
    "    1 / 9,\n",
    "    1 / 9,\n",
    "    1 / 3,\n",
    "    1 / 3,\n",
    "]  # carbon energy economic performance"
   ]
  },
  {
   "cell_type": "code",
   "execution_count": 31,
   "metadata": {},
   "outputs": [
    {
     "data": {
      "application/javascript": [
       "\n",
       "            setTimeout(function() {\n",
       "                var nbb_cell_id = 31;\n",
       "                var nbb_unformatted_code = \"DEA_results_CEE = DEA_calc(weight_vector=weight_vector_CEE)\\nDEA_results_CEP = DEA_calc(weight_vector=weight_vector_CEP)\\nDEA_results_CEEP = DEA_calc(weight_vector=weight_vector_CEEP)\\nDEA_results_CPP = DEA_calc(weight_vector=weight_vector_CPP)\";\n",
       "                var nbb_formatted_code = \"DEA_results_CEE = DEA_calc(weight_vector=weight_vector_CEE)\\nDEA_results_CEP = DEA_calc(weight_vector=weight_vector_CEP)\\nDEA_results_CEEP = DEA_calc(weight_vector=weight_vector_CEEP)\\nDEA_results_CPP = DEA_calc(weight_vector=weight_vector_CPP)\";\n",
       "                var nbb_cells = Jupyter.notebook.get_cells();\n",
       "                for (var i = 0; i < nbb_cells.length; ++i) {\n",
       "                    if (nbb_cells[i].input_prompt_number == nbb_cell_id) {\n",
       "                        if (nbb_cells[i].get_text() == nbb_unformatted_code) {\n",
       "                             nbb_cells[i].set_text(nbb_formatted_code);\n",
       "                        }\n",
       "                        break;\n",
       "                    }\n",
       "                }\n",
       "            }, 500);\n",
       "            "
      ],
      "text/plain": [
       "<IPython.core.display.Javascript object>"
      ]
     },
     "metadata": {},
     "output_type": "display_data"
    }
   ],
   "source": [
    "DEA_results_CEE = DEA_calc(weight_vector=weight_vector_CEE)\n",
    "DEA_results_CEP = DEA_calc(weight_vector=weight_vector_CEP)\n",
    "DEA_results_CEEP = DEA_calc(weight_vector=weight_vector_CEEP)\n",
    "DEA_results_CPP = DEA_calc(weight_vector=weight_vector_CPP)"
   ]
  },
  {
   "cell_type": "code",
   "execution_count": 32,
   "metadata": {},
   "outputs": [
    {
     "data": {
      "application/javascript": [
       "\n",
       "            setTimeout(function() {\n",
       "                var nbb_cell_id = 32;\n",
       "                var nbb_unformatted_code = \"with ExcelWriter(\\\"DEA_results.xlsx\\\") as writer:\\n    DEA_results_CEE.to_excel(writer, sheet_name=\\\"CEE\\\")\\n    DEA_results_CEP.to_excel(writer, sheet_name=\\\"CEP\\\")\\n    DEA_results_CEEP.to_excel(writer, sheet_name=\\\"CEEP\\\")\\n    DEA_results_CPP.to_excel(writer, sheet_name=\\\"CPP\\\")\";\n",
       "                var nbb_formatted_code = \"with ExcelWriter(\\\"DEA_results.xlsx\\\") as writer:\\n    DEA_results_CEE.to_excel(writer, sheet_name=\\\"CEE\\\")\\n    DEA_results_CEP.to_excel(writer, sheet_name=\\\"CEP\\\")\\n    DEA_results_CEEP.to_excel(writer, sheet_name=\\\"CEEP\\\")\\n    DEA_results_CPP.to_excel(writer, sheet_name=\\\"CPP\\\")\";\n",
       "                var nbb_cells = Jupyter.notebook.get_cells();\n",
       "                for (var i = 0; i < nbb_cells.length; ++i) {\n",
       "                    if (nbb_cells[i].input_prompt_number == nbb_cell_id) {\n",
       "                        if (nbb_cells[i].get_text() == nbb_unformatted_code) {\n",
       "                             nbb_cells[i].set_text(nbb_formatted_code);\n",
       "                        }\n",
       "                        break;\n",
       "                    }\n",
       "                }\n",
       "            }, 500);\n",
       "            "
      ],
      "text/plain": [
       "<IPython.core.display.Javascript object>"
      ]
     },
     "metadata": {},
     "output_type": "display_data"
    }
   ],
   "source": [
    "with ExcelWriter(\"DEA_results.xlsx\") as writer:\n",
    "    DEA_results_CEE.to_excel(writer, sheet_name=\"CEE\")\n",
    "    DEA_results_CEP.to_excel(writer, sheet_name=\"CEP\")\n",
    "    DEA_results_CEEP.to_excel(writer, sheet_name=\"CEEP\")\n",
    "    DEA_results_CPP.to_excel(writer, sheet_name=\"CPP\")"
   ]
  },
  {
   "cell_type": "markdown",
   "metadata": {},
   "source": [
    "# Radar Diagram"
   ]
  },
  {
   "cell_type": "code",
   "execution_count": 11,
   "metadata": {},
   "outputs": [
    {
     "data": {
      "application/javascript": [
       "\n",
       "            setTimeout(function() {\n",
       "                var nbb_cell_id = 11;\n",
       "                var nbb_unformatted_code = \"def read_expan_fac(sheet_name, file_name=\\\"DEA_results.xlsx\\\"):\\n    df = pd.read_excel(file_name, sheet_name=sheet_name)\\n    df_name = df.iloc[:, :4]\\n    df_expanFac = df.iloc[:, -5:]\\n    df_expan_fac = pd.concat([df_name, df_expanFac], axis=1)\\n    return df_expan_fac\";\n",
       "                var nbb_formatted_code = \"def read_expan_fac(sheet_name, file_name=\\\"DEA_results.xlsx\\\"):\\n    df = pd.read_excel(file_name, sheet_name=sheet_name)\\n    df_name = df.iloc[:, :4]\\n    df_expanFac = df.iloc[:, -5:]\\n    df_expan_fac = pd.concat([df_name, df_expanFac], axis=1)\\n    return df_expan_fac\";\n",
       "                var nbb_cells = Jupyter.notebook.get_cells();\n",
       "                for (var i = 0; i < nbb_cells.length; ++i) {\n",
       "                    if (nbb_cells[i].input_prompt_number == nbb_cell_id) {\n",
       "                        if (nbb_cells[i].get_text() == nbb_unformatted_code) {\n",
       "                             nbb_cells[i].set_text(nbb_formatted_code);\n",
       "                        }\n",
       "                        break;\n",
       "                    }\n",
       "                }\n",
       "            }, 500);\n",
       "            "
      ],
      "text/plain": [
       "<IPython.core.display.Javascript object>"
      ]
     },
     "metadata": {},
     "output_type": "display_data"
    }
   ],
   "source": [
    "def read_expan_fac(sheet_name, file_name=\"DEA_results.xlsx\"):\n",
    "    df = pd.read_excel(file_name, sheet_name=sheet_name)\n",
    "    df_name = df.iloc[:, :4]\n",
    "    df_expanFac = df.iloc[:, -5:]\n",
    "    df_expan_fac = pd.concat([df_name, df_expanFac], axis=1)\n",
    "    return df_expan_fac"
   ]
  },
  {
   "cell_type": "code",
   "execution_count": 48,
   "metadata": {},
   "outputs": [
    {
     "data": {
      "application/javascript": [
       "\n",
       "            setTimeout(function() {\n",
       "                var nbb_cell_id = 48;\n",
       "                var nbb_unformatted_code = \"# calc carbon emission efficiency\\n# df_CEE = read_expan_fac(\\\"CEE\\\")\\n# df_CEE[\\\"CEE\\\"] = 1 - df_CEE[\\\"scalingFactor_b_0\\\"]\\n\\n# calc carbon economic performance\\n# df_CEP = read_expan_fac(\\\"CEP\\\")\\n# df_CEP[\\\"CEP\\\"] = (1 - df_CEP[\\\"scalingFactor_b_0\\\"]) / (1 + df_CEP[\\\"scalingFactor_y_0\\\"])\\n\\n# calc carbon economic energy performance\\n# df_CEEP = read_expan_fac(\\\"CEEP\\\")\\n# df_CEEP[\\\"CEEP\\\"] = (\\n#     1 - (df_CEEP[\\\"scalingFactor_b_0\\\"] + df_CEEP[\\\"scalingFactor_x_2\\\"]) / 2\\n# ) / (1 + df_CEEP[\\\"scalingFactor_y_0\\\"])\\n\\n# calc carbon population performance\\ndf_CPP = read_expan_fac(\\\"CPP\\\")\\ndf_CPP[\\\"CEE\\\"] = 1 - df_CPP[\\\"scalingFactor_b_0\\\"]\\ndf_CPP[\\\"CEP\\\"] = (1 - df_CPP[\\\"scalingFactor_b_0\\\"]) / (1 + df_CPP[\\\"scalingFactor_y_0\\\"])\\ndf_CPP[\\\"CEEP\\\"] = (\\n    1 - (df_CPP[\\\"scalingFactor_b_0\\\"] + df_CPP[\\\"scalingFactor_x_2\\\"]) / 2\\n) / (1 + df_CPP[\\\"scalingFactor_y_0\\\"])\\n\\ndf_CPP[\\\"CPP\\\"] = ((1 - df_CPP[\\\"scalingFactor_b_0\\\"]) + (1 - df_CPP[\\\"scalingFactor_x_0\\\"]))/2\\ndf_CPP[\\\"CPI\\\"] = (1 - df_CPP[\\\"scalingFactor_b_0\\\"]) / (1 - df_CPP[\\\"scalingFactor_x_0\\\"])\";\n",
       "                var nbb_formatted_code = \"# calc carbon emission efficiency\\n# df_CEE = read_expan_fac(\\\"CEE\\\")\\n# df_CEE[\\\"CEE\\\"] = 1 - df_CEE[\\\"scalingFactor_b_0\\\"]\\n\\n# calc carbon economic performance\\n# df_CEP = read_expan_fac(\\\"CEP\\\")\\n# df_CEP[\\\"CEP\\\"] = (1 - df_CEP[\\\"scalingFactor_b_0\\\"]) / (1 + df_CEP[\\\"scalingFactor_y_0\\\"])\\n\\n# calc carbon economic energy performance\\n# df_CEEP = read_expan_fac(\\\"CEEP\\\")\\n# df_CEEP[\\\"CEEP\\\"] = (\\n#     1 - (df_CEEP[\\\"scalingFactor_b_0\\\"] + df_CEEP[\\\"scalingFactor_x_2\\\"]) / 2\\n# ) / (1 + df_CEEP[\\\"scalingFactor_y_0\\\"])\\n\\n# calc carbon population performance\\ndf_CPP = read_expan_fac(\\\"CPP\\\")\\ndf_CPP[\\\"CEE\\\"] = 1 - df_CPP[\\\"scalingFactor_b_0\\\"]\\ndf_CPP[\\\"CEP\\\"] = (1 - df_CPP[\\\"scalingFactor_b_0\\\"]) / (1 + df_CPP[\\\"scalingFactor_y_0\\\"])\\ndf_CPP[\\\"CEEP\\\"] = (\\n    1 - (df_CPP[\\\"scalingFactor_b_0\\\"] + df_CPP[\\\"scalingFactor_x_2\\\"]) / 2\\n) / (1 + df_CPP[\\\"scalingFactor_y_0\\\"])\\n\\ndf_CPP[\\\"CPP\\\"] = (\\n    (1 - df_CPP[\\\"scalingFactor_b_0\\\"]) + (1 - df_CPP[\\\"scalingFactor_x_0\\\"])\\n) / 2\\ndf_CPP[\\\"CPI\\\"] = (1 - df_CPP[\\\"scalingFactor_b_0\\\"]) / (1 - df_CPP[\\\"scalingFactor_x_0\\\"])\";\n",
       "                var nbb_cells = Jupyter.notebook.get_cells();\n",
       "                for (var i = 0; i < nbb_cells.length; ++i) {\n",
       "                    if (nbb_cells[i].input_prompt_number == nbb_cell_id) {\n",
       "                        if (nbb_cells[i].get_text() == nbb_unformatted_code) {\n",
       "                             nbb_cells[i].set_text(nbb_formatted_code);\n",
       "                        }\n",
       "                        break;\n",
       "                    }\n",
       "                }\n",
       "            }, 500);\n",
       "            "
      ],
      "text/plain": [
       "<IPython.core.display.Javascript object>"
      ]
     },
     "metadata": {},
     "output_type": "display_data"
    }
   ],
   "source": [
    "# calc carbon emission efficiency\n",
    "# df_CEE = read_expan_fac(\"CEE\")\n",
    "# df_CEE[\"CEE\"] = 1 - df_CEE[\"scalingFactor_b_0\"]\n",
    "\n",
    "# calc carbon economic performance\n",
    "# df_CEP = read_expan_fac(\"CEP\")\n",
    "# df_CEP[\"CEP\"] = (1 - df_CEP[\"scalingFactor_b_0\"]) / (1 + df_CEP[\"scalingFactor_y_0\"])\n",
    "\n",
    "# calc carbon economic energy performance\n",
    "# df_CEEP = read_expan_fac(\"CEEP\")\n",
    "# df_CEEP[\"CEEP\"] = (\n",
    "#     1 - (df_CEEP[\"scalingFactor_b_0\"] + df_CEEP[\"scalingFactor_x_2\"]) / 2\n",
    "# ) / (1 + df_CEEP[\"scalingFactor_y_0\"])\n",
    "\n",
    "# calc carbon population performance\n",
    "df_CPP = read_expan_fac(\"CPP\")\n",
    "df_CPP[\"CEE\"] = 1 - df_CPP[\"scalingFactor_b_0\"]\n",
    "df_CPP[\"CEP\"] = (1 - df_CPP[\"scalingFactor_b_0\"]) / (1 + df_CPP[\"scalingFactor_y_0\"])\n",
    "df_CPP[\"CEEP\"] = (\n",
    "    1 - (df_CPP[\"scalingFactor_b_0\"] + df_CPP[\"scalingFactor_x_2\"]) / 2\n",
    ") / (1 + df_CPP[\"scalingFactor_y_0\"])\n",
    "\n",
    "df_CPP[\"CPP\"] = ((1 - df_CPP[\"scalingFactor_b_0\"]) + (1 - df_CPP[\"scalingFactor_x_0\"]))/2\n",
    "df_CPP[\"CPI\"] = (1 - df_CPP[\"scalingFactor_b_0\"]) / (1 - df_CPP[\"scalingFactor_x_0\"])\n"
   ]
  },
  {
   "cell_type": "code",
   "execution_count": 13,
   "metadata": {},
   "outputs": [
    {
     "data": {
      "application/javascript": [
       "\n",
       "            setTimeout(function() {\n",
       "                var nbb_cell_id = 13;\n",
       "                var nbb_unformatted_code = \"def performance_year(df_DEA, year):\\n    \\\"\\\"\\\"\\n    This function get AEE of each year so to draw radar graph\\n\\n    screen_eff(AEE_df,year):\\n\\n        Return\\n        ------\\n        eff_year: DataFrame, AEE of each DMU in the selected year\\n\\n        Parameters\\n        ----------\\n        AEE_df: DataFrame, efficiency  results of the global DEA model\\n        year: int, the year selected for drawing radar graph\\n\\n    \\\"\\\"\\\"\\n    eff_year = df_DEA[df_DEA.loc[:, \\\"year\\\"] == year]\\n    return eff_year\";\n",
       "                var nbb_formatted_code = \"def performance_year(df_DEA, year):\\n    \\\"\\\"\\\"\\n    This function get AEE of each year so to draw radar graph\\n\\n    screen_eff(AEE_df,year):\\n\\n        Return\\n        ------\\n        eff_year: DataFrame, AEE of each DMU in the selected year\\n\\n        Parameters\\n        ----------\\n        AEE_df: DataFrame, efficiency  results of the global DEA model\\n        year: int, the year selected for drawing radar graph\\n\\n    \\\"\\\"\\\"\\n    eff_year = df_DEA[df_DEA.loc[:, \\\"year\\\"] == year]\\n    return eff_year\";\n",
       "                var nbb_cells = Jupyter.notebook.get_cells();\n",
       "                for (var i = 0; i < nbb_cells.length; ++i) {\n",
       "                    if (nbb_cells[i].input_prompt_number == nbb_cell_id) {\n",
       "                        if (nbb_cells[i].get_text() == nbb_unformatted_code) {\n",
       "                             nbb_cells[i].set_text(nbb_formatted_code);\n",
       "                        }\n",
       "                        break;\n",
       "                    }\n",
       "                }\n",
       "            }, 500);\n",
       "            "
      ],
      "text/plain": [
       "<IPython.core.display.Javascript object>"
      ]
     },
     "metadata": {},
     "output_type": "display_data"
    }
   ],
   "source": [
    "def performance_year(df_DEA, year):\n",
    "    \"\"\"\n",
    "    This function get AEE of each year so to draw radar graph\n",
    "\n",
    "    screen_eff(AEE_df,year):\n",
    "\n",
    "        Return\n",
    "        ------\n",
    "        eff_year: DataFrame, AEE of each DMU in the selected year\n",
    "\n",
    "        Parameters\n",
    "        ----------\n",
    "        AEE_df: DataFrame, efficiency  results of the global DEA model\n",
    "        year: int, the year selected for drawing radar graph\n",
    "\n",
    "    \"\"\"\n",
    "    eff_year = df_DEA[df_DEA.loc[:, \"year\"] == year]\n",
    "    return eff_year"
   ]
  },
  {
   "cell_type": "code",
   "execution_count": 15,
   "metadata": {},
   "outputs": [
    {
     "data": {
      "application/javascript": [
       "\n",
       "            setTimeout(function() {\n",
       "                var nbb_cell_id = 15;\n",
       "                var nbb_unformatted_code = \"def Line(line_style, line_color, line_width):\\n    \\\"\\\"\\\"\\n    This function generate a plotly line object\\n    \\\"\\\"\\\"\\n    Line = go.scatterpolar.Line(dash=line_style, color=line_color, width=line_width)\\n    return Line\";\n",
       "                var nbb_formatted_code = \"def Line(line_style, line_color, line_width):\\n    \\\"\\\"\\\"\\n    This function generate a plotly line object\\n    \\\"\\\"\\\"\\n    Line = go.scatterpolar.Line(dash=line_style, color=line_color, width=line_width)\\n    return Line\";\n",
       "                var nbb_cells = Jupyter.notebook.get_cells();\n",
       "                for (var i = 0; i < nbb_cells.length; ++i) {\n",
       "                    if (nbb_cells[i].input_prompt_number == nbb_cell_id) {\n",
       "                        if (nbb_cells[i].get_text() == nbb_unformatted_code) {\n",
       "                             nbb_cells[i].set_text(nbb_formatted_code);\n",
       "                        }\n",
       "                        break;\n",
       "                    }\n",
       "                }\n",
       "            }, 500);\n",
       "            "
      ],
      "text/plain": [
       "<IPython.core.display.Javascript object>"
      ]
     },
     "metadata": {},
     "output_type": "display_data"
    }
   ],
   "source": [
    "def Line(line_style, line_color, line_width):\n",
    "    \"\"\"\n",
    "    This function generate a plotly line object\n",
    "    \"\"\"\n",
    "    Line = go.scatterpolar.Line(dash=line_style, color=line_color, width=line_width)\n",
    "    return Line"
   ]
  },
  {
   "cell_type": "code",
   "execution_count": 16,
   "metadata": {},
   "outputs": [
    {
     "data": {
      "application/javascript": [
       "\n",
       "            setTimeout(function() {\n",
       "                var nbb_cell_id = 16;\n",
       "                var nbb_unformatted_code = \"colors = plt.get_cmap(\\\"tab20\\\", 18).colors\\ncolors[2] = [0.9, 0.498, 0.054, 1.0] # \\u56e0\\u4e3a\\u539f\\u59cb\\u7684[1.0, 0.498, 0.054, 1.0]\\u65e0\\u6cd5\\u6b63\\u786e\\u663e\\u793a\\u989c\\u8272\\uff0c\\u6545\\u6539\\u6210[0.9, 0.498, 0.054, 1.0]\\ncolors[3] = [0.9, 0.733, 0.470, 1.0]\\ncolor_line = colors\\ncolor_fill = [np.append(i[:3], 0.01) for i in colors]\\ncolors_line = [\\\"rgba\\\" + str(tuple(i)) for i in color_line]\\ncolors_fill = [\\\"rgba\\\" + str(tuple(i)) for i in color_fill]\";\n",
       "                var nbb_formatted_code = \"colors = plt.get_cmap(\\\"tab20\\\", 18).colors\\ncolors[2] = [\\n    0.9,\\n    0.498,\\n    0.054,\\n    1.0,\\n]  # \\u56e0\\u4e3a\\u539f\\u59cb\\u7684[1.0, 0.498, 0.054, 1.0]\\u65e0\\u6cd5\\u6b63\\u786e\\u663e\\u793a\\u989c\\u8272\\uff0c\\u6545\\u6539\\u6210[0.9, 0.498, 0.054, 1.0]\\ncolors[3] = [0.9, 0.733, 0.470, 1.0]\\ncolor_line = colors\\ncolor_fill = [np.append(i[:3], 0.01) for i in colors]\\ncolors_line = [\\\"rgba\\\" + str(tuple(i)) for i in color_line]\\ncolors_fill = [\\\"rgba\\\" + str(tuple(i)) for i in color_fill]\";\n",
       "                var nbb_cells = Jupyter.notebook.get_cells();\n",
       "                for (var i = 0; i < nbb_cells.length; ++i) {\n",
       "                    if (nbb_cells[i].input_prompt_number == nbb_cell_id) {\n",
       "                        if (nbb_cells[i].get_text() == nbb_unformatted_code) {\n",
       "                             nbb_cells[i].set_text(nbb_formatted_code);\n",
       "                        }\n",
       "                        break;\n",
       "                    }\n",
       "                }\n",
       "            }, 500);\n",
       "            "
      ],
      "text/plain": [
       "<IPython.core.display.Javascript object>"
      ]
     },
     "metadata": {},
     "output_type": "display_data"
    }
   ],
   "source": [
    "colors = plt.get_cmap(\"tab20\", 18).colors\n",
    "colors[2] = [\n",
    "    0.9,\n",
    "    0.498,\n",
    "    0.054,\n",
    "    1.0,\n",
    "]  # 因为原始的[1.0, 0.498, 0.054, 1.0]无法正确显示颜色，故改成[0.9, 0.498, 0.054, 1.0]\n",
    "colors[3] = [0.9, 0.733, 0.470, 1.0]\n",
    "color_line = colors\n",
    "color_fill = [np.append(i[:3], 0.01) for i in colors]\n",
    "colors_line = [\"rgba\" + str(tuple(i)) for i in color_line]\n",
    "colors_fill = [\"rgba\" + str(tuple(i)) for i in color_fill]"
   ]
  },
  {
   "cell_type": "code",
   "execution_count": 28,
   "metadata": {},
   "outputs": [
    {
     "data": {
      "application/javascript": [
       "\n",
       "            setTimeout(function() {\n",
       "                var nbb_cell_id = 28;\n",
       "                var nbb_unformatted_code = \"def radar_chart(\\n    performance_df,  # options: df_CEE, df_CEP, df_CEEP, df_CPP\\n    performance_index,  # options: \\\"CEE\\\", \\\"CEP\\\", \\\"CEEP\\\", \\\"CPP\\\"\\n    year_range=range(2000, 2018),  # year range of the observation\\n    colors_line=colors_line,\\n    colors_fill=colors_fill,\\n):\\n    layout = go.Layout(\\n        polar={\\n            \\\"bgcolor\\\": \\\"rgba(0,0,0,0)\\\",  # set background color\\n            \\\"gridshape\\\": \\\"linear\\\",  # set the grid style of the radar\\n            \\\"radialaxis\\\": {\\\"showticklabels\\\": False, \\\"gridcolor\\\": \\\"black\\\"},  # grid color\\n            \\\"angularaxis\\\": {\\n                \\\"linecolor\\\": \\\"black\\\",\\n                \\\"linewidth\\\": 4,\\n                \\\"gridcolor\\\": \\\"black\\\",\\n            },\\n        },\\n        plot_bgcolor=\\\"rgba(0,0,0,0)\\\",\\n    )\\n    fig = go.Figure(layout=layout)\\n\\n    for year, color_line, color_fill in zip(year_range, colors_line, colors_fill):\\n        performance_year_df = performance_year(\\n            performance_df, year\\n        )  # generate data of each year for plotting\\n        performance_year_df = performance_year_df.append(\\n            performance_year_df.iloc[0]\\n        )  # to close the line, We need append the first element to the last\\n        fig.add_trace(\\n            go.Scatterpolar(\\n                r=performance_year_df.loc[\\n                    :, performance_index\\n                ],  # set the data to plot radar chart\\n                theta=performance_year_df.loc[\\n                    :, \\\"Country\\\"\\n                ],  # set the category name of each\\n                line=Line(\\\"dash\\\", color_line, 3),  # set the line aesthetics\\n                fillcolor=color_fill,  # set the fill color\\n                fill=\\\"toself\\\",  # fill the inner part of the content\\n                name=\\\"Year \\\" + str(year),  # set the name of the series of data\\n            )\\n        )\\n\\n    fig.update_layout(\\n        polar=dict(\\n            radialaxis=dict(\\n                visible=True, range=[0, max(performance_df.loc[:,performance_index])]\\n            )\\n        ),  # set the visibility of radial axis & the range of polar axis\\n        showlegend=True,  # set the visibility of legend\\n        legend=dict(y=1.1, x=0.9),  # set the position of legend\\n        #         width=800, used for displaying a full legend\\n        #         height=800,\\n    )\\n    fig.show()\\n    fig.write_image(\\n        os.path.join(\\n            r\\\"D:\\\\tencent_files\\\\chrome_Download\\\\Research\\\\DEA\\\\DEA_RCEP\\\\Graph\\\",\\n            performance_index + \\\"_radar.png\\\",\\n        )\\n    )  # write_image to export high-resolution chart, default export engine: orca\";\n",
       "                var nbb_formatted_code = \"def radar_chart(\\n    performance_df,  # options: df_CEE, df_CEP, df_CEEP, df_CPP\\n    performance_index,  # options: \\\"CEE\\\", \\\"CEP\\\", \\\"CEEP\\\", \\\"CPP\\\"\\n    year_range=range(2000, 2018),  # year range of the observation\\n    colors_line=colors_line,\\n    colors_fill=colors_fill,\\n):\\n    layout = go.Layout(\\n        polar={\\n            \\\"bgcolor\\\": \\\"rgba(0,0,0,0)\\\",  # set background color\\n            \\\"gridshape\\\": \\\"linear\\\",  # set the grid style of the radar\\n            \\\"radialaxis\\\": {\\\"showticklabels\\\": False, \\\"gridcolor\\\": \\\"black\\\"},  # grid color\\n            \\\"angularaxis\\\": {\\n                \\\"linecolor\\\": \\\"black\\\",\\n                \\\"linewidth\\\": 4,\\n                \\\"gridcolor\\\": \\\"black\\\",\\n            },\\n        },\\n        plot_bgcolor=\\\"rgba(0,0,0,0)\\\",\\n    )\\n    fig = go.Figure(layout=layout)\\n\\n    for year, color_line, color_fill in zip(year_range, colors_line, colors_fill):\\n        performance_year_df = performance_year(\\n            performance_df, year\\n        )  # generate data of each year for plotting\\n        performance_year_df = performance_year_df.append(\\n            performance_year_df.iloc[0]\\n        )  # to close the line, We need append the first element to the last\\n        fig.add_trace(\\n            go.Scatterpolar(\\n                r=performance_year_df.loc[\\n                    :, performance_index\\n                ],  # set the data to plot radar chart\\n                theta=performance_year_df.loc[\\n                    :, \\\"Country\\\"\\n                ],  # set the category name of each\\n                line=Line(\\\"dash\\\", color_line, 3),  # set the line aesthetics\\n                fillcolor=color_fill,  # set the fill color\\n                fill=\\\"toself\\\",  # fill the inner part of the content\\n                name=\\\"Year \\\" + str(year),  # set the name of the series of data\\n            )\\n        )\\n\\n    fig.update_layout(\\n        polar=dict(\\n            radialaxis=dict(\\n                visible=True, range=[0, max(performance_df.loc[:, performance_index])]\\n            )\\n        ),  # set the visibility of radial axis & the range of polar axis\\n        showlegend=True,  # set the visibility of legend\\n        legend=dict(y=1.1, x=0.9),  # set the position of legend\\n        #         width=800, used for displaying a full legend\\n        #         height=800,\\n    )\\n    fig.show()\\n    fig.write_image(\\n        os.path.join(\\n            r\\\"D:\\\\tencent_files\\\\chrome_Download\\\\Research\\\\DEA\\\\DEA_RCEP\\\\Graph\\\",\\n            performance_index + \\\"_radar.png\\\",\\n        )\\n    )  # write_image to export high-resolution chart, default export engine: orca\";\n",
       "                var nbb_cells = Jupyter.notebook.get_cells();\n",
       "                for (var i = 0; i < nbb_cells.length; ++i) {\n",
       "                    if (nbb_cells[i].input_prompt_number == nbb_cell_id) {\n",
       "                        if (nbb_cells[i].get_text() == nbb_unformatted_code) {\n",
       "                             nbb_cells[i].set_text(nbb_formatted_code);\n",
       "                        }\n",
       "                        break;\n",
       "                    }\n",
       "                }\n",
       "            }, 500);\n",
       "            "
      ],
      "text/plain": [
       "<IPython.core.display.Javascript object>"
      ]
     },
     "metadata": {},
     "output_type": "display_data"
    }
   ],
   "source": [
    "def radar_chart(\n",
    "    performance_df,  # options: df_CEE, df_CEP, df_CEEP, df_CPP\n",
    "    performance_index,  # options: \"CEE\", \"CEP\", \"CEEP\", \"CPP\"\n",
    "    year_range=range(2000, 2018),  # year range of the observation\n",
    "    colors_line=colors_line,\n",
    "    colors_fill=colors_fill,\n",
    "):\n",
    "    layout = go.Layout(\n",
    "        polar={\n",
    "            \"bgcolor\": \"rgba(0,0,0,0)\",  # set background color\n",
    "            \"gridshape\": \"linear\",  # set the grid style of the radar\n",
    "            \"radialaxis\": {\"showticklabels\": False, \"gridcolor\": \"black\"},  # grid color\n",
    "            \"angularaxis\": {\n",
    "                \"linecolor\": \"black\",\n",
    "                \"linewidth\": 4,\n",
    "                \"gridcolor\": \"black\",\n",
    "            },\n",
    "        },\n",
    "        plot_bgcolor=\"rgba(0,0,0,0)\",\n",
    "    )\n",
    "    fig = go.Figure(layout=layout)\n",
    "\n",
    "    for year, color_line, color_fill in zip(year_range, colors_line, colors_fill):\n",
    "        performance_year_df = performance_year(\n",
    "            performance_df, year\n",
    "        )  # generate data of each year for plotting\n",
    "        performance_year_df = performance_year_df.append(\n",
    "            performance_year_df.iloc[0]\n",
    "        )  # to close the line, We need append the first element to the last\n",
    "        fig.add_trace(\n",
    "            go.Scatterpolar(\n",
    "                r=performance_year_df.loc[\n",
    "                    :, performance_index\n",
    "                ],  # set the data to plot radar chart\n",
    "                theta=performance_year_df.loc[\n",
    "                    :, \"Country\"\n",
    "                ],  # set the category name of each\n",
    "                line=Line(\"dash\", color_line, 3),  # set the line aesthetics\n",
    "                fillcolor=color_fill,  # set the fill color\n",
    "                fill=\"toself\",  # fill the inner part of the content\n",
    "                name=\"Year \" + str(year),  # set the name of the series of data\n",
    "            )\n",
    "        )\n",
    "\n",
    "    fig.update_layout(\n",
    "        polar=dict(\n",
    "            radialaxis=dict(\n",
    "                visible=True, range=[0, max(performance_df.loc[:, performance_index])]\n",
    "            )\n",
    "        ),  # set the visibility of radial axis & the range of polar axis\n",
    "        showlegend=True,  # set the visibility of legend\n",
    "        legend=dict(y=1.1, x=0.9),  # set the position of legend\n",
    "        #         width=800, used for displaying a full legend\n",
    "        #         height=800,\n",
    "    )\n",
    "    fig.show()\n",
    "    fig.write_image(\n",
    "        os.path.join(\n",
    "            r\"D:\\tencent_files\\chrome_Download\\Research\\DEA\\DEA_RCEP\\Graph\",\n",
    "            performance_index + \"_radar.png\",\n",
    "        )\n",
    "    )  # write_image to export high-resolution chart, default export engine: orca"
   ]
  },
  {
   "cell_type": "code",
   "execution_count": 43,
   "metadata": {
    "scrolled": false
   },
   "outputs": [
    {
     "data": {
      "application/vnd.plotly.v1+json": {
       "config": {
        "plotlyServerURL": "https://plot.ly"
       },
       "data": [
        {
         "fill": "toself",
         "fillcolor": "rgba(0.12156862745098039, 0.4666666666666667, 0.7058823529411765, 0.01)",
         "line": {
          "color": "rgba(0.12156862745098039, 0.4666666666666667, 0.7058823529411765, 1.0)",
          "dash": "dash",
          "width": 3
         },
         "name": "Year 2000",
         "r": [
          0.22550000000000003,
          0.8164,
          0.4103,
          0.42810000000000004,
          0.44820000000000004,
          0.5078,
          0.4788,
          0.9805,
          1,
          0.5011,
          0.2097,
          0.768,
          0.6905,
          0.8432,
          0.27059999999999995,
          0.22550000000000003
         ],
         "theta": [
          "China",
          "Japan",
          "South Korea",
          "Australia",
          "New Zealand",
          "Brunei",
          "Cambodia",
          "Indonesia",
          "Laos",
          "Malaysia",
          "Myanmar",
          "Philippines",
          "Singapore",
          "Thailand",
          "Vietnam",
          "China"
         ],
         "type": "scatterpolar"
        },
        {
         "fill": "toself",
         "fillcolor": "rgba(0.6823529411764706, 0.7803921568627451, 0.9098039215686274, 0.01)",
         "line": {
          "color": "rgba(0.6823529411764706, 0.7803921568627451, 0.9098039215686274, 1.0)",
          "dash": "dash",
          "width": 3
         },
         "name": "Year 2001",
         "r": [
          0.24139999999999995,
          0.8291999999999999,
          0.4326,
          0.4222,
          0.4305,
          0.5099,
          0.4627,
          0.9076,
          1,
          0.4938,
          0.2663,
          0.8244,
          0.7313000000000001,
          0.7965,
          0.2652,
          0.24139999999999995
         ],
         "theta": [
          "China",
          "Japan",
          "South Korea",
          "Australia",
          "New Zealand",
          "Brunei",
          "Cambodia",
          "Indonesia",
          "Laos",
          "Malaysia",
          "Myanmar",
          "Philippines",
          "Singapore",
          "Thailand",
          "Vietnam",
          "China"
         ],
         "type": "scatterpolar"
        },
        {
         "fill": "toself",
         "fillcolor": "rgba(0.9, 0.498, 0.054, 0.01)",
         "line": {
          "color": "rgba(0.9, 0.498, 0.054, 1.0)",
          "dash": "dash",
          "width": 3
         },
         "name": "Year 2002",
         "r": [
          0.24,
          0.8110999999999999,
          0.44210000000000005,
          0.4185,
          0.43799999999999994,
          0.5481,
          0.5125,
          0.9097,
          1,
          0.5105,
          0.27649999999999997,
          0.8576,
          0.8108,
          0.7642,
          0.256,
          0.24
         ],
         "theta": [
          "China",
          "Japan",
          "South Korea",
          "Australia",
          "New Zealand",
          "Brunei",
          "Cambodia",
          "Indonesia",
          "Laos",
          "Malaysia",
          "Myanmar",
          "Philippines",
          "Singapore",
          "Thailand",
          "Vietnam",
          "China"
         ],
         "type": "scatterpolar"
        },
        {
         "fill": "toself",
         "fillcolor": "rgba(0.9, 0.733, 0.47, 0.01)",
         "line": {
          "color": "rgba(0.9, 0.733, 0.47, 1.0)",
          "dash": "dash",
          "width": 3
         },
         "name": "Year 2003",
         "r": [
          0.22419999999999995,
          0.8180000000000001,
          0.4686,
          0.4335,
          0.42979999999999996,
          0.5525,
          0.5237,
          0.9136,
          1,
          0.46009999999999995,
          0.27980000000000005,
          0.8809,
          0.7011000000000001,
          0.7303999999999999,
          0.2581,
          0.22419999999999995
         ],
         "theta": [
          "China",
          "Japan",
          "South Korea",
          "Australia",
          "New Zealand",
          "Brunei",
          "Cambodia",
          "Indonesia",
          "Laos",
          "Malaysia",
          "Myanmar",
          "Philippines",
          "Singapore",
          "Thailand",
          "Vietnam",
          "China"
         ],
         "type": "scatterpolar"
        },
        {
         "fill": "toself",
         "fillcolor": "rgba(0.17254901960784313, 0.6274509803921569, 0.17254901960784313, 0.01)",
         "line": {
          "color": "rgba(0.17254901960784313, 0.6274509803921569, 0.17254901960784313, 1.0)",
          "dash": "dash",
          "width": 3
         },
         "name": "Year 2004",
         "r": [
          0.21619999999999995,
          0.8391,
          0.4779,
          0.45099999999999996,
          0.45009999999999994,
          0.5243,
          0.5590999999999999,
          0.8785000000000001,
          1,
          0.4385,
          0.24439999999999995,
          0.8752,
          0.8412999999999999,
          0.6915,
          0.2512,
          0.21619999999999995
         ],
         "theta": [
          "China",
          "Japan",
          "South Korea",
          "Australia",
          "New Zealand",
          "Brunei",
          "Cambodia",
          "Indonesia",
          "Laos",
          "Malaysia",
          "Myanmar",
          "Philippines",
          "Singapore",
          "Thailand",
          "Vietnam",
          "China"
         ],
         "type": "scatterpolar"
        },
        {
         "fill": "toself",
         "fillcolor": "rgba(0.596078431372549, 0.8745098039215686, 0.5411764705882353, 0.01)",
         "line": {
          "color": "rgba(0.596078431372549, 0.8745098039215686, 0.5411764705882353, 1.0)",
          "dash": "dash",
          "width": 3
         },
         "name": "Year 2005",
         "r": [
          0.21350000000000002,
          0.8486,
          0.524,
          0.48650000000000004,
          0.4495,
          0.5239,
          0.5417000000000001,
          0.9046,
          1,
          0.4316,
          0.29369999999999996,
          0.8941,
          0.8475,
          0.6911,
          0.25970000000000004,
          0.21350000000000002
         ],
         "theta": [
          "China",
          "Japan",
          "South Korea",
          "Australia",
          "New Zealand",
          "Brunei",
          "Cambodia",
          "Indonesia",
          "Laos",
          "Malaysia",
          "Myanmar",
          "Philippines",
          "Singapore",
          "Thailand",
          "Vietnam",
          "China"
         ],
         "type": "scatterpolar"
        },
        {
         "fill": "toself",
         "fillcolor": "rgba(1.0, 0.596078431372549, 0.5882352941176471, 0.01)",
         "line": {
          "color": "rgba(1.0, 0.596078431372549, 0.5882352941176471, 1.0)",
          "dash": "dash",
          "width": 3
         },
         "name": "Year 2006",
         "r": [
          0.21499999999999997,
          0.8762,
          0.5419,
          0.4871,
          0.47,
          0.7282,
          0.5571999999999999,
          0.9376,
          1,
          0.4557,
          0.3035,
          1,
          0.9105,
          0.7041,
          0.27669999999999995,
          0.21499999999999997
         ],
         "theta": [
          "China",
          "Japan",
          "South Korea",
          "Australia",
          "New Zealand",
          "Brunei",
          "Cambodia",
          "Indonesia",
          "Laos",
          "Malaysia",
          "Myanmar",
          "Philippines",
          "Singapore",
          "Thailand",
          "Vietnam",
          "China"
         ],
         "type": "scatterpolar"
        },
        {
         "fill": "toself",
         "fillcolor": "rgba(0.5803921568627451, 0.403921568627451, 0.7411764705882353, 0.01)",
         "line": {
          "color": "rgba(0.5803921568627451, 0.403921568627451, 0.7411764705882353, 1.0)",
          "dash": "dash",
          "width": 3
         },
         "name": "Year 2007",
         "r": [
          0.22260000000000002,
          0.8666,
          0.5352,
          0.4868,
          0.49950000000000006,
          0.4205,
          0.5401,
          0.8996999999999999,
          1,
          0.4638,
          0.3559,
          0.9766,
          1,
          0.7175,
          0.30279999999999996,
          0.22260000000000002
         ],
         "theta": [
          "China",
          "Japan",
          "South Korea",
          "Australia",
          "New Zealand",
          "Brunei",
          "Cambodia",
          "Indonesia",
          "Laos",
          "Malaysia",
          "Myanmar",
          "Philippines",
          "Singapore",
          "Thailand",
          "Vietnam",
          "China"
         ],
         "type": "scatterpolar"
        },
        {
         "fill": "toself",
         "fillcolor": "rgba(0.7725490196078432, 0.6901960784313725, 0.8352941176470589, 0.01)",
         "line": {
          "color": "rgba(0.7725490196078432, 0.6901960784313725, 0.8352941176470589, 1.0)",
          "dash": "dash",
          "width": 3
         },
         "name": "Year 2008",
         "r": [
          0.23050000000000004,
          0.9062,
          0.5463,
          0.4908,
          0.5054000000000001,
          0.3932,
          0.5512,
          0.8511,
          1,
          0.43720000000000003,
          0.5566,
          0.9212,
          0.862,
          0.7484,
          0.30279999999999996,
          0.23050000000000004
         ],
         "theta": [
          "China",
          "Japan",
          "South Korea",
          "Australia",
          "New Zealand",
          "Brunei",
          "Cambodia",
          "Indonesia",
          "Laos",
          "Malaysia",
          "Myanmar",
          "Philippines",
          "Singapore",
          "Thailand",
          "Vietnam",
          "China"
         ],
         "type": "scatterpolar"
        },
        {
         "fill": "toself",
         "fillcolor": "rgba(0.5490196078431373, 0.33725490196078434, 0.29411764705882354, 0.01)",
         "line": {
          "color": "rgba(0.5490196078431373, 0.33725490196078434, 0.29411764705882354, 1.0)",
          "dash": "dash",
          "width": 3
         },
         "name": "Year 2009",
         "r": [
          0.24339999999999995,
          0.9084,
          0.5670999999999999,
          0.49639999999999995,
          0.5645,
          0.4618,
          0.519,
          0.8382000000000001,
          1,
          0.4679,
          0.6321,
          0.9595,
          0.5317000000000001,
          0.7232000000000001,
          0.3105,
          0.24339999999999995
         ],
         "theta": [
          "China",
          "Japan",
          "South Korea",
          "Australia",
          "New Zealand",
          "Brunei",
          "Cambodia",
          "Indonesia",
          "Laos",
          "Malaysia",
          "Myanmar",
          "Philippines",
          "Singapore",
          "Thailand",
          "Vietnam",
          "China"
         ],
         "type": "scatterpolar"
        },
        {
         "fill": "toself",
         "fillcolor": "rgba(0.7686274509803922, 0.611764705882353, 0.5803921568627451, 0.01)",
         "line": {
          "color": "rgba(0.7686274509803922, 0.611764705882353, 0.5803921568627451, 1.0)",
          "dash": "dash",
          "width": 3
         },
         "name": "Year 2010",
         "r": [
          0.25060000000000004,
          0.9064,
          0.5262,
          0.508,
          0.5714,
          0.44930000000000003,
          0.5243,
          0.9208,
          1,
          0.43999999999999995,
          0.5959,
          0.9104,
          0.6121,
          0.6998,
          0.3107,
          0.25060000000000004
         ],
         "theta": [
          "China",
          "Japan",
          "South Korea",
          "Australia",
          "New Zealand",
          "Brunei",
          "Cambodia",
          "Indonesia",
          "Laos",
          "Malaysia",
          "Myanmar",
          "Philippines",
          "Singapore",
          "Thailand",
          "Vietnam",
          "China"
         ],
         "type": "scatterpolar"
        },
        {
         "fill": "toself",
         "fillcolor": "rgba(0.8901960784313725, 0.4666666666666667, 0.7607843137254902, 0.01)",
         "line": {
          "color": "rgba(0.8901960784313725, 0.4666666666666667, 0.7607843137254902, 1.0)",
          "dash": "dash",
          "width": 3
         },
         "name": "Year 2011",
         "r": [
          0.25560000000000005,
          0.8696,
          0.525,
          0.5195000000000001,
          0.5929,
          0.3843,
          0.5729,
          0.8186,
          1,
          0.4555,
          0.6392,
          0.9384,
          0.8115,
          0.7252000000000001,
          0.3235,
          0.25560000000000005
         ],
         "theta": [
          "China",
          "Japan",
          "South Korea",
          "Australia",
          "New Zealand",
          "Brunei",
          "Cambodia",
          "Indonesia",
          "Laos",
          "Malaysia",
          "Myanmar",
          "Philippines",
          "Singapore",
          "Thailand",
          "Vietnam",
          "China"
         ],
         "type": "scatterpolar"
        },
        {
         "fill": "toself",
         "fillcolor": "rgba(0.4980392156862745, 0.4980392156862745, 0.4980392156862745, 0.01)",
         "line": {
          "color": "rgba(0.4980392156862745, 0.4980392156862745, 0.4980392156862745, 1.0)",
          "dash": "dash",
          "width": 3
         },
         "name": "Year 2012",
         "r": [
          0.279,
          0.8547,
          0.5474,
          0.5244,
          0.5771,
          0.39170000000000005,
          0.6056,
          0.8357,
          1,
          0.4776,
          1,
          0.9202,
          0.7933,
          0.6997,
          0.3752,
          0.279
         ],
         "theta": [
          "China",
          "Japan",
          "South Korea",
          "Australia",
          "New Zealand",
          "Brunei",
          "Cambodia",
          "Indonesia",
          "Laos",
          "Malaysia",
          "Myanmar",
          "Philippines",
          "Singapore",
          "Thailand",
          "Vietnam",
          "China"
         ],
         "type": "scatterpolar"
        },
        {
         "fill": "toself",
         "fillcolor": "rgba(0.7803921568627451, 0.7803921568627451, 0.7803921568627451, 0.01)",
         "line": {
          "color": "rgba(0.7803921568627451, 0.7803921568627451, 0.7803921568627451, 1.0)",
          "dash": "dash",
          "width": 3
         },
         "name": "Year 2013",
         "r": [
          0.30589999999999995,
          0.8657,
          0.5562,
          0.5444,
          0.6019,
          0.494,
          0.6501,
          1,
          1,
          0.46309999999999996,
          1,
          0.8822,
          0.7407,
          0.6874,
          0.3903,
          0.30589999999999995
         ],
         "theta": [
          "China",
          "Japan",
          "South Korea",
          "Australia",
          "New Zealand",
          "Brunei",
          "Cambodia",
          "Indonesia",
          "Laos",
          "Malaysia",
          "Myanmar",
          "Philippines",
          "Singapore",
          "Thailand",
          "Vietnam",
          "China"
         ],
         "type": "scatterpolar"
        },
        {
         "fill": "toself",
         "fillcolor": "rgba(0.7372549019607844, 0.7411764705882353, 0.13333333333333333, 0.01)",
         "line": {
          "color": "rgba(0.7372549019607844, 0.7411764705882353, 0.13333333333333333, 1.0)",
          "dash": "dash",
          "width": 3
         },
         "name": "Year 2014",
         "r": [
          0.33909999999999996,
          0.9037,
          0.5776,
          0.5590999999999999,
          0.613,
          0.42779999999999996,
          0.6037,
          1,
          1,
          0.47529999999999994,
          1,
          0.8669,
          0.7623,
          0.7229,
          0.36750000000000005,
          0.33909999999999996
         ],
         "theta": [
          "China",
          "Japan",
          "South Korea",
          "Australia",
          "New Zealand",
          "Brunei",
          "Cambodia",
          "Indonesia",
          "Laos",
          "Malaysia",
          "Myanmar",
          "Philippines",
          "Singapore",
          "Thailand",
          "Vietnam",
          "China"
         ],
         "type": "scatterpolar"
        },
        {
         "fill": "toself",
         "fillcolor": "rgba(0.8588235294117647, 0.8588235294117647, 0.5529411764705883, 0.01)",
         "line": {
          "color": "rgba(0.8588235294117647, 0.8588235294117647, 0.5529411764705883, 1.0)",
          "dash": "dash",
          "width": 3
         },
         "name": "Year 2015",
         "r": [
          0.37849999999999995,
          0.9447,
          0.5858,
          0.554,
          0.6291,
          0.556,
          0.5122,
          1,
          0.7922,
          0.5182,
          0.9371,
          0.8092,
          0.7238,
          0.7328,
          0.351,
          0.37849999999999995
         ],
         "theta": [
          "China",
          "Japan",
          "South Korea",
          "Australia",
          "New Zealand",
          "Brunei",
          "Cambodia",
          "Indonesia",
          "Laos",
          "Malaysia",
          "Myanmar",
          "Philippines",
          "Singapore",
          "Thailand",
          "Vietnam",
          "China"
         ],
         "type": "scatterpolar"
        },
        {
         "fill": "toself",
         "fillcolor": "rgba(0.09019607843137255, 0.7450980392156863, 0.8117647058823529, 0.01)",
         "line": {
          "color": "rgba(0.09019607843137255, 0.7450980392156863, 0.8117647058823529, 1.0)",
          "dash": "dash",
          "width": 3
         },
         "name": "Year 2016",
         "r": [
          0.4165,
          0.9638,
          0.5818,
          0.5472,
          0.5226,
          0.5185,
          0.48319999999999996,
          0.9864,
          0.4356,
          0.5161,
          0.977,
          0.8198,
          1,
          0.7549,
          0.37129999999999996,
          0.4165
         ],
         "theta": [
          "China",
          "Japan",
          "South Korea",
          "Australia",
          "New Zealand",
          "Brunei",
          "Cambodia",
          "Indonesia",
          "Laos",
          "Malaysia",
          "Myanmar",
          "Philippines",
          "Singapore",
          "Thailand",
          "Vietnam",
          "China"
         ],
         "type": "scatterpolar"
        },
        {
         "fill": "toself",
         "fillcolor": "rgba(0.6196078431372549, 0.8549019607843137, 0.8980392156862745, 0.01)",
         "line": {
          "color": "rgba(0.6196078431372549, 0.8549019607843137, 0.8980392156862745, 1.0)",
          "dash": "dash",
          "width": 3
         },
         "name": "Year 2017",
         "r": [
          0.4496,
          1,
          0.5795,
          0.5493,
          0.5159,
          0.5207999999999999,
          0.5102,
          0.9998,
          0.4555,
          0.5429999999999999,
          1,
          0.8054,
          1,
          0.762,
          0.3973,
          0.4496
         ],
         "theta": [
          "China",
          "Japan",
          "South Korea",
          "Australia",
          "New Zealand",
          "Brunei",
          "Cambodia",
          "Indonesia",
          "Laos",
          "Malaysia",
          "Myanmar",
          "Philippines",
          "Singapore",
          "Thailand",
          "Vietnam",
          "China"
         ],
         "type": "scatterpolar"
        }
       ],
       "layout": {
        "legend": {
         "x": 0.9,
         "y": 1.1
        },
        "plot_bgcolor": "rgba(0,0,0,0)",
        "polar": {
         "angularaxis": {
          "gridcolor": "black",
          "linecolor": "black",
          "linewidth": 4
         },
         "bgcolor": "rgba(0,0,0,0)",
         "gridshape": "linear",
         "radialaxis": {
          "gridcolor": "black",
          "range": [
           0,
           1
          ],
          "showticklabels": false,
          "visible": true
         }
        },
        "showlegend": true,
        "template": {
         "data": {
          "bar": [
           {
            "error_x": {
             "color": "#2a3f5f"
            },
            "error_y": {
             "color": "#2a3f5f"
            },
            "marker": {
             "line": {
              "color": "#E5ECF6",
              "width": 0.5
             }
            },
            "type": "bar"
           }
          ],
          "barpolar": [
           {
            "marker": {
             "line": {
              "color": "#E5ECF6",
              "width": 0.5
             }
            },
            "type": "barpolar"
           }
          ],
          "carpet": [
           {
            "aaxis": {
             "endlinecolor": "#2a3f5f",
             "gridcolor": "white",
             "linecolor": "white",
             "minorgridcolor": "white",
             "startlinecolor": "#2a3f5f"
            },
            "baxis": {
             "endlinecolor": "#2a3f5f",
             "gridcolor": "white",
             "linecolor": "white",
             "minorgridcolor": "white",
             "startlinecolor": "#2a3f5f"
            },
            "type": "carpet"
           }
          ],
          "choropleth": [
           {
            "colorbar": {
             "outlinewidth": 0,
             "ticks": ""
            },
            "type": "choropleth"
           }
          ],
          "contour": [
           {
            "colorbar": {
             "outlinewidth": 0,
             "ticks": ""
            },
            "colorscale": [
             [
              0,
              "#0d0887"
             ],
             [
              0.1111111111111111,
              "#46039f"
             ],
             [
              0.2222222222222222,
              "#7201a8"
             ],
             [
              0.3333333333333333,
              "#9c179e"
             ],
             [
              0.4444444444444444,
              "#bd3786"
             ],
             [
              0.5555555555555556,
              "#d8576b"
             ],
             [
              0.6666666666666666,
              "#ed7953"
             ],
             [
              0.7777777777777778,
              "#fb9f3a"
             ],
             [
              0.8888888888888888,
              "#fdca26"
             ],
             [
              1,
              "#f0f921"
             ]
            ],
            "type": "contour"
           }
          ],
          "contourcarpet": [
           {
            "colorbar": {
             "outlinewidth": 0,
             "ticks": ""
            },
            "type": "contourcarpet"
           }
          ],
          "heatmap": [
           {
            "colorbar": {
             "outlinewidth": 0,
             "ticks": ""
            },
            "colorscale": [
             [
              0,
              "#0d0887"
             ],
             [
              0.1111111111111111,
              "#46039f"
             ],
             [
              0.2222222222222222,
              "#7201a8"
             ],
             [
              0.3333333333333333,
              "#9c179e"
             ],
             [
              0.4444444444444444,
              "#bd3786"
             ],
             [
              0.5555555555555556,
              "#d8576b"
             ],
             [
              0.6666666666666666,
              "#ed7953"
             ],
             [
              0.7777777777777778,
              "#fb9f3a"
             ],
             [
              0.8888888888888888,
              "#fdca26"
             ],
             [
              1,
              "#f0f921"
             ]
            ],
            "type": "heatmap"
           }
          ],
          "heatmapgl": [
           {
            "colorbar": {
             "outlinewidth": 0,
             "ticks": ""
            },
            "colorscale": [
             [
              0,
              "#0d0887"
             ],
             [
              0.1111111111111111,
              "#46039f"
             ],
             [
              0.2222222222222222,
              "#7201a8"
             ],
             [
              0.3333333333333333,
              "#9c179e"
             ],
             [
              0.4444444444444444,
              "#bd3786"
             ],
             [
              0.5555555555555556,
              "#d8576b"
             ],
             [
              0.6666666666666666,
              "#ed7953"
             ],
             [
              0.7777777777777778,
              "#fb9f3a"
             ],
             [
              0.8888888888888888,
              "#fdca26"
             ],
             [
              1,
              "#f0f921"
             ]
            ],
            "type": "heatmapgl"
           }
          ],
          "histogram": [
           {
            "marker": {
             "colorbar": {
              "outlinewidth": 0,
              "ticks": ""
             }
            },
            "type": "histogram"
           }
          ],
          "histogram2d": [
           {
            "colorbar": {
             "outlinewidth": 0,
             "ticks": ""
            },
            "colorscale": [
             [
              0,
              "#0d0887"
             ],
             [
              0.1111111111111111,
              "#46039f"
             ],
             [
              0.2222222222222222,
              "#7201a8"
             ],
             [
              0.3333333333333333,
              "#9c179e"
             ],
             [
              0.4444444444444444,
              "#bd3786"
             ],
             [
              0.5555555555555556,
              "#d8576b"
             ],
             [
              0.6666666666666666,
              "#ed7953"
             ],
             [
              0.7777777777777778,
              "#fb9f3a"
             ],
             [
              0.8888888888888888,
              "#fdca26"
             ],
             [
              1,
              "#f0f921"
             ]
            ],
            "type": "histogram2d"
           }
          ],
          "histogram2dcontour": [
           {
            "colorbar": {
             "outlinewidth": 0,
             "ticks": ""
            },
            "colorscale": [
             [
              0,
              "#0d0887"
             ],
             [
              0.1111111111111111,
              "#46039f"
             ],
             [
              0.2222222222222222,
              "#7201a8"
             ],
             [
              0.3333333333333333,
              "#9c179e"
             ],
             [
              0.4444444444444444,
              "#bd3786"
             ],
             [
              0.5555555555555556,
              "#d8576b"
             ],
             [
              0.6666666666666666,
              "#ed7953"
             ],
             [
              0.7777777777777778,
              "#fb9f3a"
             ],
             [
              0.8888888888888888,
              "#fdca26"
             ],
             [
              1,
              "#f0f921"
             ]
            ],
            "type": "histogram2dcontour"
           }
          ],
          "mesh3d": [
           {
            "colorbar": {
             "outlinewidth": 0,
             "ticks": ""
            },
            "type": "mesh3d"
           }
          ],
          "parcoords": [
           {
            "line": {
             "colorbar": {
              "outlinewidth": 0,
              "ticks": ""
             }
            },
            "type": "parcoords"
           }
          ],
          "pie": [
           {
            "automargin": true,
            "type": "pie"
           }
          ],
          "scatter": [
           {
            "marker": {
             "colorbar": {
              "outlinewidth": 0,
              "ticks": ""
             }
            },
            "type": "scatter"
           }
          ],
          "scatter3d": [
           {
            "line": {
             "colorbar": {
              "outlinewidth": 0,
              "ticks": ""
             }
            },
            "marker": {
             "colorbar": {
              "outlinewidth": 0,
              "ticks": ""
             }
            },
            "type": "scatter3d"
           }
          ],
          "scattercarpet": [
           {
            "marker": {
             "colorbar": {
              "outlinewidth": 0,
              "ticks": ""
             }
            },
            "type": "scattercarpet"
           }
          ],
          "scattergeo": [
           {
            "marker": {
             "colorbar": {
              "outlinewidth": 0,
              "ticks": ""
             }
            },
            "type": "scattergeo"
           }
          ],
          "scattergl": [
           {
            "marker": {
             "colorbar": {
              "outlinewidth": 0,
              "ticks": ""
             }
            },
            "type": "scattergl"
           }
          ],
          "scattermapbox": [
           {
            "marker": {
             "colorbar": {
              "outlinewidth": 0,
              "ticks": ""
             }
            },
            "type": "scattermapbox"
           }
          ],
          "scatterpolar": [
           {
            "marker": {
             "colorbar": {
              "outlinewidth": 0,
              "ticks": ""
             }
            },
            "type": "scatterpolar"
           }
          ],
          "scatterpolargl": [
           {
            "marker": {
             "colorbar": {
              "outlinewidth": 0,
              "ticks": ""
             }
            },
            "type": "scatterpolargl"
           }
          ],
          "scatterternary": [
           {
            "marker": {
             "colorbar": {
              "outlinewidth": 0,
              "ticks": ""
             }
            },
            "type": "scatterternary"
           }
          ],
          "surface": [
           {
            "colorbar": {
             "outlinewidth": 0,
             "ticks": ""
            },
            "colorscale": [
             [
              0,
              "#0d0887"
             ],
             [
              0.1111111111111111,
              "#46039f"
             ],
             [
              0.2222222222222222,
              "#7201a8"
             ],
             [
              0.3333333333333333,
              "#9c179e"
             ],
             [
              0.4444444444444444,
              "#bd3786"
             ],
             [
              0.5555555555555556,
              "#d8576b"
             ],
             [
              0.6666666666666666,
              "#ed7953"
             ],
             [
              0.7777777777777778,
              "#fb9f3a"
             ],
             [
              0.8888888888888888,
              "#fdca26"
             ],
             [
              1,
              "#f0f921"
             ]
            ],
            "type": "surface"
           }
          ],
          "table": [
           {
            "cells": {
             "fill": {
              "color": "#EBF0F8"
             },
             "line": {
              "color": "white"
             }
            },
            "header": {
             "fill": {
              "color": "#C8D4E3"
             },
             "line": {
              "color": "white"
             }
            },
            "type": "table"
           }
          ]
         },
         "layout": {
          "annotationdefaults": {
           "arrowcolor": "#2a3f5f",
           "arrowhead": 0,
           "arrowwidth": 1
          },
          "coloraxis": {
           "colorbar": {
            "outlinewidth": 0,
            "ticks": ""
           }
          },
          "colorscale": {
           "diverging": [
            [
             0,
             "#8e0152"
            ],
            [
             0.1,
             "#c51b7d"
            ],
            [
             0.2,
             "#de77ae"
            ],
            [
             0.3,
             "#f1b6da"
            ],
            [
             0.4,
             "#fde0ef"
            ],
            [
             0.5,
             "#f7f7f7"
            ],
            [
             0.6,
             "#e6f5d0"
            ],
            [
             0.7,
             "#b8e186"
            ],
            [
             0.8,
             "#7fbc41"
            ],
            [
             0.9,
             "#4d9221"
            ],
            [
             1,
             "#276419"
            ]
           ],
           "sequential": [
            [
             0,
             "#0d0887"
            ],
            [
             0.1111111111111111,
             "#46039f"
            ],
            [
             0.2222222222222222,
             "#7201a8"
            ],
            [
             0.3333333333333333,
             "#9c179e"
            ],
            [
             0.4444444444444444,
             "#bd3786"
            ],
            [
             0.5555555555555556,
             "#d8576b"
            ],
            [
             0.6666666666666666,
             "#ed7953"
            ],
            [
             0.7777777777777778,
             "#fb9f3a"
            ],
            [
             0.8888888888888888,
             "#fdca26"
            ],
            [
             1,
             "#f0f921"
            ]
           ],
           "sequentialminus": [
            [
             0,
             "#0d0887"
            ],
            [
             0.1111111111111111,
             "#46039f"
            ],
            [
             0.2222222222222222,
             "#7201a8"
            ],
            [
             0.3333333333333333,
             "#9c179e"
            ],
            [
             0.4444444444444444,
             "#bd3786"
            ],
            [
             0.5555555555555556,
             "#d8576b"
            ],
            [
             0.6666666666666666,
             "#ed7953"
            ],
            [
             0.7777777777777778,
             "#fb9f3a"
            ],
            [
             0.8888888888888888,
             "#fdca26"
            ],
            [
             1,
             "#f0f921"
            ]
           ]
          },
          "colorway": [
           "#636efa",
           "#EF553B",
           "#00cc96",
           "#ab63fa",
           "#FFA15A",
           "#19d3f3",
           "#FF6692",
           "#B6E880",
           "#FF97FF",
           "#FECB52"
          ],
          "font": {
           "color": "#2a3f5f"
          },
          "geo": {
           "bgcolor": "white",
           "lakecolor": "white",
           "landcolor": "#E5ECF6",
           "showlakes": true,
           "showland": true,
           "subunitcolor": "white"
          },
          "hoverlabel": {
           "align": "left"
          },
          "hovermode": "closest",
          "mapbox": {
           "style": "light"
          },
          "paper_bgcolor": "white",
          "plot_bgcolor": "#E5ECF6",
          "polar": {
           "angularaxis": {
            "gridcolor": "white",
            "linecolor": "white",
            "ticks": ""
           },
           "bgcolor": "#E5ECF6",
           "radialaxis": {
            "gridcolor": "white",
            "linecolor": "white",
            "ticks": ""
           }
          },
          "scene": {
           "xaxis": {
            "backgroundcolor": "#E5ECF6",
            "gridcolor": "white",
            "gridwidth": 2,
            "linecolor": "white",
            "showbackground": true,
            "ticks": "",
            "zerolinecolor": "white"
           },
           "yaxis": {
            "backgroundcolor": "#E5ECF6",
            "gridcolor": "white",
            "gridwidth": 2,
            "linecolor": "white",
            "showbackground": true,
            "ticks": "",
            "zerolinecolor": "white"
           },
           "zaxis": {
            "backgroundcolor": "#E5ECF6",
            "gridcolor": "white",
            "gridwidth": 2,
            "linecolor": "white",
            "showbackground": true,
            "ticks": "",
            "zerolinecolor": "white"
           }
          },
          "shapedefaults": {
           "line": {
            "color": "#2a3f5f"
           }
          },
          "ternary": {
           "aaxis": {
            "gridcolor": "white",
            "linecolor": "white",
            "ticks": ""
           },
           "baxis": {
            "gridcolor": "white",
            "linecolor": "white",
            "ticks": ""
           },
           "bgcolor": "#E5ECF6",
           "caxis": {
            "gridcolor": "white",
            "linecolor": "white",
            "ticks": ""
           }
          },
          "title": {
           "x": 0.05
          },
          "xaxis": {
           "automargin": true,
           "gridcolor": "white",
           "linecolor": "white",
           "ticks": "",
           "title": {
            "standoff": 15
           },
           "zerolinecolor": "white",
           "zerolinewidth": 2
          },
          "yaxis": {
           "automargin": true,
           "gridcolor": "white",
           "linecolor": "white",
           "ticks": "",
           "title": {
            "standoff": 15
           },
           "zerolinecolor": "white",
           "zerolinewidth": 2
          }
         }
        }
       }
      },
      "text/html": [
       "<div>                            <div id=\"f4959130-9082-4d77-a4a3-ced81555f394\" class=\"plotly-graph-div\" style=\"height:525px; width:100%;\"></div>            <script type=\"text/javascript\">                require([\"plotly\"], function(Plotly) {                    window.PLOTLYENV=window.PLOTLYENV || {};                                    if (document.getElementById(\"f4959130-9082-4d77-a4a3-ced81555f394\")) {                    Plotly.newPlot(                        \"f4959130-9082-4d77-a4a3-ced81555f394\",                        [{\"fill\": \"toself\", \"fillcolor\": \"rgba(0.12156862745098039, 0.4666666666666667, 0.7058823529411765, 0.01)\", \"line\": {\"color\": \"rgba(0.12156862745098039, 0.4666666666666667, 0.7058823529411765, 1.0)\", \"dash\": \"dash\", \"width\": 3}, \"name\": \"Year 2000\", \"r\": [0.22550000000000003, 0.8164, 0.4103, 0.42810000000000004, 0.44820000000000004, 0.5078, 0.4788, 0.9805, 1.0, 0.5011, 0.2097, 0.768, 0.6905, 0.8432, 0.27059999999999995, 0.22550000000000003], \"theta\": [\"China\", \"Japan\", \"South Korea\", \"Australia\", \"New Zealand\", \"Brunei\", \"Cambodia\", \"Indonesia\", \"Laos\", \"Malaysia\", \"Myanmar\", \"Philippines\", \"Singapore\", \"Thailand\", \"Vietnam\", \"China\"], \"type\": \"scatterpolar\"}, {\"fill\": \"toself\", \"fillcolor\": \"rgba(0.6823529411764706, 0.7803921568627451, 0.9098039215686274, 0.01)\", \"line\": {\"color\": \"rgba(0.6823529411764706, 0.7803921568627451, 0.9098039215686274, 1.0)\", \"dash\": \"dash\", \"width\": 3}, \"name\": \"Year 2001\", \"r\": [0.24139999999999995, 0.8291999999999999, 0.4326, 0.4222, 0.4305, 0.5099, 0.4627, 0.9076, 1.0, 0.4938, 0.2663, 0.8244, 0.7313000000000001, 0.7965, 0.2652, 0.24139999999999995], \"theta\": [\"China\", \"Japan\", \"South Korea\", \"Australia\", \"New Zealand\", \"Brunei\", \"Cambodia\", \"Indonesia\", \"Laos\", \"Malaysia\", \"Myanmar\", \"Philippines\", \"Singapore\", \"Thailand\", \"Vietnam\", \"China\"], \"type\": \"scatterpolar\"}, {\"fill\": \"toself\", \"fillcolor\": \"rgba(0.9, 0.498, 0.054, 0.01)\", \"line\": {\"color\": \"rgba(0.9, 0.498, 0.054, 1.0)\", \"dash\": \"dash\", \"width\": 3}, \"name\": \"Year 2002\", \"r\": [0.24, 0.8110999999999999, 0.44210000000000005, 0.4185, 0.43799999999999994, 0.5481, 0.5125, 0.9097, 1.0, 0.5105, 0.27649999999999997, 0.8576, 0.8108, 0.7642, 0.256, 0.24], \"theta\": [\"China\", \"Japan\", \"South Korea\", \"Australia\", \"New Zealand\", \"Brunei\", \"Cambodia\", \"Indonesia\", \"Laos\", \"Malaysia\", \"Myanmar\", \"Philippines\", \"Singapore\", \"Thailand\", \"Vietnam\", \"China\"], \"type\": \"scatterpolar\"}, {\"fill\": \"toself\", \"fillcolor\": \"rgba(0.9, 0.733, 0.47, 0.01)\", \"line\": {\"color\": \"rgba(0.9, 0.733, 0.47, 1.0)\", \"dash\": \"dash\", \"width\": 3}, \"name\": \"Year 2003\", \"r\": [0.22419999999999995, 0.8180000000000001, 0.4686, 0.4335, 0.42979999999999996, 0.5525, 0.5237, 0.9136, 1.0, 0.46009999999999995, 0.27980000000000005, 0.8809, 0.7011000000000001, 0.7303999999999999, 0.2581, 0.22419999999999995], \"theta\": [\"China\", \"Japan\", \"South Korea\", \"Australia\", \"New Zealand\", \"Brunei\", \"Cambodia\", \"Indonesia\", \"Laos\", \"Malaysia\", \"Myanmar\", \"Philippines\", \"Singapore\", \"Thailand\", \"Vietnam\", \"China\"], \"type\": \"scatterpolar\"}, {\"fill\": \"toself\", \"fillcolor\": \"rgba(0.17254901960784313, 0.6274509803921569, 0.17254901960784313, 0.01)\", \"line\": {\"color\": \"rgba(0.17254901960784313, 0.6274509803921569, 0.17254901960784313, 1.0)\", \"dash\": \"dash\", \"width\": 3}, \"name\": \"Year 2004\", \"r\": [0.21619999999999995, 0.8391, 0.4779, 0.45099999999999996, 0.45009999999999994, 0.5243, 0.5590999999999999, 0.8785000000000001, 1.0, 0.4385, 0.24439999999999995, 0.8752, 0.8412999999999999, 0.6915, 0.2512, 0.21619999999999995], \"theta\": [\"China\", \"Japan\", \"South Korea\", \"Australia\", \"New Zealand\", \"Brunei\", \"Cambodia\", \"Indonesia\", \"Laos\", \"Malaysia\", \"Myanmar\", \"Philippines\", \"Singapore\", \"Thailand\", \"Vietnam\", \"China\"], \"type\": \"scatterpolar\"}, {\"fill\": \"toself\", \"fillcolor\": \"rgba(0.596078431372549, 0.8745098039215686, 0.5411764705882353, 0.01)\", \"line\": {\"color\": \"rgba(0.596078431372549, 0.8745098039215686, 0.5411764705882353, 1.0)\", \"dash\": \"dash\", \"width\": 3}, \"name\": \"Year 2005\", \"r\": [0.21350000000000002, 0.8486, 0.524, 0.48650000000000004, 0.4495, 0.5239, 0.5417000000000001, 0.9046, 1.0, 0.4316, 0.29369999999999996, 0.8941, 0.8475, 0.6911, 0.25970000000000004, 0.21350000000000002], \"theta\": [\"China\", \"Japan\", \"South Korea\", \"Australia\", \"New Zealand\", \"Brunei\", \"Cambodia\", \"Indonesia\", \"Laos\", \"Malaysia\", \"Myanmar\", \"Philippines\", \"Singapore\", \"Thailand\", \"Vietnam\", \"China\"], \"type\": \"scatterpolar\"}, {\"fill\": \"toself\", \"fillcolor\": \"rgba(1.0, 0.596078431372549, 0.5882352941176471, 0.01)\", \"line\": {\"color\": \"rgba(1.0, 0.596078431372549, 0.5882352941176471, 1.0)\", \"dash\": \"dash\", \"width\": 3}, \"name\": \"Year 2006\", \"r\": [0.21499999999999997, 0.8762, 0.5419, 0.4871, 0.47, 0.7282, 0.5571999999999999, 0.9376, 1.0, 0.4557, 0.3035, 1.0, 0.9105, 0.7041, 0.27669999999999995, 0.21499999999999997], \"theta\": [\"China\", \"Japan\", \"South Korea\", \"Australia\", \"New Zealand\", \"Brunei\", \"Cambodia\", \"Indonesia\", \"Laos\", \"Malaysia\", \"Myanmar\", \"Philippines\", \"Singapore\", \"Thailand\", \"Vietnam\", \"China\"], \"type\": \"scatterpolar\"}, {\"fill\": \"toself\", \"fillcolor\": \"rgba(0.5803921568627451, 0.403921568627451, 0.7411764705882353, 0.01)\", \"line\": {\"color\": \"rgba(0.5803921568627451, 0.403921568627451, 0.7411764705882353, 1.0)\", \"dash\": \"dash\", \"width\": 3}, \"name\": \"Year 2007\", \"r\": [0.22260000000000002, 0.8666, 0.5352, 0.4868, 0.49950000000000006, 0.4205, 0.5401, 0.8996999999999999, 1.0, 0.4638, 0.3559, 0.9766, 1.0, 0.7175, 0.30279999999999996, 0.22260000000000002], \"theta\": [\"China\", \"Japan\", \"South Korea\", \"Australia\", \"New Zealand\", \"Brunei\", \"Cambodia\", \"Indonesia\", \"Laos\", \"Malaysia\", \"Myanmar\", \"Philippines\", \"Singapore\", \"Thailand\", \"Vietnam\", \"China\"], \"type\": \"scatterpolar\"}, {\"fill\": \"toself\", \"fillcolor\": \"rgba(0.7725490196078432, 0.6901960784313725, 0.8352941176470589, 0.01)\", \"line\": {\"color\": \"rgba(0.7725490196078432, 0.6901960784313725, 0.8352941176470589, 1.0)\", \"dash\": \"dash\", \"width\": 3}, \"name\": \"Year 2008\", \"r\": [0.23050000000000004, 0.9062, 0.5463, 0.4908, 0.5054000000000001, 0.3932, 0.5512, 0.8511, 1.0, 0.43720000000000003, 0.5566, 0.9212, 0.862, 0.7484, 0.30279999999999996, 0.23050000000000004], \"theta\": [\"China\", \"Japan\", \"South Korea\", \"Australia\", \"New Zealand\", \"Brunei\", \"Cambodia\", \"Indonesia\", \"Laos\", \"Malaysia\", \"Myanmar\", \"Philippines\", \"Singapore\", \"Thailand\", \"Vietnam\", \"China\"], \"type\": \"scatterpolar\"}, {\"fill\": \"toself\", \"fillcolor\": \"rgba(0.5490196078431373, 0.33725490196078434, 0.29411764705882354, 0.01)\", \"line\": {\"color\": \"rgba(0.5490196078431373, 0.33725490196078434, 0.29411764705882354, 1.0)\", \"dash\": \"dash\", \"width\": 3}, \"name\": \"Year 2009\", \"r\": [0.24339999999999995, 0.9084, 0.5670999999999999, 0.49639999999999995, 0.5645, 0.4618, 0.519, 0.8382000000000001, 1.0, 0.4679, 0.6321, 0.9595, 0.5317000000000001, 0.7232000000000001, 0.3105, 0.24339999999999995], \"theta\": [\"China\", \"Japan\", \"South Korea\", \"Australia\", \"New Zealand\", \"Brunei\", \"Cambodia\", \"Indonesia\", \"Laos\", \"Malaysia\", \"Myanmar\", \"Philippines\", \"Singapore\", \"Thailand\", \"Vietnam\", \"China\"], \"type\": \"scatterpolar\"}, {\"fill\": \"toself\", \"fillcolor\": \"rgba(0.7686274509803922, 0.611764705882353, 0.5803921568627451, 0.01)\", \"line\": {\"color\": \"rgba(0.7686274509803922, 0.611764705882353, 0.5803921568627451, 1.0)\", \"dash\": \"dash\", \"width\": 3}, \"name\": \"Year 2010\", \"r\": [0.25060000000000004, 0.9064, 0.5262, 0.508, 0.5714, 0.44930000000000003, 0.5243, 0.9208, 1.0, 0.43999999999999995, 0.5959, 0.9104, 0.6121, 0.6998, 0.3107, 0.25060000000000004], \"theta\": [\"China\", \"Japan\", \"South Korea\", \"Australia\", \"New Zealand\", \"Brunei\", \"Cambodia\", \"Indonesia\", \"Laos\", \"Malaysia\", \"Myanmar\", \"Philippines\", \"Singapore\", \"Thailand\", \"Vietnam\", \"China\"], \"type\": \"scatterpolar\"}, {\"fill\": \"toself\", \"fillcolor\": \"rgba(0.8901960784313725, 0.4666666666666667, 0.7607843137254902, 0.01)\", \"line\": {\"color\": \"rgba(0.8901960784313725, 0.4666666666666667, 0.7607843137254902, 1.0)\", \"dash\": \"dash\", \"width\": 3}, \"name\": \"Year 2011\", \"r\": [0.25560000000000005, 0.8696, 0.525, 0.5195000000000001, 0.5929, 0.3843, 0.5729, 0.8186, 1.0, 0.4555, 0.6392, 0.9384, 0.8115, 0.7252000000000001, 0.3235, 0.25560000000000005], \"theta\": [\"China\", \"Japan\", \"South Korea\", \"Australia\", \"New Zealand\", \"Brunei\", \"Cambodia\", \"Indonesia\", \"Laos\", \"Malaysia\", \"Myanmar\", \"Philippines\", \"Singapore\", \"Thailand\", \"Vietnam\", \"China\"], \"type\": \"scatterpolar\"}, {\"fill\": \"toself\", \"fillcolor\": \"rgba(0.4980392156862745, 0.4980392156862745, 0.4980392156862745, 0.01)\", \"line\": {\"color\": \"rgba(0.4980392156862745, 0.4980392156862745, 0.4980392156862745, 1.0)\", \"dash\": \"dash\", \"width\": 3}, \"name\": \"Year 2012\", \"r\": [0.279, 0.8547, 0.5474, 0.5244, 0.5771, 0.39170000000000005, 0.6056, 0.8357, 1.0, 0.4776, 1.0, 0.9202, 0.7933, 0.6997, 0.3752, 0.279], \"theta\": [\"China\", \"Japan\", \"South Korea\", \"Australia\", \"New Zealand\", \"Brunei\", \"Cambodia\", \"Indonesia\", \"Laos\", \"Malaysia\", \"Myanmar\", \"Philippines\", \"Singapore\", \"Thailand\", \"Vietnam\", \"China\"], \"type\": \"scatterpolar\"}, {\"fill\": \"toself\", \"fillcolor\": \"rgba(0.7803921568627451, 0.7803921568627451, 0.7803921568627451, 0.01)\", \"line\": {\"color\": \"rgba(0.7803921568627451, 0.7803921568627451, 0.7803921568627451, 1.0)\", \"dash\": \"dash\", \"width\": 3}, \"name\": \"Year 2013\", \"r\": [0.30589999999999995, 0.8657, 0.5562, 0.5444, 0.6019, 0.494, 0.6501, 1.0, 1.0, 0.46309999999999996, 1.0, 0.8822, 0.7407, 0.6874, 0.3903, 0.30589999999999995], \"theta\": [\"China\", \"Japan\", \"South Korea\", \"Australia\", \"New Zealand\", \"Brunei\", \"Cambodia\", \"Indonesia\", \"Laos\", \"Malaysia\", \"Myanmar\", \"Philippines\", \"Singapore\", \"Thailand\", \"Vietnam\", \"China\"], \"type\": \"scatterpolar\"}, {\"fill\": \"toself\", \"fillcolor\": \"rgba(0.7372549019607844, 0.7411764705882353, 0.13333333333333333, 0.01)\", \"line\": {\"color\": \"rgba(0.7372549019607844, 0.7411764705882353, 0.13333333333333333, 1.0)\", \"dash\": \"dash\", \"width\": 3}, \"name\": \"Year 2014\", \"r\": [0.33909999999999996, 0.9037, 0.5776, 0.5590999999999999, 0.613, 0.42779999999999996, 0.6037, 1.0, 1.0, 0.47529999999999994, 1.0, 0.8669, 0.7623, 0.7229, 0.36750000000000005, 0.33909999999999996], \"theta\": [\"China\", \"Japan\", \"South Korea\", \"Australia\", \"New Zealand\", \"Brunei\", \"Cambodia\", \"Indonesia\", \"Laos\", \"Malaysia\", \"Myanmar\", \"Philippines\", \"Singapore\", \"Thailand\", \"Vietnam\", \"China\"], \"type\": \"scatterpolar\"}, {\"fill\": \"toself\", \"fillcolor\": \"rgba(0.8588235294117647, 0.8588235294117647, 0.5529411764705883, 0.01)\", \"line\": {\"color\": \"rgba(0.8588235294117647, 0.8588235294117647, 0.5529411764705883, 1.0)\", \"dash\": \"dash\", \"width\": 3}, \"name\": \"Year 2015\", \"r\": [0.37849999999999995, 0.9447, 0.5858, 0.554, 0.6291, 0.556, 0.5122, 1.0, 0.7922, 0.5182, 0.9371, 0.8092, 0.7238, 0.7328, 0.351, 0.37849999999999995], \"theta\": [\"China\", \"Japan\", \"South Korea\", \"Australia\", \"New Zealand\", \"Brunei\", \"Cambodia\", \"Indonesia\", \"Laos\", \"Malaysia\", \"Myanmar\", \"Philippines\", \"Singapore\", \"Thailand\", \"Vietnam\", \"China\"], \"type\": \"scatterpolar\"}, {\"fill\": \"toself\", \"fillcolor\": \"rgba(0.09019607843137255, 0.7450980392156863, 0.8117647058823529, 0.01)\", \"line\": {\"color\": \"rgba(0.09019607843137255, 0.7450980392156863, 0.8117647058823529, 1.0)\", \"dash\": \"dash\", \"width\": 3}, \"name\": \"Year 2016\", \"r\": [0.4165, 0.9638, 0.5818, 0.5472, 0.5226, 0.5185, 0.48319999999999996, 0.9864, 0.4356, 0.5161, 0.977, 0.8198, 1.0, 0.7549, 0.37129999999999996, 0.4165], \"theta\": [\"China\", \"Japan\", \"South Korea\", \"Australia\", \"New Zealand\", \"Brunei\", \"Cambodia\", \"Indonesia\", \"Laos\", \"Malaysia\", \"Myanmar\", \"Philippines\", \"Singapore\", \"Thailand\", \"Vietnam\", \"China\"], \"type\": \"scatterpolar\"}, {\"fill\": \"toself\", \"fillcolor\": \"rgba(0.6196078431372549, 0.8549019607843137, 0.8980392156862745, 0.01)\", \"line\": {\"color\": \"rgba(0.6196078431372549, 0.8549019607843137, 0.8980392156862745, 1.0)\", \"dash\": \"dash\", \"width\": 3}, \"name\": \"Year 2017\", \"r\": [0.4496, 1.0, 0.5795, 0.5493, 0.5159, 0.5207999999999999, 0.5102, 0.9998, 0.4555, 0.5429999999999999, 1.0, 0.8054, 1.0, 0.762, 0.3973, 0.4496], \"theta\": [\"China\", \"Japan\", \"South Korea\", \"Australia\", \"New Zealand\", \"Brunei\", \"Cambodia\", \"Indonesia\", \"Laos\", \"Malaysia\", \"Myanmar\", \"Philippines\", \"Singapore\", \"Thailand\", \"Vietnam\", \"China\"], \"type\": \"scatterpolar\"}],                        {\"legend\": {\"x\": 0.9, \"y\": 1.1}, \"plot_bgcolor\": \"rgba(0,0,0,0)\", \"polar\": {\"angularaxis\": {\"gridcolor\": \"black\", \"linecolor\": \"black\", \"linewidth\": 4}, \"bgcolor\": \"rgba(0,0,0,0)\", \"gridshape\": \"linear\", \"radialaxis\": {\"gridcolor\": \"black\", \"range\": [0, 1.0], \"showticklabels\": false, \"visible\": true}}, \"showlegend\": true, \"template\": {\"data\": {\"bar\": [{\"error_x\": {\"color\": \"#2a3f5f\"}, \"error_y\": {\"color\": \"#2a3f5f\"}, \"marker\": {\"line\": {\"color\": \"#E5ECF6\", \"width\": 0.5}}, \"type\": \"bar\"}], \"barpolar\": [{\"marker\": {\"line\": {\"color\": \"#E5ECF6\", \"width\": 0.5}}, \"type\": \"barpolar\"}], \"carpet\": [{\"aaxis\": {\"endlinecolor\": \"#2a3f5f\", \"gridcolor\": \"white\", \"linecolor\": \"white\", \"minorgridcolor\": \"white\", \"startlinecolor\": \"#2a3f5f\"}, \"baxis\": {\"endlinecolor\": \"#2a3f5f\", \"gridcolor\": \"white\", \"linecolor\": \"white\", \"minorgridcolor\": \"white\", \"startlinecolor\": \"#2a3f5f\"}, \"type\": \"carpet\"}], \"choropleth\": [{\"colorbar\": {\"outlinewidth\": 0, \"ticks\": \"\"}, \"type\": \"choropleth\"}], \"contour\": [{\"colorbar\": {\"outlinewidth\": 0, \"ticks\": \"\"}, \"colorscale\": [[0.0, \"#0d0887\"], [0.1111111111111111, \"#46039f\"], [0.2222222222222222, \"#7201a8\"], [0.3333333333333333, \"#9c179e\"], [0.4444444444444444, \"#bd3786\"], [0.5555555555555556, \"#d8576b\"], [0.6666666666666666, \"#ed7953\"], [0.7777777777777778, \"#fb9f3a\"], [0.8888888888888888, \"#fdca26\"], [1.0, \"#f0f921\"]], \"type\": \"contour\"}], \"contourcarpet\": [{\"colorbar\": {\"outlinewidth\": 0, \"ticks\": \"\"}, \"type\": \"contourcarpet\"}], \"heatmap\": [{\"colorbar\": {\"outlinewidth\": 0, \"ticks\": \"\"}, \"colorscale\": [[0.0, \"#0d0887\"], [0.1111111111111111, \"#46039f\"], [0.2222222222222222, \"#7201a8\"], [0.3333333333333333, \"#9c179e\"], [0.4444444444444444, \"#bd3786\"], [0.5555555555555556, \"#d8576b\"], [0.6666666666666666, \"#ed7953\"], [0.7777777777777778, \"#fb9f3a\"], [0.8888888888888888, \"#fdca26\"], [1.0, \"#f0f921\"]], \"type\": \"heatmap\"}], \"heatmapgl\": [{\"colorbar\": {\"outlinewidth\": 0, \"ticks\": \"\"}, \"colorscale\": [[0.0, \"#0d0887\"], [0.1111111111111111, \"#46039f\"], [0.2222222222222222, \"#7201a8\"], [0.3333333333333333, \"#9c179e\"], [0.4444444444444444, \"#bd3786\"], [0.5555555555555556, \"#d8576b\"], [0.6666666666666666, \"#ed7953\"], [0.7777777777777778, \"#fb9f3a\"], [0.8888888888888888, \"#fdca26\"], [1.0, \"#f0f921\"]], \"type\": \"heatmapgl\"}], \"histogram\": [{\"marker\": {\"colorbar\": {\"outlinewidth\": 0, \"ticks\": \"\"}}, \"type\": \"histogram\"}], \"histogram2d\": [{\"colorbar\": {\"outlinewidth\": 0, \"ticks\": \"\"}, \"colorscale\": [[0.0, \"#0d0887\"], [0.1111111111111111, \"#46039f\"], [0.2222222222222222, \"#7201a8\"], [0.3333333333333333, \"#9c179e\"], [0.4444444444444444, \"#bd3786\"], [0.5555555555555556, \"#d8576b\"], [0.6666666666666666, \"#ed7953\"], [0.7777777777777778, \"#fb9f3a\"], [0.8888888888888888, \"#fdca26\"], [1.0, \"#f0f921\"]], \"type\": \"histogram2d\"}], \"histogram2dcontour\": [{\"colorbar\": {\"outlinewidth\": 0, \"ticks\": \"\"}, \"colorscale\": [[0.0, \"#0d0887\"], [0.1111111111111111, \"#46039f\"], [0.2222222222222222, \"#7201a8\"], [0.3333333333333333, \"#9c179e\"], [0.4444444444444444, \"#bd3786\"], [0.5555555555555556, \"#d8576b\"], [0.6666666666666666, \"#ed7953\"], [0.7777777777777778, \"#fb9f3a\"], [0.8888888888888888, \"#fdca26\"], [1.0, \"#f0f921\"]], \"type\": \"histogram2dcontour\"}], \"mesh3d\": [{\"colorbar\": {\"outlinewidth\": 0, \"ticks\": \"\"}, \"type\": \"mesh3d\"}], \"parcoords\": [{\"line\": {\"colorbar\": {\"outlinewidth\": 0, \"ticks\": \"\"}}, \"type\": \"parcoords\"}], \"pie\": [{\"automargin\": true, \"type\": \"pie\"}], \"scatter\": [{\"marker\": {\"colorbar\": {\"outlinewidth\": 0, \"ticks\": \"\"}}, \"type\": \"scatter\"}], \"scatter3d\": [{\"line\": {\"colorbar\": {\"outlinewidth\": 0, \"ticks\": \"\"}}, \"marker\": {\"colorbar\": {\"outlinewidth\": 0, \"ticks\": \"\"}}, \"type\": \"scatter3d\"}], \"scattercarpet\": [{\"marker\": {\"colorbar\": {\"outlinewidth\": 0, \"ticks\": \"\"}}, \"type\": \"scattercarpet\"}], \"scattergeo\": [{\"marker\": {\"colorbar\": {\"outlinewidth\": 0, \"ticks\": \"\"}}, \"type\": \"scattergeo\"}], \"scattergl\": [{\"marker\": {\"colorbar\": {\"outlinewidth\": 0, \"ticks\": \"\"}}, \"type\": \"scattergl\"}], \"scattermapbox\": [{\"marker\": {\"colorbar\": {\"outlinewidth\": 0, \"ticks\": \"\"}}, \"type\": \"scattermapbox\"}], \"scatterpolar\": [{\"marker\": {\"colorbar\": {\"outlinewidth\": 0, \"ticks\": \"\"}}, \"type\": \"scatterpolar\"}], \"scatterpolargl\": [{\"marker\": {\"colorbar\": {\"outlinewidth\": 0, \"ticks\": \"\"}}, \"type\": \"scatterpolargl\"}], \"scatterternary\": [{\"marker\": {\"colorbar\": {\"outlinewidth\": 0, \"ticks\": \"\"}}, \"type\": \"scatterternary\"}], \"surface\": [{\"colorbar\": {\"outlinewidth\": 0, \"ticks\": \"\"}, \"colorscale\": [[0.0, \"#0d0887\"], [0.1111111111111111, \"#46039f\"], [0.2222222222222222, \"#7201a8\"], [0.3333333333333333, \"#9c179e\"], [0.4444444444444444, \"#bd3786\"], [0.5555555555555556, \"#d8576b\"], [0.6666666666666666, \"#ed7953\"], [0.7777777777777778, \"#fb9f3a\"], [0.8888888888888888, \"#fdca26\"], [1.0, \"#f0f921\"]], \"type\": \"surface\"}], \"table\": [{\"cells\": {\"fill\": {\"color\": \"#EBF0F8\"}, \"line\": {\"color\": \"white\"}}, \"header\": {\"fill\": {\"color\": \"#C8D4E3\"}, \"line\": {\"color\": \"white\"}}, \"type\": \"table\"}]}, \"layout\": {\"annotationdefaults\": {\"arrowcolor\": \"#2a3f5f\", \"arrowhead\": 0, \"arrowwidth\": 1}, \"coloraxis\": {\"colorbar\": {\"outlinewidth\": 0, \"ticks\": \"\"}}, \"colorscale\": {\"diverging\": [[0, \"#8e0152\"], [0.1, \"#c51b7d\"], [0.2, \"#de77ae\"], [0.3, \"#f1b6da\"], [0.4, \"#fde0ef\"], [0.5, \"#f7f7f7\"], [0.6, \"#e6f5d0\"], [0.7, \"#b8e186\"], [0.8, \"#7fbc41\"], [0.9, \"#4d9221\"], [1, \"#276419\"]], \"sequential\": [[0.0, \"#0d0887\"], [0.1111111111111111, \"#46039f\"], [0.2222222222222222, \"#7201a8\"], [0.3333333333333333, \"#9c179e\"], [0.4444444444444444, \"#bd3786\"], [0.5555555555555556, \"#d8576b\"], [0.6666666666666666, \"#ed7953\"], [0.7777777777777778, \"#fb9f3a\"], [0.8888888888888888, \"#fdca26\"], [1.0, \"#f0f921\"]], \"sequentialminus\": [[0.0, \"#0d0887\"], [0.1111111111111111, \"#46039f\"], [0.2222222222222222, \"#7201a8\"], [0.3333333333333333, \"#9c179e\"], [0.4444444444444444, \"#bd3786\"], [0.5555555555555556, \"#d8576b\"], [0.6666666666666666, \"#ed7953\"], [0.7777777777777778, \"#fb9f3a\"], [0.8888888888888888, \"#fdca26\"], [1.0, \"#f0f921\"]]}, \"colorway\": [\"#636efa\", \"#EF553B\", \"#00cc96\", \"#ab63fa\", \"#FFA15A\", \"#19d3f3\", \"#FF6692\", \"#B6E880\", \"#FF97FF\", \"#FECB52\"], \"font\": {\"color\": \"#2a3f5f\"}, \"geo\": {\"bgcolor\": \"white\", \"lakecolor\": \"white\", \"landcolor\": \"#E5ECF6\", \"showlakes\": true, \"showland\": true, \"subunitcolor\": \"white\"}, \"hoverlabel\": {\"align\": \"left\"}, \"hovermode\": \"closest\", \"mapbox\": {\"style\": \"light\"}, \"paper_bgcolor\": \"white\", \"plot_bgcolor\": \"#E5ECF6\", \"polar\": {\"angularaxis\": {\"gridcolor\": \"white\", \"linecolor\": \"white\", \"ticks\": \"\"}, \"bgcolor\": \"#E5ECF6\", \"radialaxis\": {\"gridcolor\": \"white\", \"linecolor\": \"white\", \"ticks\": \"\"}}, \"scene\": {\"xaxis\": {\"backgroundcolor\": \"#E5ECF6\", \"gridcolor\": \"white\", \"gridwidth\": 2, \"linecolor\": \"white\", \"showbackground\": true, \"ticks\": \"\", \"zerolinecolor\": \"white\"}, \"yaxis\": {\"backgroundcolor\": \"#E5ECF6\", \"gridcolor\": \"white\", \"gridwidth\": 2, \"linecolor\": \"white\", \"showbackground\": true, \"ticks\": \"\", \"zerolinecolor\": \"white\"}, \"zaxis\": {\"backgroundcolor\": \"#E5ECF6\", \"gridcolor\": \"white\", \"gridwidth\": 2, \"linecolor\": \"white\", \"showbackground\": true, \"ticks\": \"\", \"zerolinecolor\": \"white\"}}, \"shapedefaults\": {\"line\": {\"color\": \"#2a3f5f\"}}, \"ternary\": {\"aaxis\": {\"gridcolor\": \"white\", \"linecolor\": \"white\", \"ticks\": \"\"}, \"baxis\": {\"gridcolor\": \"white\", \"linecolor\": \"white\", \"ticks\": \"\"}, \"bgcolor\": \"#E5ECF6\", \"caxis\": {\"gridcolor\": \"white\", \"linecolor\": \"white\", \"ticks\": \"\"}}, \"title\": {\"x\": 0.05}, \"xaxis\": {\"automargin\": true, \"gridcolor\": \"white\", \"linecolor\": \"white\", \"ticks\": \"\", \"title\": {\"standoff\": 15}, \"zerolinecolor\": \"white\", \"zerolinewidth\": 2}, \"yaxis\": {\"automargin\": true, \"gridcolor\": \"white\", \"linecolor\": \"white\", \"ticks\": \"\", \"title\": {\"standoff\": 15}, \"zerolinecolor\": \"white\", \"zerolinewidth\": 2}}}},                        {\"responsive\": true}                    ).then(function(){\n",
       "                            \n",
       "var gd = document.getElementById('f4959130-9082-4d77-a4a3-ced81555f394');\n",
       "var x = new MutationObserver(function (mutations, observer) {{\n",
       "        var display = window.getComputedStyle(gd).display;\n",
       "        if (!display || display === 'none') {{\n",
       "            console.log([gd, 'removed!']);\n",
       "            Plotly.purge(gd);\n",
       "            observer.disconnect();\n",
       "        }}\n",
       "}});\n",
       "\n",
       "// Listen for the removal of the full notebook cells\n",
       "var notebookContainer = gd.closest('#notebook-container');\n",
       "if (notebookContainer) {{\n",
       "    x.observe(notebookContainer, {childList: true});\n",
       "}}\n",
       "\n",
       "// Listen for the clearing of the current output cell\n",
       "var outputEl = gd.closest('.output');\n",
       "if (outputEl) {{\n",
       "    x.observe(outputEl, {childList: true});\n",
       "}}\n",
       "\n",
       "                        })                };                });            </script>        </div>"
      ]
     },
     "metadata": {},
     "output_type": "display_data"
    },
    {
     "data": {
      "application/javascript": [
       "\n",
       "            setTimeout(function() {\n",
       "                var nbb_cell_id = 43;\n",
       "                var nbb_unformatted_code = \"radar_chart(df_CPP, \\\"CEE\\\")\";\n",
       "                var nbb_formatted_code = \"radar_chart(df_CPP, \\\"CEE\\\")\";\n",
       "                var nbb_cells = Jupyter.notebook.get_cells();\n",
       "                for (var i = 0; i < nbb_cells.length; ++i) {\n",
       "                    if (nbb_cells[i].input_prompt_number == nbb_cell_id) {\n",
       "                        if (nbb_cells[i].get_text() == nbb_unformatted_code) {\n",
       "                             nbb_cells[i].set_text(nbb_formatted_code);\n",
       "                        }\n",
       "                        break;\n",
       "                    }\n",
       "                }\n",
       "            }, 500);\n",
       "            "
      ],
      "text/plain": [
       "<IPython.core.display.Javascript object>"
      ]
     },
     "metadata": {},
     "output_type": "display_data"
    }
   ],
   "source": [
    "radar_chart(df_CPP, \"CEE\")"
   ]
  },
  {
   "cell_type": "code",
   "execution_count": 52,
   "metadata": {},
   "outputs": [
    {
     "data": {
      "application/vnd.plotly.v1+json": {
       "config": {
        "plotlyServerURL": "https://plot.ly"
       },
       "data": [
        {
         "fill": "toself",
         "fillcolor": "rgba(0.12156862745098039, 0.4666666666666667, 0.7058823529411765, 0.01)",
         "line": {
          "color": "rgba(0.12156862745098039, 0.4666666666666667, 0.7058823529411765, 1.0)",
          "dash": "dash",
          "width": 3
         },
         "name": "Year 2000",
         "r": [
          0.14415,
          0.8427,
          0.41215,
          0.6376,
          0.4254,
          0.6294,
          0.24355,
          0.55635,
          0.5136000000000001,
          0.3972,
          0.10725000000000001,
          0.42225,
          0.79455,
          0.5443,
          0.14479999999999998,
          0.14415
         ],
         "theta": [
          "China",
          "Japan",
          "South Korea",
          "Australia",
          "New Zealand",
          "Brunei",
          "Cambodia",
          "Indonesia",
          "Laos",
          "Malaysia",
          "Myanmar",
          "Philippines",
          "Singapore",
          "Thailand",
          "Vietnam",
          "China"
         ],
         "type": "scatterpolar"
        },
        {
         "fill": "toself",
         "fillcolor": "rgba(0.6823529411764706, 0.7803921568627451, 0.9098039215686274, 0.01)",
         "line": {
          "color": "rgba(0.6823529411764706, 0.7803921568627451, 0.9098039215686274, 1.0)",
          "dash": "dash",
          "width": 3
         },
         "name": "Year 2001",
         "r": [
          0.15485,
          0.8502,
          0.43455,
          0.6332,
          0.41905,
          0.6081,
          0.23585,
          0.52135,
          0.5145500000000001,
          0.3977,
          0.13579999999999998,
          0.45125,
          0.8415,
          0.521,
          0.1431,
          0.15485
         ],
         "theta": [
          "China",
          "Japan",
          "South Korea",
          "Australia",
          "New Zealand",
          "Brunei",
          "Cambodia",
          "Indonesia",
          "Laos",
          "Malaysia",
          "Myanmar",
          "Philippines",
          "Singapore",
          "Thailand",
          "Vietnam",
          "China"
         ],
         "type": "scatterpolar"
        },
        {
         "fill": "toself",
         "fillcolor": "rgba(0.9, 0.498, 0.054, 0.01)",
         "line": {
          "color": "rgba(0.9, 0.498, 0.054, 1.0)",
          "dash": "dash",
          "width": 3
         },
         "name": "Year 2002",
         "r": [
          0.15725,
          0.841,
          0.45020000000000004,
          0.62845,
          0.4245,
          0.6348,
          0.26105,
          0.5238499999999999,
          0.51505,
          0.4095,
          0.1411,
          0.4685,
          0.9054,
          0.505,
          0.13955,
          0.15725
         ],
         "theta": [
          "China",
          "Japan",
          "South Korea",
          "Australia",
          "New Zealand",
          "Brunei",
          "Cambodia",
          "Indonesia",
          "Laos",
          "Malaysia",
          "Myanmar",
          "Philippines",
          "Singapore",
          "Thailand",
          "Vietnam",
          "China"
         ],
         "type": "scatterpolar"
        },
        {
         "fill": "toself",
         "fillcolor": "rgba(0.9, 0.733, 0.47, 0.01)",
         "line": {
          "color": "rgba(0.9, 0.733, 0.47, 1.0)",
          "dash": "dash",
          "width": 3
         },
         "name": "Year 2003",
         "r": [
          0.15284999999999999,
          0.8504,
          0.4752,
          0.6549499999999999,
          0.42345,
          0.6513,
          0.26705,
          0.52725,
          0.5157499999999999,
          0.38725,
          0.14295000000000002,
          0.4804,
          0.6338,
          0.4886,
          0.14189999999999997,
          0.15284999999999999
         ],
         "theta": [
          "China",
          "Japan",
          "South Korea",
          "Australia",
          "New Zealand",
          "Brunei",
          "Cambodia",
          "Indonesia",
          "Laos",
          "Malaysia",
          "Myanmar",
          "Philippines",
          "Singapore",
          "Thailand",
          "Vietnam",
          "China"
         ],
         "type": "scatterpolar"
        },
        {
         "fill": "toself",
         "fillcolor": "rgba(0.17254901960784313, 0.6274509803921569, 0.17254901960784313, 0.01)",
         "line": {
          "color": "rgba(0.17254901960784313, 0.6274509803921569, 0.17254901960784313, 1.0)",
          "dash": "dash",
          "width": 3
         },
         "name": "Year 2004",
         "r": [
          0.15304999999999996,
          0.87015,
          0.49205,
          0.692,
          0.43789999999999996,
          0.6435500000000001,
          0.28514999999999996,
          0.511,
          0.51635,
          0.37965,
          0.12555,
          0.47795,
          0.7281,
          0.47050000000000003,
          0.13984999999999997,
          0.15304999999999996
         ],
         "theta": [
          "China",
          "Japan",
          "South Korea",
          "Australia",
          "New Zealand",
          "Brunei",
          "Cambodia",
          "Indonesia",
          "Laos",
          "Malaysia",
          "Myanmar",
          "Philippines",
          "Singapore",
          "Thailand",
          "Vietnam",
          "China"
         ],
         "type": "scatterpolar"
        },
        {
         "fill": "toself",
         "fillcolor": "rgba(0.596078431372549, 0.8745098039215686, 0.5411764705882353, 0.01)",
         "line": {
          "color": "rgba(0.596078431372549, 0.8745098039215686, 0.5411764705882353, 1.0)",
          "dash": "dash",
          "width": 3
         },
         "name": "Year 2005",
         "r": [
          0.15645000000000003,
          0.8821,
          0.5272,
          0.74325,
          0.444,
          0.6368,
          0.27695000000000003,
          0.5259499999999999,
          0.5172,
          0.37965,
          0.15054999999999996,
          0.48775,
          0.7471000000000001,
          0.47275,
          0.1456,
          0.15645000000000003
         ],
         "theta": [
          "China",
          "Japan",
          "South Korea",
          "Australia",
          "New Zealand",
          "Brunei",
          "Cambodia",
          "Indonesia",
          "Laos",
          "Malaysia",
          "Myanmar",
          "Philippines",
          "Singapore",
          "Thailand",
          "Vietnam",
          "China"
         ],
         "type": "scatterpolar"
        },
        {
         "fill": "toself",
         "fillcolor": "rgba(1.0, 0.596078431372549, 0.5882352941176471, 0.01)",
         "line": {
          "color": "rgba(1.0, 0.596078431372549, 0.5882352941176471, 1.0)",
          "dash": "dash",
          "width": 3
         },
         "name": "Year 2006",
         "r": [
          0.16249999999999998,
          0.9019999999999999,
          0.54795,
          0.7435499999999999,
          0.46085,
          0.8641,
          0.28524999999999995,
          0.5448,
          0.5194,
          0.39485,
          0.15594999999999998,
          0.54095,
          0.7967500000000001,
          0.48274999999999996,
          0.15575,
          0.16249999999999998
         ],
         "theta": [
          "China",
          "Japan",
          "South Korea",
          "Australia",
          "New Zealand",
          "Brunei",
          "Cambodia",
          "Indonesia",
          "Laos",
          "Malaysia",
          "Myanmar",
          "Philippines",
          "Singapore",
          "Thailand",
          "Vietnam",
          "China"
         ],
         "type": "scatterpolar"
        },
        {
         "fill": "toself",
         "fillcolor": "rgba(0.5803921568627451, 0.403921568627451, 0.7411764705882353, 0.01)",
         "line": {
          "color": "rgba(0.5803921568627451, 0.403921568627451, 0.7411764705882353, 1.0)",
          "dash": "dash",
          "width": 3
         },
         "name": "Year 2007",
         "r": [
          0.17220000000000002,
          0.9048,
          0.5565500000000001,
          0.7434000000000001,
          0.48135,
          0.71025,
          0.27735,
          0.5281499999999999,
          0.52165,
          0.40215,
          0.18285,
          0.5298,
          1,
          0.493,
          0.17054999999999998,
          0.17220000000000002
         ],
         "theta": [
          "China",
          "Japan",
          "South Korea",
          "Australia",
          "New Zealand",
          "Brunei",
          "Cambodia",
          "Indonesia",
          "Laos",
          "Malaysia",
          "Myanmar",
          "Philippines",
          "Singapore",
          "Thailand",
          "Vietnam",
          "China"
         ],
         "type": "scatterpolar"
        },
        {
         "fill": "toself",
         "fillcolor": "rgba(0.7725490196078432, 0.6901960784313725, 0.8352941176470589, 0.01)",
         "line": {
          "color": "rgba(0.7725490196078432, 0.6901960784313725, 0.8352941176470589, 1.0)",
          "dash": "dash",
          "width": 3
         },
         "name": "Year 2008",
         "r": [
          0.18265000000000003,
          0.91925,
          0.5746,
          0.7454000000000001,
          0.49100000000000005,
          0.6966,
          0.2837,
          0.5065500000000001,
          0.52495,
          0.393,
          0.2841,
          0.50265,
          0.7806500000000001,
          0.5119,
          0.17274999999999996,
          0.18265000000000003
         ],
         "theta": [
          "China",
          "Japan",
          "South Korea",
          "Australia",
          "New Zealand",
          "Brunei",
          "Cambodia",
          "Indonesia",
          "Laos",
          "Malaysia",
          "Myanmar",
          "Philippines",
          "Singapore",
          "Thailand",
          "Vietnam",
          "China"
         ],
         "type": "scatterpolar"
        },
        {
         "fill": "toself",
         "fillcolor": "rgba(0.5490196078431373, 0.33725490196078434, 0.29411764705882354, 0.01)",
         "line": {
          "color": "rgba(0.5490196078431373, 0.33725490196078434, 0.29411764705882354, 1.0)",
          "dash": "dash",
          "width": 3
         },
         "name": "Year 2009",
         "r": [
          0.19615,
          0.89515,
          0.59605,
          0.7482,
          0.5258499999999999,
          0.7309,
          0.2685,
          0.50335,
          0.5287,
          0.4122,
          0.3229,
          0.5223500000000001,
          0.6024,
          0.5028,
          0.17875000000000002,
          0.19615
         ],
         "theta": [
          "China",
          "Japan",
          "South Korea",
          "Australia",
          "New Zealand",
          "Brunei",
          "Cambodia",
          "Indonesia",
          "Laos",
          "Malaysia",
          "Myanmar",
          "Philippines",
          "Singapore",
          "Thailand",
          "Vietnam",
          "China"
         ],
         "type": "scatterpolar"
        },
        {
         "fill": "toself",
         "fillcolor": "rgba(0.7686274509803922, 0.611764705882353, 0.5803921568627451, 0.01)",
         "line": {
          "color": "rgba(0.7686274509803922, 0.611764705882353, 0.5803921568627451, 1.0)",
          "dash": "dash",
          "width": 3
         },
         "name": "Year 2010",
         "r": [
          0.20880000000000004,
          0.9127000000000001,
          0.5856,
          0.754,
          0.5312,
          0.72465,
          0.27205,
          0.54785,
          0.53165,
          0.40125,
          0.30619999999999997,
          0.4983,
          0.6790499999999999,
          0.49319999999999997,
          0.18114999999999998,
          0.20880000000000004
         ],
         "theta": [
          "China",
          "Japan",
          "South Korea",
          "Australia",
          "New Zealand",
          "Brunei",
          "Cambodia",
          "Indonesia",
          "Laos",
          "Malaysia",
          "Myanmar",
          "Philippines",
          "Singapore",
          "Thailand",
          "Vietnam",
          "China"
         ],
         "type": "scatterpolar"
        },
        {
         "fill": "toself",
         "fillcolor": "rgba(0.8901960784313725, 0.4666666666666667, 0.7607843137254902, 0.01)",
         "line": {
          "color": "rgba(0.8901960784313725, 0.4666666666666667, 0.7607843137254902, 1.0)",
          "dash": "dash",
          "width": 3
         },
         "name": "Year 2011",
         "r": [
          0.22135000000000005,
          0.894,
          0.59545,
          0.75975,
          0.5435,
          0.69215,
          0.29724999999999996,
          0.5003500000000001,
          0.53425,
          0.4132,
          0.32975,
          0.5133,
          0.7923,
          0.50885,
          0.1901,
          0.22135000000000005
         ],
         "theta": [
          "China",
          "Japan",
          "South Korea",
          "Australia",
          "New Zealand",
          "Brunei",
          "Cambodia",
          "Indonesia",
          "Laos",
          "Malaysia",
          "Myanmar",
          "Philippines",
          "Singapore",
          "Thailand",
          "Vietnam",
          "China"
         ],
         "type": "scatterpolar"
        },
        {
         "fill": "toself",
         "fillcolor": "rgba(0.4980392156862745, 0.4980392156862745, 0.4980392156862745, 0.01)",
         "line": {
          "color": "rgba(0.4980392156862745, 0.4980392156862745, 0.4980392156862745, 1.0)",
          "dash": "dash",
          "width": 3
         },
         "name": "Year 2012",
         "r": [
          0.24370000000000003,
          0.8936999999999999,
          0.6161000000000001,
          0.7622,
          0.5379,
          0.6958500000000001,
          0.31455,
          0.51285,
          0.5369999999999999,
          0.42910000000000004,
          0.5125500000000001,
          0.505,
          0.7926,
          0.4994,
          0.21799999999999997,
          0.24370000000000003
         ],
         "theta": [
          "China",
          "Japan",
          "South Korea",
          "Australia",
          "New Zealand",
          "Brunei",
          "Cambodia",
          "Indonesia",
          "Laos",
          "Malaysia",
          "Myanmar",
          "Philippines",
          "Singapore",
          "Thailand",
          "Vietnam",
          "China"
         ],
         "type": "scatterpolar"
        },
        {
         "fill": "toself",
         "fillcolor": "rgba(0.7803921568627451, 0.7803921568627451, 0.7803921568627451, 0.01)",
         "line": {
          "color": "rgba(0.7803921568627451, 0.7803921568627451, 0.7803921568627451, 1.0)",
          "dash": "dash",
          "width": 3
         },
         "name": "Year 2013",
         "r": [
          0.26844999999999997,
          0.90895,
          0.62875,
          0.7722,
          0.5532999999999999,
          0.747,
          0.33775,
          0.5964499999999999,
          0.5423,
          0.42919999999999997,
          0.51475,
          0.487,
          0.7788999999999999,
          0.49745,
          0.22754999999999997,
          0.26844999999999997
         ],
         "theta": [
          "China",
          "Japan",
          "South Korea",
          "Australia",
          "New Zealand",
          "Brunei",
          "Cambodia",
          "Indonesia",
          "Laos",
          "Malaysia",
          "Myanmar",
          "Philippines",
          "Singapore",
          "Thailand",
          "Vietnam",
          "China"
         ],
         "type": "scatterpolar"
        },
        {
         "fill": "toself",
         "fillcolor": "rgba(0.7372549019607844, 0.7411764705882353, 0.13333333333333333, 0.01)",
         "line": {
          "color": "rgba(0.7372549019607844, 0.7411764705882353, 0.13333333333333333, 1.0)",
          "dash": "dash",
          "width": 3
         },
         "name": "Year 2014",
         "r": [
          0.29719999999999996,
          0.9303999999999999,
          0.6479999999999999,
          0.77955,
          0.563,
          0.7139,
          0.31565,
          0.5971500000000001,
          0.5463,
          0.44355,
          0.5177499999999999,
          0.48065,
          0.8001,
          0.519,
          0.21815,
          0.29719999999999996
         ],
         "theta": [
          "China",
          "Japan",
          "South Korea",
          "Australia",
          "New Zealand",
          "Brunei",
          "Cambodia",
          "Indonesia",
          "Laos",
          "Malaysia",
          "Myanmar",
          "Philippines",
          "Singapore",
          "Thailand",
          "Vietnam",
          "China"
         ],
         "type": "scatterpolar"
        },
        {
         "fill": "toself",
         "fillcolor": "rgba(0.8588235294117647, 0.8588235294117647, 0.5529411764705883, 0.01)",
         "line": {
          "color": "rgba(0.8588235294117647, 0.8588235294117647, 0.5529411764705883, 1.0)",
          "dash": "dash",
          "width": 3
         },
         "name": "Year 2015",
         "r": [
          0.32949999999999996,
          0.9573,
          0.6611,
          0.777,
          0.5767,
          0.778,
          0.27105,
          0.6078,
          0.45165,
          0.47335,
          0.4897,
          0.4532,
          0.7883,
          0.52735,
          0.21215,
          0.32949999999999996
         ],
         "theta": [
          "China",
          "Japan",
          "South Korea",
          "Australia",
          "New Zealand",
          "Brunei",
          "Cambodia",
          "Indonesia",
          "Laos",
          "Malaysia",
          "Myanmar",
          "Philippines",
          "Singapore",
          "Thailand",
          "Vietnam",
          "China"
         ],
         "type": "scatterpolar"
        },
        {
         "fill": "toself",
         "fillcolor": "rgba(0.09019607843137255, 0.7450980392156863, 0.8117647058823529, 0.01)",
         "line": {
          "color": "rgba(0.09019607843137255, 0.7450980392156863, 0.8117647058823529, 1.0)",
          "dash": "dash",
          "width": 3
         },
         "name": "Year 2016",
         "r": [
          0.3616,
          0.9701500000000001,
          0.66925,
          0.7736000000000001,
          0.46749999999999997,
          0.75925,
          0.2576,
          0.60665,
          0.2776,
          0.4807,
          0.51315,
          0.46049999999999996,
          1,
          0.5421,
          0.22469999999999996,
          0.3616
         ],
         "theta": [
          "China",
          "Japan",
          "South Korea",
          "Australia",
          "New Zealand",
          "Brunei",
          "Cambodia",
          "Indonesia",
          "Laos",
          "Malaysia",
          "Myanmar",
          "Philippines",
          "Singapore",
          "Thailand",
          "Vietnam",
          "China"
         ],
         "type": "scatterpolar"
        },
        {
         "fill": "toself",
         "fillcolor": "rgba(0.6196078431372549, 0.8549019607843137, 0.8980392156862745, 0.01)",
         "line": {
          "color": "rgba(0.6196078431372549, 0.8549019607843137, 0.8980392156862745, 1.0)",
          "dash": "dash",
          "width": 3
         },
         "name": "Year 2017",
         "r": [
          0.39185,
          1,
          0.6796,
          0.7746500000000001,
          0.47005,
          0.7604,
          0.27225,
          0.6183000000000001,
          0.2918,
          0.50225,
          0.52735,
          0.45655,
          1,
          0.54945,
          0.2403,
          0.39185
         ],
         "theta": [
          "China",
          "Japan",
          "South Korea",
          "Australia",
          "New Zealand",
          "Brunei",
          "Cambodia",
          "Indonesia",
          "Laos",
          "Malaysia",
          "Myanmar",
          "Philippines",
          "Singapore",
          "Thailand",
          "Vietnam",
          "China"
         ],
         "type": "scatterpolar"
        }
       ],
       "layout": {
        "legend": {
         "x": 0.9,
         "y": 1.1
        },
        "plot_bgcolor": "rgba(0,0,0,0)",
        "polar": {
         "angularaxis": {
          "gridcolor": "black",
          "linecolor": "black",
          "linewidth": 4
         },
         "bgcolor": "rgba(0,0,0,0)",
         "gridshape": "linear",
         "radialaxis": {
          "gridcolor": "black",
          "range": [
           0,
           1
          ],
          "showticklabels": false,
          "visible": true
         }
        },
        "showlegend": true,
        "template": {
         "data": {
          "bar": [
           {
            "error_x": {
             "color": "#2a3f5f"
            },
            "error_y": {
             "color": "#2a3f5f"
            },
            "marker": {
             "line": {
              "color": "#E5ECF6",
              "width": 0.5
             }
            },
            "type": "bar"
           }
          ],
          "barpolar": [
           {
            "marker": {
             "line": {
              "color": "#E5ECF6",
              "width": 0.5
             }
            },
            "type": "barpolar"
           }
          ],
          "carpet": [
           {
            "aaxis": {
             "endlinecolor": "#2a3f5f",
             "gridcolor": "white",
             "linecolor": "white",
             "minorgridcolor": "white",
             "startlinecolor": "#2a3f5f"
            },
            "baxis": {
             "endlinecolor": "#2a3f5f",
             "gridcolor": "white",
             "linecolor": "white",
             "minorgridcolor": "white",
             "startlinecolor": "#2a3f5f"
            },
            "type": "carpet"
           }
          ],
          "choropleth": [
           {
            "colorbar": {
             "outlinewidth": 0,
             "ticks": ""
            },
            "type": "choropleth"
           }
          ],
          "contour": [
           {
            "colorbar": {
             "outlinewidth": 0,
             "ticks": ""
            },
            "colorscale": [
             [
              0,
              "#0d0887"
             ],
             [
              0.1111111111111111,
              "#46039f"
             ],
             [
              0.2222222222222222,
              "#7201a8"
             ],
             [
              0.3333333333333333,
              "#9c179e"
             ],
             [
              0.4444444444444444,
              "#bd3786"
             ],
             [
              0.5555555555555556,
              "#d8576b"
             ],
             [
              0.6666666666666666,
              "#ed7953"
             ],
             [
              0.7777777777777778,
              "#fb9f3a"
             ],
             [
              0.8888888888888888,
              "#fdca26"
             ],
             [
              1,
              "#f0f921"
             ]
            ],
            "type": "contour"
           }
          ],
          "contourcarpet": [
           {
            "colorbar": {
             "outlinewidth": 0,
             "ticks": ""
            },
            "type": "contourcarpet"
           }
          ],
          "heatmap": [
           {
            "colorbar": {
             "outlinewidth": 0,
             "ticks": ""
            },
            "colorscale": [
             [
              0,
              "#0d0887"
             ],
             [
              0.1111111111111111,
              "#46039f"
             ],
             [
              0.2222222222222222,
              "#7201a8"
             ],
             [
              0.3333333333333333,
              "#9c179e"
             ],
             [
              0.4444444444444444,
              "#bd3786"
             ],
             [
              0.5555555555555556,
              "#d8576b"
             ],
             [
              0.6666666666666666,
              "#ed7953"
             ],
             [
              0.7777777777777778,
              "#fb9f3a"
             ],
             [
              0.8888888888888888,
              "#fdca26"
             ],
             [
              1,
              "#f0f921"
             ]
            ],
            "type": "heatmap"
           }
          ],
          "heatmapgl": [
           {
            "colorbar": {
             "outlinewidth": 0,
             "ticks": ""
            },
            "colorscale": [
             [
              0,
              "#0d0887"
             ],
             [
              0.1111111111111111,
              "#46039f"
             ],
             [
              0.2222222222222222,
              "#7201a8"
             ],
             [
              0.3333333333333333,
              "#9c179e"
             ],
             [
              0.4444444444444444,
              "#bd3786"
             ],
             [
              0.5555555555555556,
              "#d8576b"
             ],
             [
              0.6666666666666666,
              "#ed7953"
             ],
             [
              0.7777777777777778,
              "#fb9f3a"
             ],
             [
              0.8888888888888888,
              "#fdca26"
             ],
             [
              1,
              "#f0f921"
             ]
            ],
            "type": "heatmapgl"
           }
          ],
          "histogram": [
           {
            "marker": {
             "colorbar": {
              "outlinewidth": 0,
              "ticks": ""
             }
            },
            "type": "histogram"
           }
          ],
          "histogram2d": [
           {
            "colorbar": {
             "outlinewidth": 0,
             "ticks": ""
            },
            "colorscale": [
             [
              0,
              "#0d0887"
             ],
             [
              0.1111111111111111,
              "#46039f"
             ],
             [
              0.2222222222222222,
              "#7201a8"
             ],
             [
              0.3333333333333333,
              "#9c179e"
             ],
             [
              0.4444444444444444,
              "#bd3786"
             ],
             [
              0.5555555555555556,
              "#d8576b"
             ],
             [
              0.6666666666666666,
              "#ed7953"
             ],
             [
              0.7777777777777778,
              "#fb9f3a"
             ],
             [
              0.8888888888888888,
              "#fdca26"
             ],
             [
              1,
              "#f0f921"
             ]
            ],
            "type": "histogram2d"
           }
          ],
          "histogram2dcontour": [
           {
            "colorbar": {
             "outlinewidth": 0,
             "ticks": ""
            },
            "colorscale": [
             [
              0,
              "#0d0887"
             ],
             [
              0.1111111111111111,
              "#46039f"
             ],
             [
              0.2222222222222222,
              "#7201a8"
             ],
             [
              0.3333333333333333,
              "#9c179e"
             ],
             [
              0.4444444444444444,
              "#bd3786"
             ],
             [
              0.5555555555555556,
              "#d8576b"
             ],
             [
              0.6666666666666666,
              "#ed7953"
             ],
             [
              0.7777777777777778,
              "#fb9f3a"
             ],
             [
              0.8888888888888888,
              "#fdca26"
             ],
             [
              1,
              "#f0f921"
             ]
            ],
            "type": "histogram2dcontour"
           }
          ],
          "mesh3d": [
           {
            "colorbar": {
             "outlinewidth": 0,
             "ticks": ""
            },
            "type": "mesh3d"
           }
          ],
          "parcoords": [
           {
            "line": {
             "colorbar": {
              "outlinewidth": 0,
              "ticks": ""
             }
            },
            "type": "parcoords"
           }
          ],
          "pie": [
           {
            "automargin": true,
            "type": "pie"
           }
          ],
          "scatter": [
           {
            "marker": {
             "colorbar": {
              "outlinewidth": 0,
              "ticks": ""
             }
            },
            "type": "scatter"
           }
          ],
          "scatter3d": [
           {
            "line": {
             "colorbar": {
              "outlinewidth": 0,
              "ticks": ""
             }
            },
            "marker": {
             "colorbar": {
              "outlinewidth": 0,
              "ticks": ""
             }
            },
            "type": "scatter3d"
           }
          ],
          "scattercarpet": [
           {
            "marker": {
             "colorbar": {
              "outlinewidth": 0,
              "ticks": ""
             }
            },
            "type": "scattercarpet"
           }
          ],
          "scattergeo": [
           {
            "marker": {
             "colorbar": {
              "outlinewidth": 0,
              "ticks": ""
             }
            },
            "type": "scattergeo"
           }
          ],
          "scattergl": [
           {
            "marker": {
             "colorbar": {
              "outlinewidth": 0,
              "ticks": ""
             }
            },
            "type": "scattergl"
           }
          ],
          "scattermapbox": [
           {
            "marker": {
             "colorbar": {
              "outlinewidth": 0,
              "ticks": ""
             }
            },
            "type": "scattermapbox"
           }
          ],
          "scatterpolar": [
           {
            "marker": {
             "colorbar": {
              "outlinewidth": 0,
              "ticks": ""
             }
            },
            "type": "scatterpolar"
           }
          ],
          "scatterpolargl": [
           {
            "marker": {
             "colorbar": {
              "outlinewidth": 0,
              "ticks": ""
             }
            },
            "type": "scatterpolargl"
           }
          ],
          "scatterternary": [
           {
            "marker": {
             "colorbar": {
              "outlinewidth": 0,
              "ticks": ""
             }
            },
            "type": "scatterternary"
           }
          ],
          "surface": [
           {
            "colorbar": {
             "outlinewidth": 0,
             "ticks": ""
            },
            "colorscale": [
             [
              0,
              "#0d0887"
             ],
             [
              0.1111111111111111,
              "#46039f"
             ],
             [
              0.2222222222222222,
              "#7201a8"
             ],
             [
              0.3333333333333333,
              "#9c179e"
             ],
             [
              0.4444444444444444,
              "#bd3786"
             ],
             [
              0.5555555555555556,
              "#d8576b"
             ],
             [
              0.6666666666666666,
              "#ed7953"
             ],
             [
              0.7777777777777778,
              "#fb9f3a"
             ],
             [
              0.8888888888888888,
              "#fdca26"
             ],
             [
              1,
              "#f0f921"
             ]
            ],
            "type": "surface"
           }
          ],
          "table": [
           {
            "cells": {
             "fill": {
              "color": "#EBF0F8"
             },
             "line": {
              "color": "white"
             }
            },
            "header": {
             "fill": {
              "color": "#C8D4E3"
             },
             "line": {
              "color": "white"
             }
            },
            "type": "table"
           }
          ]
         },
         "layout": {
          "annotationdefaults": {
           "arrowcolor": "#2a3f5f",
           "arrowhead": 0,
           "arrowwidth": 1
          },
          "coloraxis": {
           "colorbar": {
            "outlinewidth": 0,
            "ticks": ""
           }
          },
          "colorscale": {
           "diverging": [
            [
             0,
             "#8e0152"
            ],
            [
             0.1,
             "#c51b7d"
            ],
            [
             0.2,
             "#de77ae"
            ],
            [
             0.3,
             "#f1b6da"
            ],
            [
             0.4,
             "#fde0ef"
            ],
            [
             0.5,
             "#f7f7f7"
            ],
            [
             0.6,
             "#e6f5d0"
            ],
            [
             0.7,
             "#b8e186"
            ],
            [
             0.8,
             "#7fbc41"
            ],
            [
             0.9,
             "#4d9221"
            ],
            [
             1,
             "#276419"
            ]
           ],
           "sequential": [
            [
             0,
             "#0d0887"
            ],
            [
             0.1111111111111111,
             "#46039f"
            ],
            [
             0.2222222222222222,
             "#7201a8"
            ],
            [
             0.3333333333333333,
             "#9c179e"
            ],
            [
             0.4444444444444444,
             "#bd3786"
            ],
            [
             0.5555555555555556,
             "#d8576b"
            ],
            [
             0.6666666666666666,
             "#ed7953"
            ],
            [
             0.7777777777777778,
             "#fb9f3a"
            ],
            [
             0.8888888888888888,
             "#fdca26"
            ],
            [
             1,
             "#f0f921"
            ]
           ],
           "sequentialminus": [
            [
             0,
             "#0d0887"
            ],
            [
             0.1111111111111111,
             "#46039f"
            ],
            [
             0.2222222222222222,
             "#7201a8"
            ],
            [
             0.3333333333333333,
             "#9c179e"
            ],
            [
             0.4444444444444444,
             "#bd3786"
            ],
            [
             0.5555555555555556,
             "#d8576b"
            ],
            [
             0.6666666666666666,
             "#ed7953"
            ],
            [
             0.7777777777777778,
             "#fb9f3a"
            ],
            [
             0.8888888888888888,
             "#fdca26"
            ],
            [
             1,
             "#f0f921"
            ]
           ]
          },
          "colorway": [
           "#636efa",
           "#EF553B",
           "#00cc96",
           "#ab63fa",
           "#FFA15A",
           "#19d3f3",
           "#FF6692",
           "#B6E880",
           "#FF97FF",
           "#FECB52"
          ],
          "font": {
           "color": "#2a3f5f"
          },
          "geo": {
           "bgcolor": "white",
           "lakecolor": "white",
           "landcolor": "#E5ECF6",
           "showlakes": true,
           "showland": true,
           "subunitcolor": "white"
          },
          "hoverlabel": {
           "align": "left"
          },
          "hovermode": "closest",
          "mapbox": {
           "style": "light"
          },
          "paper_bgcolor": "white",
          "plot_bgcolor": "#E5ECF6",
          "polar": {
           "angularaxis": {
            "gridcolor": "white",
            "linecolor": "white",
            "ticks": ""
           },
           "bgcolor": "#E5ECF6",
           "radialaxis": {
            "gridcolor": "white",
            "linecolor": "white",
            "ticks": ""
           }
          },
          "scene": {
           "xaxis": {
            "backgroundcolor": "#E5ECF6",
            "gridcolor": "white",
            "gridwidth": 2,
            "linecolor": "white",
            "showbackground": true,
            "ticks": "",
            "zerolinecolor": "white"
           },
           "yaxis": {
            "backgroundcolor": "#E5ECF6",
            "gridcolor": "white",
            "gridwidth": 2,
            "linecolor": "white",
            "showbackground": true,
            "ticks": "",
            "zerolinecolor": "white"
           },
           "zaxis": {
            "backgroundcolor": "#E5ECF6",
            "gridcolor": "white",
            "gridwidth": 2,
            "linecolor": "white",
            "showbackground": true,
            "ticks": "",
            "zerolinecolor": "white"
           }
          },
          "shapedefaults": {
           "line": {
            "color": "#2a3f5f"
           }
          },
          "ternary": {
           "aaxis": {
            "gridcolor": "white",
            "linecolor": "white",
            "ticks": ""
           },
           "baxis": {
            "gridcolor": "white",
            "linecolor": "white",
            "ticks": ""
           },
           "bgcolor": "#E5ECF6",
           "caxis": {
            "gridcolor": "white",
            "linecolor": "white",
            "ticks": ""
           }
          },
          "title": {
           "x": 0.05
          },
          "xaxis": {
           "automargin": true,
           "gridcolor": "white",
           "linecolor": "white",
           "ticks": "",
           "title": {
            "standoff": 15
           },
           "zerolinecolor": "white",
           "zerolinewidth": 2
          },
          "yaxis": {
           "automargin": true,
           "gridcolor": "white",
           "linecolor": "white",
           "ticks": "",
           "title": {
            "standoff": 15
           },
           "zerolinecolor": "white",
           "zerolinewidth": 2
          }
         }
        }
       }
      },
      "text/html": [
       "<div>                            <div id=\"c3ffccf3-ce35-4ed0-a4f8-4bf4fe142148\" class=\"plotly-graph-div\" style=\"height:525px; width:100%;\"></div>            <script type=\"text/javascript\">                require([\"plotly\"], function(Plotly) {                    window.PLOTLYENV=window.PLOTLYENV || {};                                    if (document.getElementById(\"c3ffccf3-ce35-4ed0-a4f8-4bf4fe142148\")) {                    Plotly.newPlot(                        \"c3ffccf3-ce35-4ed0-a4f8-4bf4fe142148\",                        [{\"fill\": \"toself\", \"fillcolor\": \"rgba(0.12156862745098039, 0.4666666666666667, 0.7058823529411765, 0.01)\", \"line\": {\"color\": \"rgba(0.12156862745098039, 0.4666666666666667, 0.7058823529411765, 1.0)\", \"dash\": \"dash\", \"width\": 3}, \"name\": \"Year 2000\", \"r\": [0.14415, 0.8427, 0.41215, 0.6376, 0.4254, 0.6294, 0.24355, 0.55635, 0.5136000000000001, 0.3972, 0.10725000000000001, 0.42225, 0.79455, 0.5443, 0.14479999999999998, 0.14415], \"theta\": [\"China\", \"Japan\", \"South Korea\", \"Australia\", \"New Zealand\", \"Brunei\", \"Cambodia\", \"Indonesia\", \"Laos\", \"Malaysia\", \"Myanmar\", \"Philippines\", \"Singapore\", \"Thailand\", \"Vietnam\", \"China\"], \"type\": \"scatterpolar\"}, {\"fill\": \"toself\", \"fillcolor\": \"rgba(0.6823529411764706, 0.7803921568627451, 0.9098039215686274, 0.01)\", \"line\": {\"color\": \"rgba(0.6823529411764706, 0.7803921568627451, 0.9098039215686274, 1.0)\", \"dash\": \"dash\", \"width\": 3}, \"name\": \"Year 2001\", \"r\": [0.15485, 0.8502, 0.43455, 0.6332, 0.41905, 0.6081, 0.23585, 0.52135, 0.5145500000000001, 0.3977, 0.13579999999999998, 0.45125, 0.8415, 0.521, 0.1431, 0.15485], \"theta\": [\"China\", \"Japan\", \"South Korea\", \"Australia\", \"New Zealand\", \"Brunei\", \"Cambodia\", \"Indonesia\", \"Laos\", \"Malaysia\", \"Myanmar\", \"Philippines\", \"Singapore\", \"Thailand\", \"Vietnam\", \"China\"], \"type\": \"scatterpolar\"}, {\"fill\": \"toself\", \"fillcolor\": \"rgba(0.9, 0.498, 0.054, 0.01)\", \"line\": {\"color\": \"rgba(0.9, 0.498, 0.054, 1.0)\", \"dash\": \"dash\", \"width\": 3}, \"name\": \"Year 2002\", \"r\": [0.15725, 0.841, 0.45020000000000004, 0.62845, 0.4245, 0.6348, 0.26105, 0.5238499999999999, 0.51505, 0.4095, 0.1411, 0.4685, 0.9054, 0.505, 0.13955, 0.15725], \"theta\": [\"China\", \"Japan\", \"South Korea\", \"Australia\", \"New Zealand\", \"Brunei\", \"Cambodia\", \"Indonesia\", \"Laos\", \"Malaysia\", \"Myanmar\", \"Philippines\", \"Singapore\", \"Thailand\", \"Vietnam\", \"China\"], \"type\": \"scatterpolar\"}, {\"fill\": \"toself\", \"fillcolor\": \"rgba(0.9, 0.733, 0.47, 0.01)\", \"line\": {\"color\": \"rgba(0.9, 0.733, 0.47, 1.0)\", \"dash\": \"dash\", \"width\": 3}, \"name\": \"Year 2003\", \"r\": [0.15284999999999999, 0.8504, 0.4752, 0.6549499999999999, 0.42345, 0.6513, 0.26705, 0.52725, 0.5157499999999999, 0.38725, 0.14295000000000002, 0.4804, 0.6338, 0.4886, 0.14189999999999997, 0.15284999999999999], \"theta\": [\"China\", \"Japan\", \"South Korea\", \"Australia\", \"New Zealand\", \"Brunei\", \"Cambodia\", \"Indonesia\", \"Laos\", \"Malaysia\", \"Myanmar\", \"Philippines\", \"Singapore\", \"Thailand\", \"Vietnam\", \"China\"], \"type\": \"scatterpolar\"}, {\"fill\": \"toself\", \"fillcolor\": \"rgba(0.17254901960784313, 0.6274509803921569, 0.17254901960784313, 0.01)\", \"line\": {\"color\": \"rgba(0.17254901960784313, 0.6274509803921569, 0.17254901960784313, 1.0)\", \"dash\": \"dash\", \"width\": 3}, \"name\": \"Year 2004\", \"r\": [0.15304999999999996, 0.87015, 0.49205, 0.692, 0.43789999999999996, 0.6435500000000001, 0.28514999999999996, 0.511, 0.51635, 0.37965, 0.12555, 0.47795, 0.7281, 0.47050000000000003, 0.13984999999999997, 0.15304999999999996], \"theta\": [\"China\", \"Japan\", \"South Korea\", \"Australia\", \"New Zealand\", \"Brunei\", \"Cambodia\", \"Indonesia\", \"Laos\", \"Malaysia\", \"Myanmar\", \"Philippines\", \"Singapore\", \"Thailand\", \"Vietnam\", \"China\"], \"type\": \"scatterpolar\"}, {\"fill\": \"toself\", \"fillcolor\": \"rgba(0.596078431372549, 0.8745098039215686, 0.5411764705882353, 0.01)\", \"line\": {\"color\": \"rgba(0.596078431372549, 0.8745098039215686, 0.5411764705882353, 1.0)\", \"dash\": \"dash\", \"width\": 3}, \"name\": \"Year 2005\", \"r\": [0.15645000000000003, 0.8821, 0.5272, 0.74325, 0.444, 0.6368, 0.27695000000000003, 0.5259499999999999, 0.5172, 0.37965, 0.15054999999999996, 0.48775, 0.7471000000000001, 0.47275, 0.1456, 0.15645000000000003], \"theta\": [\"China\", \"Japan\", \"South Korea\", \"Australia\", \"New Zealand\", \"Brunei\", \"Cambodia\", \"Indonesia\", \"Laos\", \"Malaysia\", \"Myanmar\", \"Philippines\", \"Singapore\", \"Thailand\", \"Vietnam\", \"China\"], \"type\": \"scatterpolar\"}, {\"fill\": \"toself\", \"fillcolor\": \"rgba(1.0, 0.596078431372549, 0.5882352941176471, 0.01)\", \"line\": {\"color\": \"rgba(1.0, 0.596078431372549, 0.5882352941176471, 1.0)\", \"dash\": \"dash\", \"width\": 3}, \"name\": \"Year 2006\", \"r\": [0.16249999999999998, 0.9019999999999999, 0.54795, 0.7435499999999999, 0.46085, 0.8641, 0.28524999999999995, 0.5448, 0.5194, 0.39485, 0.15594999999999998, 0.54095, 0.7967500000000001, 0.48274999999999996, 0.15575, 0.16249999999999998], \"theta\": [\"China\", \"Japan\", \"South Korea\", \"Australia\", \"New Zealand\", \"Brunei\", \"Cambodia\", \"Indonesia\", \"Laos\", \"Malaysia\", \"Myanmar\", \"Philippines\", \"Singapore\", \"Thailand\", \"Vietnam\", \"China\"], \"type\": \"scatterpolar\"}, {\"fill\": \"toself\", \"fillcolor\": \"rgba(0.5803921568627451, 0.403921568627451, 0.7411764705882353, 0.01)\", \"line\": {\"color\": \"rgba(0.5803921568627451, 0.403921568627451, 0.7411764705882353, 1.0)\", \"dash\": \"dash\", \"width\": 3}, \"name\": \"Year 2007\", \"r\": [0.17220000000000002, 0.9048, 0.5565500000000001, 0.7434000000000001, 0.48135, 0.71025, 0.27735, 0.5281499999999999, 0.52165, 0.40215, 0.18285, 0.5298, 1.0, 0.493, 0.17054999999999998, 0.17220000000000002], \"theta\": [\"China\", \"Japan\", \"South Korea\", \"Australia\", \"New Zealand\", \"Brunei\", \"Cambodia\", \"Indonesia\", \"Laos\", \"Malaysia\", \"Myanmar\", \"Philippines\", \"Singapore\", \"Thailand\", \"Vietnam\", \"China\"], \"type\": \"scatterpolar\"}, {\"fill\": \"toself\", \"fillcolor\": \"rgba(0.7725490196078432, 0.6901960784313725, 0.8352941176470589, 0.01)\", \"line\": {\"color\": \"rgba(0.7725490196078432, 0.6901960784313725, 0.8352941176470589, 1.0)\", \"dash\": \"dash\", \"width\": 3}, \"name\": \"Year 2008\", \"r\": [0.18265000000000003, 0.91925, 0.5746, 0.7454000000000001, 0.49100000000000005, 0.6966, 0.2837, 0.5065500000000001, 0.52495, 0.393, 0.2841, 0.50265, 0.7806500000000001, 0.5119, 0.17274999999999996, 0.18265000000000003], \"theta\": [\"China\", \"Japan\", \"South Korea\", \"Australia\", \"New Zealand\", \"Brunei\", \"Cambodia\", \"Indonesia\", \"Laos\", \"Malaysia\", \"Myanmar\", \"Philippines\", \"Singapore\", \"Thailand\", \"Vietnam\", \"China\"], \"type\": \"scatterpolar\"}, {\"fill\": \"toself\", \"fillcolor\": \"rgba(0.5490196078431373, 0.33725490196078434, 0.29411764705882354, 0.01)\", \"line\": {\"color\": \"rgba(0.5490196078431373, 0.33725490196078434, 0.29411764705882354, 1.0)\", \"dash\": \"dash\", \"width\": 3}, \"name\": \"Year 2009\", \"r\": [0.19615, 0.89515, 0.59605, 0.7482, 0.5258499999999999, 0.7309, 0.2685, 0.50335, 0.5287, 0.4122, 0.3229, 0.5223500000000001, 0.6024, 0.5028, 0.17875000000000002, 0.19615], \"theta\": [\"China\", \"Japan\", \"South Korea\", \"Australia\", \"New Zealand\", \"Brunei\", \"Cambodia\", \"Indonesia\", \"Laos\", \"Malaysia\", \"Myanmar\", \"Philippines\", \"Singapore\", \"Thailand\", \"Vietnam\", \"China\"], \"type\": \"scatterpolar\"}, {\"fill\": \"toself\", \"fillcolor\": \"rgba(0.7686274509803922, 0.611764705882353, 0.5803921568627451, 0.01)\", \"line\": {\"color\": \"rgba(0.7686274509803922, 0.611764705882353, 0.5803921568627451, 1.0)\", \"dash\": \"dash\", \"width\": 3}, \"name\": \"Year 2010\", \"r\": [0.20880000000000004, 0.9127000000000001, 0.5856, 0.754, 0.5312, 0.72465, 0.27205, 0.54785, 0.53165, 0.40125, 0.30619999999999997, 0.4983, 0.6790499999999999, 0.49319999999999997, 0.18114999999999998, 0.20880000000000004], \"theta\": [\"China\", \"Japan\", \"South Korea\", \"Australia\", \"New Zealand\", \"Brunei\", \"Cambodia\", \"Indonesia\", \"Laos\", \"Malaysia\", \"Myanmar\", \"Philippines\", \"Singapore\", \"Thailand\", \"Vietnam\", \"China\"], \"type\": \"scatterpolar\"}, {\"fill\": \"toself\", \"fillcolor\": \"rgba(0.8901960784313725, 0.4666666666666667, 0.7607843137254902, 0.01)\", \"line\": {\"color\": \"rgba(0.8901960784313725, 0.4666666666666667, 0.7607843137254902, 1.0)\", \"dash\": \"dash\", \"width\": 3}, \"name\": \"Year 2011\", \"r\": [0.22135000000000005, 0.894, 0.59545, 0.75975, 0.5435, 0.69215, 0.29724999999999996, 0.5003500000000001, 0.53425, 0.4132, 0.32975, 0.5133, 0.7923, 0.50885, 0.1901, 0.22135000000000005], \"theta\": [\"China\", \"Japan\", \"South Korea\", \"Australia\", \"New Zealand\", \"Brunei\", \"Cambodia\", \"Indonesia\", \"Laos\", \"Malaysia\", \"Myanmar\", \"Philippines\", \"Singapore\", \"Thailand\", \"Vietnam\", \"China\"], \"type\": \"scatterpolar\"}, {\"fill\": \"toself\", \"fillcolor\": \"rgba(0.4980392156862745, 0.4980392156862745, 0.4980392156862745, 0.01)\", \"line\": {\"color\": \"rgba(0.4980392156862745, 0.4980392156862745, 0.4980392156862745, 1.0)\", \"dash\": \"dash\", \"width\": 3}, \"name\": \"Year 2012\", \"r\": [0.24370000000000003, 0.8936999999999999, 0.6161000000000001, 0.7622, 0.5379, 0.6958500000000001, 0.31455, 0.51285, 0.5369999999999999, 0.42910000000000004, 0.5125500000000001, 0.505, 0.7926, 0.4994, 0.21799999999999997, 0.24370000000000003], \"theta\": [\"China\", \"Japan\", \"South Korea\", \"Australia\", \"New Zealand\", \"Brunei\", \"Cambodia\", \"Indonesia\", \"Laos\", \"Malaysia\", \"Myanmar\", \"Philippines\", \"Singapore\", \"Thailand\", \"Vietnam\", \"China\"], \"type\": \"scatterpolar\"}, {\"fill\": \"toself\", \"fillcolor\": \"rgba(0.7803921568627451, 0.7803921568627451, 0.7803921568627451, 0.01)\", \"line\": {\"color\": \"rgba(0.7803921568627451, 0.7803921568627451, 0.7803921568627451, 1.0)\", \"dash\": \"dash\", \"width\": 3}, \"name\": \"Year 2013\", \"r\": [0.26844999999999997, 0.90895, 0.62875, 0.7722, 0.5532999999999999, 0.747, 0.33775, 0.5964499999999999, 0.5423, 0.42919999999999997, 0.51475, 0.487, 0.7788999999999999, 0.49745, 0.22754999999999997, 0.26844999999999997], \"theta\": [\"China\", \"Japan\", \"South Korea\", \"Australia\", \"New Zealand\", \"Brunei\", \"Cambodia\", \"Indonesia\", \"Laos\", \"Malaysia\", \"Myanmar\", \"Philippines\", \"Singapore\", \"Thailand\", \"Vietnam\", \"China\"], \"type\": \"scatterpolar\"}, {\"fill\": \"toself\", \"fillcolor\": \"rgba(0.7372549019607844, 0.7411764705882353, 0.13333333333333333, 0.01)\", \"line\": {\"color\": \"rgba(0.7372549019607844, 0.7411764705882353, 0.13333333333333333, 1.0)\", \"dash\": \"dash\", \"width\": 3}, \"name\": \"Year 2014\", \"r\": [0.29719999999999996, 0.9303999999999999, 0.6479999999999999, 0.77955, 0.563, 0.7139, 0.31565, 0.5971500000000001, 0.5463, 0.44355, 0.5177499999999999, 0.48065, 0.8001, 0.519, 0.21815, 0.29719999999999996], \"theta\": [\"China\", \"Japan\", \"South Korea\", \"Australia\", \"New Zealand\", \"Brunei\", \"Cambodia\", \"Indonesia\", \"Laos\", \"Malaysia\", \"Myanmar\", \"Philippines\", \"Singapore\", \"Thailand\", \"Vietnam\", \"China\"], \"type\": \"scatterpolar\"}, {\"fill\": \"toself\", \"fillcolor\": \"rgba(0.8588235294117647, 0.8588235294117647, 0.5529411764705883, 0.01)\", \"line\": {\"color\": \"rgba(0.8588235294117647, 0.8588235294117647, 0.5529411764705883, 1.0)\", \"dash\": \"dash\", \"width\": 3}, \"name\": \"Year 2015\", \"r\": [0.32949999999999996, 0.9573, 0.6611, 0.777, 0.5767, 0.778, 0.27105, 0.6078, 0.45165, 0.47335, 0.4897, 0.4532, 0.7883, 0.52735, 0.21215, 0.32949999999999996], \"theta\": [\"China\", \"Japan\", \"South Korea\", \"Australia\", \"New Zealand\", \"Brunei\", \"Cambodia\", \"Indonesia\", \"Laos\", \"Malaysia\", \"Myanmar\", \"Philippines\", \"Singapore\", \"Thailand\", \"Vietnam\", \"China\"], \"type\": \"scatterpolar\"}, {\"fill\": \"toself\", \"fillcolor\": \"rgba(0.09019607843137255, 0.7450980392156863, 0.8117647058823529, 0.01)\", \"line\": {\"color\": \"rgba(0.09019607843137255, 0.7450980392156863, 0.8117647058823529, 1.0)\", \"dash\": \"dash\", \"width\": 3}, \"name\": \"Year 2016\", \"r\": [0.3616, 0.9701500000000001, 0.66925, 0.7736000000000001, 0.46749999999999997, 0.75925, 0.2576, 0.60665, 0.2776, 0.4807, 0.51315, 0.46049999999999996, 1.0, 0.5421, 0.22469999999999996, 0.3616], \"theta\": [\"China\", \"Japan\", \"South Korea\", \"Australia\", \"New Zealand\", \"Brunei\", \"Cambodia\", \"Indonesia\", \"Laos\", \"Malaysia\", \"Myanmar\", \"Philippines\", \"Singapore\", \"Thailand\", \"Vietnam\", \"China\"], \"type\": \"scatterpolar\"}, {\"fill\": \"toself\", \"fillcolor\": \"rgba(0.6196078431372549, 0.8549019607843137, 0.8980392156862745, 0.01)\", \"line\": {\"color\": \"rgba(0.6196078431372549, 0.8549019607843137, 0.8980392156862745, 1.0)\", \"dash\": \"dash\", \"width\": 3}, \"name\": \"Year 2017\", \"r\": [0.39185, 1.0, 0.6796, 0.7746500000000001, 0.47005, 0.7604, 0.27225, 0.6183000000000001, 0.2918, 0.50225, 0.52735, 0.45655, 1.0, 0.54945, 0.2403, 0.39185], \"theta\": [\"China\", \"Japan\", \"South Korea\", \"Australia\", \"New Zealand\", \"Brunei\", \"Cambodia\", \"Indonesia\", \"Laos\", \"Malaysia\", \"Myanmar\", \"Philippines\", \"Singapore\", \"Thailand\", \"Vietnam\", \"China\"], \"type\": \"scatterpolar\"}],                        {\"legend\": {\"x\": 0.9, \"y\": 1.1}, \"plot_bgcolor\": \"rgba(0,0,0,0)\", \"polar\": {\"angularaxis\": {\"gridcolor\": \"black\", \"linecolor\": \"black\", \"linewidth\": 4}, \"bgcolor\": \"rgba(0,0,0,0)\", \"gridshape\": \"linear\", \"radialaxis\": {\"gridcolor\": \"black\", \"range\": [0, 1.0], \"showticklabels\": false, \"visible\": true}}, \"showlegend\": true, \"template\": {\"data\": {\"bar\": [{\"error_x\": {\"color\": \"#2a3f5f\"}, \"error_y\": {\"color\": \"#2a3f5f\"}, \"marker\": {\"line\": {\"color\": \"#E5ECF6\", \"width\": 0.5}}, \"type\": \"bar\"}], \"barpolar\": [{\"marker\": {\"line\": {\"color\": \"#E5ECF6\", \"width\": 0.5}}, \"type\": \"barpolar\"}], \"carpet\": [{\"aaxis\": {\"endlinecolor\": \"#2a3f5f\", \"gridcolor\": \"white\", \"linecolor\": \"white\", \"minorgridcolor\": \"white\", \"startlinecolor\": \"#2a3f5f\"}, \"baxis\": {\"endlinecolor\": \"#2a3f5f\", \"gridcolor\": \"white\", \"linecolor\": \"white\", \"minorgridcolor\": \"white\", \"startlinecolor\": \"#2a3f5f\"}, \"type\": \"carpet\"}], \"choropleth\": [{\"colorbar\": {\"outlinewidth\": 0, \"ticks\": \"\"}, \"type\": \"choropleth\"}], \"contour\": [{\"colorbar\": {\"outlinewidth\": 0, \"ticks\": \"\"}, \"colorscale\": [[0.0, \"#0d0887\"], [0.1111111111111111, \"#46039f\"], [0.2222222222222222, \"#7201a8\"], [0.3333333333333333, \"#9c179e\"], [0.4444444444444444, \"#bd3786\"], [0.5555555555555556, \"#d8576b\"], [0.6666666666666666, \"#ed7953\"], [0.7777777777777778, \"#fb9f3a\"], [0.8888888888888888, \"#fdca26\"], [1.0, \"#f0f921\"]], \"type\": \"contour\"}], \"contourcarpet\": [{\"colorbar\": {\"outlinewidth\": 0, \"ticks\": \"\"}, \"type\": \"contourcarpet\"}], \"heatmap\": [{\"colorbar\": {\"outlinewidth\": 0, \"ticks\": \"\"}, \"colorscale\": [[0.0, \"#0d0887\"], [0.1111111111111111, \"#46039f\"], [0.2222222222222222, \"#7201a8\"], [0.3333333333333333, \"#9c179e\"], [0.4444444444444444, \"#bd3786\"], [0.5555555555555556, \"#d8576b\"], [0.6666666666666666, \"#ed7953\"], [0.7777777777777778, \"#fb9f3a\"], [0.8888888888888888, \"#fdca26\"], [1.0, \"#f0f921\"]], \"type\": \"heatmap\"}], \"heatmapgl\": [{\"colorbar\": {\"outlinewidth\": 0, \"ticks\": \"\"}, \"colorscale\": [[0.0, \"#0d0887\"], [0.1111111111111111, \"#46039f\"], [0.2222222222222222, \"#7201a8\"], [0.3333333333333333, \"#9c179e\"], [0.4444444444444444, \"#bd3786\"], [0.5555555555555556, \"#d8576b\"], [0.6666666666666666, \"#ed7953\"], [0.7777777777777778, \"#fb9f3a\"], [0.8888888888888888, \"#fdca26\"], [1.0, \"#f0f921\"]], \"type\": \"heatmapgl\"}], \"histogram\": [{\"marker\": {\"colorbar\": {\"outlinewidth\": 0, \"ticks\": \"\"}}, \"type\": \"histogram\"}], \"histogram2d\": [{\"colorbar\": {\"outlinewidth\": 0, \"ticks\": \"\"}, \"colorscale\": [[0.0, \"#0d0887\"], [0.1111111111111111, \"#46039f\"], [0.2222222222222222, \"#7201a8\"], [0.3333333333333333, \"#9c179e\"], [0.4444444444444444, \"#bd3786\"], [0.5555555555555556, \"#d8576b\"], [0.6666666666666666, \"#ed7953\"], [0.7777777777777778, \"#fb9f3a\"], [0.8888888888888888, \"#fdca26\"], [1.0, \"#f0f921\"]], \"type\": \"histogram2d\"}], \"histogram2dcontour\": [{\"colorbar\": {\"outlinewidth\": 0, \"ticks\": \"\"}, \"colorscale\": [[0.0, \"#0d0887\"], [0.1111111111111111, \"#46039f\"], [0.2222222222222222, \"#7201a8\"], [0.3333333333333333, \"#9c179e\"], [0.4444444444444444, \"#bd3786\"], [0.5555555555555556, \"#d8576b\"], [0.6666666666666666, \"#ed7953\"], [0.7777777777777778, \"#fb9f3a\"], [0.8888888888888888, \"#fdca26\"], [1.0, \"#f0f921\"]], \"type\": \"histogram2dcontour\"}], \"mesh3d\": [{\"colorbar\": {\"outlinewidth\": 0, \"ticks\": \"\"}, \"type\": \"mesh3d\"}], \"parcoords\": [{\"line\": {\"colorbar\": {\"outlinewidth\": 0, \"ticks\": \"\"}}, \"type\": \"parcoords\"}], \"pie\": [{\"automargin\": true, \"type\": \"pie\"}], \"scatter\": [{\"marker\": {\"colorbar\": {\"outlinewidth\": 0, \"ticks\": \"\"}}, \"type\": \"scatter\"}], \"scatter3d\": [{\"line\": {\"colorbar\": {\"outlinewidth\": 0, \"ticks\": \"\"}}, \"marker\": {\"colorbar\": {\"outlinewidth\": 0, \"ticks\": \"\"}}, \"type\": \"scatter3d\"}], \"scattercarpet\": [{\"marker\": {\"colorbar\": {\"outlinewidth\": 0, \"ticks\": \"\"}}, \"type\": \"scattercarpet\"}], \"scattergeo\": [{\"marker\": {\"colorbar\": {\"outlinewidth\": 0, \"ticks\": \"\"}}, \"type\": \"scattergeo\"}], \"scattergl\": [{\"marker\": {\"colorbar\": {\"outlinewidth\": 0, \"ticks\": \"\"}}, \"type\": \"scattergl\"}], \"scattermapbox\": [{\"marker\": {\"colorbar\": {\"outlinewidth\": 0, \"ticks\": \"\"}}, \"type\": \"scattermapbox\"}], \"scatterpolar\": [{\"marker\": {\"colorbar\": {\"outlinewidth\": 0, \"ticks\": \"\"}}, \"type\": \"scatterpolar\"}], \"scatterpolargl\": [{\"marker\": {\"colorbar\": {\"outlinewidth\": 0, \"ticks\": \"\"}}, \"type\": \"scatterpolargl\"}], \"scatterternary\": [{\"marker\": {\"colorbar\": {\"outlinewidth\": 0, \"ticks\": \"\"}}, \"type\": \"scatterternary\"}], \"surface\": [{\"colorbar\": {\"outlinewidth\": 0, \"ticks\": \"\"}, \"colorscale\": [[0.0, \"#0d0887\"], [0.1111111111111111, \"#46039f\"], [0.2222222222222222, \"#7201a8\"], [0.3333333333333333, \"#9c179e\"], [0.4444444444444444, \"#bd3786\"], [0.5555555555555556, \"#d8576b\"], [0.6666666666666666, \"#ed7953\"], [0.7777777777777778, \"#fb9f3a\"], [0.8888888888888888, \"#fdca26\"], [1.0, \"#f0f921\"]], \"type\": \"surface\"}], \"table\": [{\"cells\": {\"fill\": {\"color\": \"#EBF0F8\"}, \"line\": {\"color\": \"white\"}}, \"header\": {\"fill\": {\"color\": \"#C8D4E3\"}, \"line\": {\"color\": \"white\"}}, \"type\": \"table\"}]}, \"layout\": {\"annotationdefaults\": {\"arrowcolor\": \"#2a3f5f\", \"arrowhead\": 0, \"arrowwidth\": 1}, \"coloraxis\": {\"colorbar\": {\"outlinewidth\": 0, \"ticks\": \"\"}}, \"colorscale\": {\"diverging\": [[0, \"#8e0152\"], [0.1, \"#c51b7d\"], [0.2, \"#de77ae\"], [0.3, \"#f1b6da\"], [0.4, \"#fde0ef\"], [0.5, \"#f7f7f7\"], [0.6, \"#e6f5d0\"], [0.7, \"#b8e186\"], [0.8, \"#7fbc41\"], [0.9, \"#4d9221\"], [1, \"#276419\"]], \"sequential\": [[0.0, \"#0d0887\"], [0.1111111111111111, \"#46039f\"], [0.2222222222222222, \"#7201a8\"], [0.3333333333333333, \"#9c179e\"], [0.4444444444444444, \"#bd3786\"], [0.5555555555555556, \"#d8576b\"], [0.6666666666666666, \"#ed7953\"], [0.7777777777777778, \"#fb9f3a\"], [0.8888888888888888, \"#fdca26\"], [1.0, \"#f0f921\"]], \"sequentialminus\": [[0.0, \"#0d0887\"], [0.1111111111111111, \"#46039f\"], [0.2222222222222222, \"#7201a8\"], [0.3333333333333333, \"#9c179e\"], [0.4444444444444444, \"#bd3786\"], [0.5555555555555556, \"#d8576b\"], [0.6666666666666666, \"#ed7953\"], [0.7777777777777778, \"#fb9f3a\"], [0.8888888888888888, \"#fdca26\"], [1.0, \"#f0f921\"]]}, \"colorway\": [\"#636efa\", \"#EF553B\", \"#00cc96\", \"#ab63fa\", \"#FFA15A\", \"#19d3f3\", \"#FF6692\", \"#B6E880\", \"#FF97FF\", \"#FECB52\"], \"font\": {\"color\": \"#2a3f5f\"}, \"geo\": {\"bgcolor\": \"white\", \"lakecolor\": \"white\", \"landcolor\": \"#E5ECF6\", \"showlakes\": true, \"showland\": true, \"subunitcolor\": \"white\"}, \"hoverlabel\": {\"align\": \"left\"}, \"hovermode\": \"closest\", \"mapbox\": {\"style\": \"light\"}, \"paper_bgcolor\": \"white\", \"plot_bgcolor\": \"#E5ECF6\", \"polar\": {\"angularaxis\": {\"gridcolor\": \"white\", \"linecolor\": \"white\", \"ticks\": \"\"}, \"bgcolor\": \"#E5ECF6\", \"radialaxis\": {\"gridcolor\": \"white\", \"linecolor\": \"white\", \"ticks\": \"\"}}, \"scene\": {\"xaxis\": {\"backgroundcolor\": \"#E5ECF6\", \"gridcolor\": \"white\", \"gridwidth\": 2, \"linecolor\": \"white\", \"showbackground\": true, \"ticks\": \"\", \"zerolinecolor\": \"white\"}, \"yaxis\": {\"backgroundcolor\": \"#E5ECF6\", \"gridcolor\": \"white\", \"gridwidth\": 2, \"linecolor\": \"white\", \"showbackground\": true, \"ticks\": \"\", \"zerolinecolor\": \"white\"}, \"zaxis\": {\"backgroundcolor\": \"#E5ECF6\", \"gridcolor\": \"white\", \"gridwidth\": 2, \"linecolor\": \"white\", \"showbackground\": true, \"ticks\": \"\", \"zerolinecolor\": \"white\"}}, \"shapedefaults\": {\"line\": {\"color\": \"#2a3f5f\"}}, \"ternary\": {\"aaxis\": {\"gridcolor\": \"white\", \"linecolor\": \"white\", \"ticks\": \"\"}, \"baxis\": {\"gridcolor\": \"white\", \"linecolor\": \"white\", \"ticks\": \"\"}, \"bgcolor\": \"#E5ECF6\", \"caxis\": {\"gridcolor\": \"white\", \"linecolor\": \"white\", \"ticks\": \"\"}}, \"title\": {\"x\": 0.05}, \"xaxis\": {\"automargin\": true, \"gridcolor\": \"white\", \"linecolor\": \"white\", \"ticks\": \"\", \"title\": {\"standoff\": 15}, \"zerolinecolor\": \"white\", \"zerolinewidth\": 2}, \"yaxis\": {\"automargin\": true, \"gridcolor\": \"white\", \"linecolor\": \"white\", \"ticks\": \"\", \"title\": {\"standoff\": 15}, \"zerolinecolor\": \"white\", \"zerolinewidth\": 2}}}},                        {\"responsive\": true}                    ).then(function(){\n",
       "                            \n",
       "var gd = document.getElementById('c3ffccf3-ce35-4ed0-a4f8-4bf4fe142148');\n",
       "var x = new MutationObserver(function (mutations, observer) {{\n",
       "        var display = window.getComputedStyle(gd).display;\n",
       "        if (!display || display === 'none') {{\n",
       "            console.log([gd, 'removed!']);\n",
       "            Plotly.purge(gd);\n",
       "            observer.disconnect();\n",
       "        }}\n",
       "}});\n",
       "\n",
       "// Listen for the removal of the full notebook cells\n",
       "var notebookContainer = gd.closest('#notebook-container');\n",
       "if (notebookContainer) {{\n",
       "    x.observe(notebookContainer, {childList: true});\n",
       "}}\n",
       "\n",
       "// Listen for the clearing of the current output cell\n",
       "var outputEl = gd.closest('.output');\n",
       "if (outputEl) {{\n",
       "    x.observe(outputEl, {childList: true});\n",
       "}}\n",
       "\n",
       "                        })                };                });            </script>        </div>"
      ]
     },
     "metadata": {},
     "output_type": "display_data"
    },
    {
     "data": {
      "application/javascript": [
       "\n",
       "            setTimeout(function() {\n",
       "                var nbb_cell_id = 52;\n",
       "                var nbb_unformatted_code = \"radar_chart(df_CPP, \\\"CPP\\\")\";\n",
       "                var nbb_formatted_code = \"radar_chart(df_CPP, \\\"CPP\\\")\";\n",
       "                var nbb_cells = Jupyter.notebook.get_cells();\n",
       "                for (var i = 0; i < nbb_cells.length; ++i) {\n",
       "                    if (nbb_cells[i].input_prompt_number == nbb_cell_id) {\n",
       "                        if (nbb_cells[i].get_text() == nbb_unformatted_code) {\n",
       "                             nbb_cells[i].set_text(nbb_formatted_code);\n",
       "                        }\n",
       "                        break;\n",
       "                    }\n",
       "                }\n",
       "            }, 500);\n",
       "            "
      ],
      "text/plain": [
       "<IPython.core.display.Javascript object>"
      ]
     },
     "metadata": {},
     "output_type": "display_data"
    }
   ],
   "source": [
    "radar_chart(df_CPP, \"CPP\")"
   ]
  },
  {
   "cell_type": "code",
   "execution_count": 53,
   "metadata": {},
   "outputs": [
    {
     "data": {
      "application/vnd.plotly.v1+json": {
       "config": {
        "plotlyServerURL": "https://plot.ly"
       },
       "data": [
        {
         "fill": "toself",
         "fillcolor": "rgba(0.12156862745098039, 0.4666666666666667, 0.7058823529411765, 0.01)",
         "line": {
          "color": "rgba(0.12156862745098039, 0.4666666666666667, 0.7058823529411765, 1.0)",
          "dash": "dash",
          "width": 3
         },
         "name": "Year 2000",
         "r": [
          3.5907643312101936,
          0.9394706559263521,
          0.9910628019323671,
          0.5053712666745367,
          1.1132637853949332,
          0.6761651131824234,
          57.686746987951985,
          7.416792738275341,
          36.76470588235294,
          1.708489601091033,
          43.68749999999976,
          10.039215686274508,
          0.7684175383930559,
          3.436022819885901,
          14.24210526315788,
          3.5907643312101936
         ],
         "theta": [
          "China",
          "Japan",
          "South Korea",
          "Australia",
          "New Zealand",
          "Brunei",
          "Cambodia",
          "Indonesia",
          "Laos",
          "Malaysia",
          "Myanmar",
          "Philippines",
          "Singapore",
          "Thailand",
          "Vietnam",
          "China"
         ],
         "type": "scatterpolar"
        },
        {
         "fill": "toself",
         "fillcolor": "rgba(0.6823529411764706, 0.7803921568627451, 0.9098039215686274, 0.01)",
         "line": {
          "color": "rgba(0.6823529411764706, 0.7803921568627451, 0.9098039215686274, 1.0)",
          "dash": "dash",
          "width": 3
         },
         "name": "Year 2001",
         "r": [
          3.534407027818446,
          0.9517906336088153,
          0.9910652920962199,
          0.5001184553423359,
          1.056182531894014,
          0.721931190712162,
          51.41111111111107,
          6.717986676535899,
          34.364261168384864,
          1.637267904509284,
          50.24528301886819,
          10.555697823303465,
          0.76841441630766,
          3.2443991853360483,
          12.628571428571417,
          3.534407027818446
         ],
         "theta": [
          "China",
          "Japan",
          "South Korea",
          "Australia",
          "New Zealand",
          "Brunei",
          "Cambodia",
          "Indonesia",
          "Laos",
          "Malaysia",
          "Myanmar",
          "Philippines",
          "Singapore",
          "Thailand",
          "Vietnam",
          "China"
         ],
         "type": "scatterpolar"
        },
        {
         "fill": "toself",
         "fillcolor": "rgba(0.9, 0.498, 0.054, 0.01)",
         "line": {
          "color": "rgba(0.9, 0.498, 0.054, 1.0)",
          "dash": "dash",
          "width": 3
         },
         "name": "Year 2002",
         "r": [
          3.2214765100671134,
          0.9313354001607531,
          0.9646519746890683,
          0.4991650763358778,
          1.0656934306569341,
          0.7596673596673597,
          53.385416666666366,
          6.592028985507246,
          33.22259136212623,
          1.6547811993517016,
          48.50877192982423,
          10.80100755667506,
          0.8108,
          3.1090317331163546,
          11.082251082251078,
          3.2214765100671134
         ],
         "theta": [
          "China",
          "Japan",
          "South Korea",
          "Australia",
          "New Zealand",
          "Brunei",
          "Cambodia",
          "Indonesia",
          "Laos",
          "Malaysia",
          "Myanmar",
          "Philippines",
          "Singapore",
          "Thailand",
          "Vietnam",
          "China"
         ],
         "type": "scatterpolar"
        },
        {
         "fill": "toself",
         "fillcolor": "rgba(0.9, 0.733, 0.47, 0.01)",
         "line": {
          "color": "rgba(0.9, 0.733, 0.47, 1.0)",
          "dash": "dash",
          "width": 3
         },
         "name": "Year 2003",
         "r": [
          2.750920245398772,
          0.9265971907566833,
          0.9726027397260274,
          0.4946371519853948,
          1.0304483337329176,
          0.7365684575389948,
          50.355769230769404,
          6.4840312278211485,
          31.746031746031775,
          1.4634223918575062,
          45.868852459016445,
          11.025031289111393,
          1.2375992939099736,
          2.9594813614262554,
          10.042801556420255,
          2.750920245398772
         ],
         "theta": [
          "China",
          "Japan",
          "South Korea",
          "Australia",
          "New Zealand",
          "Brunei",
          "Cambodia",
          "Indonesia",
          "Laos",
          "Malaysia",
          "Myanmar",
          "Philippines",
          "Singapore",
          "Thailand",
          "Vietnam",
          "China"
         ],
         "type": "scatterpolar"
        },
        {
         "fill": "toself",
         "fillcolor": "rgba(0.17254901960784313, 0.6274509803921569, 0.17254901960784313, 0.01)",
         "line": {
          "color": "rgba(0.17254901960784313, 0.6274509803921569, 0.17254901960784313, 1.0)",
          "dash": "dash",
          "width": 3
         },
         "name": "Year 2004",
         "r": [
          2.4048943270300334,
          0.9310918774966711,
          0.9440932437771632,
          0.48338692390139326,
          1.057317359642941,
          0.6873361300471945,
          49.919642857142904,
          6.121951219512197,
          30.58103975535173,
          1.3668952618453867,
          36.47761194029829,
          10.845105328376704,
          1.3681899495852983,
          2.7715430861723442,
          8.814035087719306,
          2.4048943270300334
         ],
         "theta": [
          "China",
          "Japan",
          "South Korea",
          "Australia",
          "New Zealand",
          "Brunei",
          "Cambodia",
          "Indonesia",
          "Laos",
          "Malaysia",
          "Myanmar",
          "Philippines",
          "Singapore",
          "Thailand",
          "Vietnam",
          "China"
         ],
         "type": "scatterpolar"
        },
        {
         "fill": "toself",
         "fillcolor": "rgba(0.596078431372549, 0.8745098039215686, 0.5411764705882353, 0.01)",
         "line": {
          "color": "rgba(0.596078431372549, 0.8745098039215686, 0.5411764705882353, 1.0)",
          "dash": "dash",
          "width": 3
         },
         "name": "Year 2005",
         "r": [
          2.147887323943661,
          0.9268239405854085,
          0.9879336349924586,
          0.48650000000000004,
          1.0250855188141392,
          0.698812858476724,
          44.40163934426234,
          6.141208418194162,
          29.069767441860478,
          1.3170582850167836,
          39.689189189189385,
          10.984029484029481,
          1.3104994587907839,
          2.716588050314466,
          8.244444444444452,
          2.147887323943661
         ],
         "theta": [
          "China",
          "Japan",
          "South Korea",
          "Australia",
          "New Zealand",
          "Brunei",
          "Cambodia",
          "Indonesia",
          "Laos",
          "Malaysia",
          "Myanmar",
          "Philippines",
          "Singapore",
          "Thailand",
          "Vietnam",
          "China"
         ],
         "type": "scatterpolar"
        },
        {
         "fill": "toself",
         "fillcolor": "rgba(1.0, 0.596078431372549, 0.5882352941176471, 0.01)",
         "line": {
          "color": "rgba(1.0, 0.596078431372549, 0.5882352941176471, 1.0)",
          "dash": "dash",
          "width": 3
         },
         "name": "Year 2006",
         "r": [
          1.9545454545454546,
          0.9443845656391464,
          0.978158844765343,
          0.4871,
          1.040513615231348,
          0.7282,
          41.894736842105324,
          6.168421052631578,
          25.773195876288696,
          1.36437125748503,
          36.130952380952536,
          12.210012210012215,
          1.3330893118594436,
          2.693573068094874,
          7.951149425287342,
          1.9545454545454546
         ],
         "theta": [
          "China",
          "Japan",
          "South Korea",
          "Australia",
          "New Zealand",
          "Brunei",
          "Cambodia",
          "Indonesia",
          "Laos",
          "Malaysia",
          "Myanmar",
          "Philippines",
          "Singapore",
          "Thailand",
          "Vietnam",
          "China"
         ],
         "type": "scatterpolar"
        },
        {
         "fill": "toself",
         "fillcolor": "rgba(0.5803921568627451, 0.403921568627451, 0.7411764705882353, 0.01)",
         "line": {
          "color": "rgba(0.5803921568627451, 0.403921568627451, 0.7411764705882353, 1.0)",
          "dash": "dash",
          "width": 3
         },
         "name": "Year 2007",
         "r": [
          1.8275862068965516,
          0.9189819724284201,
          0.9261117840456825,
          0.4868,
          1.0783678756476687,
          0.4205,
          36.99315068493164,
          5.74521072796935,
          23.094688221709003,
          1.3621145374449337,
          36.31632653061213,
          11.76626506024097,
          1,
          2.672253258845438,
          7.906005221932114,
          1.8275862068965516
         ],
         "theta": [
          "China",
          "Japan",
          "South Korea",
          "Australia",
          "New Zealand",
          "Brunei",
          "Cambodia",
          "Indonesia",
          "Laos",
          "Malaysia",
          "Myanmar",
          "Philippines",
          "Singapore",
          "Thailand",
          "Vietnam",
          "China"
         ],
         "type": "scatterpolar"
        },
        {
         "fill": "toself",
         "fillcolor": "rgba(0.7725490196078432, 0.6901960784313725, 0.8352941176470589, 0.01)",
         "line": {
          "color": "rgba(0.7725490196078432, 0.6901960784313725, 0.8352941176470589, 1.0)",
          "dash": "dash",
          "width": 3
         },
         "name": "Year 2008",
         "r": [
          1.7099406528189909,
          0.9720047195108871,
          0.9061204179797645,
          0.4908,
          1.0604280318925725,
          0.3932,
          34.02469135802471,
          5.253703703703702,
          20.04008016032062,
          1.2534403669724772,
          47.98275862068943,
          10.95362663495839,
          1.2326612326612325,
          2.717501815541031,
          7.091334894613588,
          1.7099406528189909
         ],
         "theta": [
          "China",
          "Japan",
          "South Korea",
          "Australia",
          "New Zealand",
          "Brunei",
          "Cambodia",
          "Indonesia",
          "Laos",
          "Malaysia",
          "Myanmar",
          "Philippines",
          "Singapore",
          "Thailand",
          "Vietnam",
          "China"
         ],
         "type": "scatterpolar"
        },
        {
         "fill": "toself",
         "fillcolor": "rgba(0.5490196078431373, 0.33725490196078434, 0.29411764705882354, 0.01)",
         "line": {
          "color": "rgba(0.5490196078431373, 0.33725490196078434, 0.29411764705882354, 1.0)",
          "dash": "dash",
          "width": 3
         },
         "name": "Year 2009",
         "r": [
          1.6346541302887838,
          1.030048758362626,
          0.9073599999999999,
          0.49639999999999995,
          1.1586617405582924,
          0.4618,
          28.833333333333307,
          4.974480712166173,
          17.421602787456443,
          1.3124824684431975,
          46.138686131386706,
          11.26173708920187,
          0.7899272024959145,
          2.560906515580737,
          6.606382978723398,
          1.6346541302887838
         ],
         "theta": [
          "China",
          "Japan",
          "South Korea",
          "Australia",
          "New Zealand",
          "Brunei",
          "Cambodia",
          "Indonesia",
          "Laos",
          "Malaysia",
          "Myanmar",
          "Philippines",
          "Singapore",
          "Thailand",
          "Vietnam",
          "China"
         ],
         "type": "scatterpolar"
        },
        {
         "fill": "toself",
         "fillcolor": "rgba(0.7686274509803922, 0.611764705882353, 0.5803921568627451, 0.01)",
         "line": {
          "color": "rgba(0.7686274509803922, 0.611764705882353, 0.5803921568627451, 1.0)",
          "dash": "dash",
          "width": 3
         },
         "name": "Year 2010",
         "r": [
          1.5005988023952095,
          0.9862894450489662,
          0.815813953488372,
          0.508,
          1.163747454175153,
          0.44930000000000003,
          26.479797979797926,
          5.2647226986849605,
          15.797788309636646,
          1.2137931034482756,
          36.1151515151516,
          10.561484918793496,
          0.820509383378016,
          2.4417306350314028,
          6.021317829457367,
          1.5005988023952095
         ],
         "theta": [
          "China",
          "Japan",
          "South Korea",
          "Australia",
          "New Zealand",
          "Brunei",
          "Cambodia",
          "Indonesia",
          "Laos",
          "Malaysia",
          "Myanmar",
          "Philippines",
          "Singapore",
          "Thailand",
          "Vietnam",
          "China"
         ],
         "type": "scatterpolar"
        },
        {
         "fill": "toself",
         "fillcolor": "rgba(0.8901960784313725, 0.4666666666666667, 0.7607843137254902, 0.01)",
         "line": {
          "color": "rgba(0.8901960784313725, 0.4666666666666667, 0.7607843137254902, 1.0)",
          "dash": "dash",
          "width": 3
         },
         "name": "Year 2011",
         "r": [
          1.3661143773383218,
          0.9468641114982579,
          0.7884066676678181,
          0.5195000000000001,
          1.199959522363894,
          0.3843,
          26.523148148148206,
          4.4953322350356935,
          14.5985401459854,
          1.2280938258290646,
          31.487684729064064,
          10.639455782312933,
          1.0496701590997284,
          2.4793162393162396,
          5.705467372134041,
          1.3661143773383218
         ],
         "theta": [
          "China",
          "Japan",
          "South Korea",
          "Australia",
          "New Zealand",
          "Brunei",
          "Cambodia",
          "Indonesia",
          "Laos",
          "Malaysia",
          "Myanmar",
          "Philippines",
          "Singapore",
          "Thailand",
          "Vietnam",
          "China"
         ],
         "type": "scatterpolar"
        },
        {
         "fill": "toself",
         "fillcolor": "rgba(0.4980392156862745, 0.4980392156862745, 0.4980392156862745, 0.01)",
         "line": {
          "color": "rgba(0.4980392156862745, 0.4980392156862745, 0.4980392156862745, 1.0)",
          "dash": "dash",
          "width": 3
         },
         "name": "Year 2012",
         "r": [
          1.338771593090211,
          0.9163718237375362,
          0.7993574766355139,
          0.5244,
          1.1572087427311006,
          0.39170000000000005,
          25.770212765957485,
          4.39842105263158,
          13.513513513513521,
          1.254860746190226,
          39.84063745019918,
          10.247216035634745,
          1.001767899987372,
          2.3393513874958205,
          6.1710526315789505,
          1.338771593090211
         ],
         "theta": [
          "China",
          "Japan",
          "South Korea",
          "Australia",
          "New Zealand",
          "Brunei",
          "Cambodia",
          "Indonesia",
          "Laos",
          "Malaysia",
          "Myanmar",
          "Philippines",
          "Singapore",
          "Thailand",
          "Vietnam",
          "China"
         ],
         "type": "scatterpolar"
        },
        {
         "fill": "toself",
         "fillcolor": "rgba(0.7803921568627451, 0.7803921568627451, 0.7803921568627451, 0.01)",
         "line": {
          "color": "rgba(0.7803921568627451, 0.7803921568627451, 0.7803921568627451, 1.0)",
          "dash": "dash",
          "width": 3
         },
         "name": "Year 2013",
         "r": [
          1.3242424242424242,
          0.9091577399705943,
          0.7930985312990161,
          0.5444,
          1.1925896572221124,
          0.494,
          25.5944881889764,
          5.184033177812339,
          11.820330969267138,
          1.1715153048317732,
          33.89830508474579,
          9.610021786492375,
          0.9064985925835272,
          2.2354471544715446,
          6.023148148148151,
          1.3242424242424242
         ],
         "theta": [
          "China",
          "Japan",
          "South Korea",
          "Australia",
          "New Zealand",
          "Brunei",
          "Cambodia",
          "Indonesia",
          "Laos",
          "Malaysia",
          "Myanmar",
          "Philippines",
          "Singapore",
          "Thailand",
          "Vietnam",
          "China"
         ],
         "type": "scatterpolar"
        },
        {
         "fill": "toself",
         "fillcolor": "rgba(0.7372549019607844, 0.7411764705882353, 0.13333333333333333, 0.01)",
         "line": {
          "color": "rgba(0.7372549019607844, 0.7411764705882353, 0.13333333333333333, 1.0)",
          "dash": "dash",
          "width": 3
         },
         "name": "Year 2014",
         "r": [
          1.3282412847630238,
          0.9442064570055375,
          0.8040089086859689,
          0.5590999999999999,
          1.1949317738791423,
          0.42779999999999996,
          21.873188405797137,
          5.146680391147709,
          10.79913606911447,
          1.1542010684798443,
          28.16901408450706,
          9.183262711864403,
          0.9097744360902256,
          2.2941923198984444,
          5.341569767441864,
          1.3282412847630238
         ],
         "theta": [
          "China",
          "Japan",
          "South Korea",
          "Australia",
          "New Zealand",
          "Brunei",
          "Cambodia",
          "Indonesia",
          "Laos",
          "Malaysia",
          "Myanmar",
          "Philippines",
          "Singapore",
          "Thailand",
          "Vietnam",
          "China"
         ],
         "type": "scatterpolar"
        },
        {
         "fill": "toself",
         "fillcolor": "rgba(0.8588235294117647, 0.8588235294117647, 0.5529411764705883, 0.01)",
         "line": {
          "color": "rgba(0.8588235294117647, 0.8588235294117647, 0.5529411764705883, 1.0)",
          "dash": "dash",
          "width": 3
         },
         "name": "Year 2015",
         "r": [
          1.3493761140819964,
          0.9740179399938138,
          0.7954915806626833,
          0.554,
          1.199885561701316,
          0.556,
          17.130434782608674,
          4.638218923933209,
          7.130513051305132,
          1.2093348891481914,
          22.153664302600472,
          8.32510288065844,
          0.8487335834896811,
          2.276483379931656,
          4.788540245566164,
          1.3493761140819964
         ],
         "theta": [
          "China",
          "Japan",
          "South Korea",
          "Australia",
          "New Zealand",
          "Brunei",
          "Cambodia",
          "Indonesia",
          "Laos",
          "Malaysia",
          "Myanmar",
          "Philippines",
          "Singapore",
          "Thailand",
          "Vietnam",
          "China"
         ],
         "type": "scatterpolar"
        },
        {
         "fill": "toself",
         "fillcolor": "rgba(0.09019607843137255, 0.7450980392156863, 0.8117647058823529, 0.01)",
         "line": {
          "color": "rgba(0.09019607843137255, 0.7450980392156863, 0.8117647058823529, 1.0)",
          "dash": "dash",
          "width": 3
         },
         "name": "Year 2016",
         "r": [
          1.358004564721226,
          0.9869943676395289,
          0.7688648077177216,
          0.5472,
          1.2672162948593597,
          0.5185,
          15.099999999999985,
          4.347289554869987,
          3.6421404682274234,
          1.1589939366719064,
          19.81744421906693,
          8.100790513833996,
          1,
          2.292438505921652,
          4.754161331626123,
          1.358004564721226
         ],
         "theta": [
          "China",
          "Japan",
          "South Korea",
          "Australia",
          "New Zealand",
          "Brunei",
          "Cambodia",
          "Indonesia",
          "Laos",
          "Malaysia",
          "Myanmar",
          "Philippines",
          "Singapore",
          "Thailand",
          "Vietnam",
          "China"
         ],
         "type": "scatterpolar"
        },
        {
         "fill": "toself",
         "fillcolor": "rgba(0.6196078431372549, 0.8549019607843137, 0.8980392156862745, 0.01)",
         "line": {
          "color": "rgba(0.6196078431372549, 0.8549019607843137, 0.8980392156862745, 1.0)",
          "dash": "dash",
          "width": 3
         },
         "name": "Year 2017",
         "r": [
          1.3457048787788088,
          1,
          0.7432345774015646,
          0.5493,
          1.216171617161716,
          0.5207999999999999,
          14.87463556851312,
          4.222128378378378,
          3.555815768930523,
          1.1765980498374862,
          18.281535648994524,
          7.478180129990713,
          1,
          2.26179875333927,
          4.769507803121246,
          1.3457048787788088
         ],
         "theta": [
          "China",
          "Japan",
          "South Korea",
          "Australia",
          "New Zealand",
          "Brunei",
          "Cambodia",
          "Indonesia",
          "Laos",
          "Malaysia",
          "Myanmar",
          "Philippines",
          "Singapore",
          "Thailand",
          "Vietnam",
          "China"
         ],
         "type": "scatterpolar"
        }
       ],
       "layout": {
        "legend": {
         "x": 0.9,
         "y": 1.1
        },
        "plot_bgcolor": "rgba(0,0,0,0)",
        "polar": {
         "angularaxis": {
          "gridcolor": "black",
          "linecolor": "black",
          "linewidth": 4
         },
         "bgcolor": "rgba(0,0,0,0)",
         "gridshape": "linear",
         "radialaxis": {
          "gridcolor": "black",
          "range": [
           0,
           57.686746987951985
          ],
          "showticklabels": false,
          "visible": true
         }
        },
        "showlegend": true,
        "template": {
         "data": {
          "bar": [
           {
            "error_x": {
             "color": "#2a3f5f"
            },
            "error_y": {
             "color": "#2a3f5f"
            },
            "marker": {
             "line": {
              "color": "#E5ECF6",
              "width": 0.5
             }
            },
            "type": "bar"
           }
          ],
          "barpolar": [
           {
            "marker": {
             "line": {
              "color": "#E5ECF6",
              "width": 0.5
             }
            },
            "type": "barpolar"
           }
          ],
          "carpet": [
           {
            "aaxis": {
             "endlinecolor": "#2a3f5f",
             "gridcolor": "white",
             "linecolor": "white",
             "minorgridcolor": "white",
             "startlinecolor": "#2a3f5f"
            },
            "baxis": {
             "endlinecolor": "#2a3f5f",
             "gridcolor": "white",
             "linecolor": "white",
             "minorgridcolor": "white",
             "startlinecolor": "#2a3f5f"
            },
            "type": "carpet"
           }
          ],
          "choropleth": [
           {
            "colorbar": {
             "outlinewidth": 0,
             "ticks": ""
            },
            "type": "choropleth"
           }
          ],
          "contour": [
           {
            "colorbar": {
             "outlinewidth": 0,
             "ticks": ""
            },
            "colorscale": [
             [
              0,
              "#0d0887"
             ],
             [
              0.1111111111111111,
              "#46039f"
             ],
             [
              0.2222222222222222,
              "#7201a8"
             ],
             [
              0.3333333333333333,
              "#9c179e"
             ],
             [
              0.4444444444444444,
              "#bd3786"
             ],
             [
              0.5555555555555556,
              "#d8576b"
             ],
             [
              0.6666666666666666,
              "#ed7953"
             ],
             [
              0.7777777777777778,
              "#fb9f3a"
             ],
             [
              0.8888888888888888,
              "#fdca26"
             ],
             [
              1,
              "#f0f921"
             ]
            ],
            "type": "contour"
           }
          ],
          "contourcarpet": [
           {
            "colorbar": {
             "outlinewidth": 0,
             "ticks": ""
            },
            "type": "contourcarpet"
           }
          ],
          "heatmap": [
           {
            "colorbar": {
             "outlinewidth": 0,
             "ticks": ""
            },
            "colorscale": [
             [
              0,
              "#0d0887"
             ],
             [
              0.1111111111111111,
              "#46039f"
             ],
             [
              0.2222222222222222,
              "#7201a8"
             ],
             [
              0.3333333333333333,
              "#9c179e"
             ],
             [
              0.4444444444444444,
              "#bd3786"
             ],
             [
              0.5555555555555556,
              "#d8576b"
             ],
             [
              0.6666666666666666,
              "#ed7953"
             ],
             [
              0.7777777777777778,
              "#fb9f3a"
             ],
             [
              0.8888888888888888,
              "#fdca26"
             ],
             [
              1,
              "#f0f921"
             ]
            ],
            "type": "heatmap"
           }
          ],
          "heatmapgl": [
           {
            "colorbar": {
             "outlinewidth": 0,
             "ticks": ""
            },
            "colorscale": [
             [
              0,
              "#0d0887"
             ],
             [
              0.1111111111111111,
              "#46039f"
             ],
             [
              0.2222222222222222,
              "#7201a8"
             ],
             [
              0.3333333333333333,
              "#9c179e"
             ],
             [
              0.4444444444444444,
              "#bd3786"
             ],
             [
              0.5555555555555556,
              "#d8576b"
             ],
             [
              0.6666666666666666,
              "#ed7953"
             ],
             [
              0.7777777777777778,
              "#fb9f3a"
             ],
             [
              0.8888888888888888,
              "#fdca26"
             ],
             [
              1,
              "#f0f921"
             ]
            ],
            "type": "heatmapgl"
           }
          ],
          "histogram": [
           {
            "marker": {
             "colorbar": {
              "outlinewidth": 0,
              "ticks": ""
             }
            },
            "type": "histogram"
           }
          ],
          "histogram2d": [
           {
            "colorbar": {
             "outlinewidth": 0,
             "ticks": ""
            },
            "colorscale": [
             [
              0,
              "#0d0887"
             ],
             [
              0.1111111111111111,
              "#46039f"
             ],
             [
              0.2222222222222222,
              "#7201a8"
             ],
             [
              0.3333333333333333,
              "#9c179e"
             ],
             [
              0.4444444444444444,
              "#bd3786"
             ],
             [
              0.5555555555555556,
              "#d8576b"
             ],
             [
              0.6666666666666666,
              "#ed7953"
             ],
             [
              0.7777777777777778,
              "#fb9f3a"
             ],
             [
              0.8888888888888888,
              "#fdca26"
             ],
             [
              1,
              "#f0f921"
             ]
            ],
            "type": "histogram2d"
           }
          ],
          "histogram2dcontour": [
           {
            "colorbar": {
             "outlinewidth": 0,
             "ticks": ""
            },
            "colorscale": [
             [
              0,
              "#0d0887"
             ],
             [
              0.1111111111111111,
              "#46039f"
             ],
             [
              0.2222222222222222,
              "#7201a8"
             ],
             [
              0.3333333333333333,
              "#9c179e"
             ],
             [
              0.4444444444444444,
              "#bd3786"
             ],
             [
              0.5555555555555556,
              "#d8576b"
             ],
             [
              0.6666666666666666,
              "#ed7953"
             ],
             [
              0.7777777777777778,
              "#fb9f3a"
             ],
             [
              0.8888888888888888,
              "#fdca26"
             ],
             [
              1,
              "#f0f921"
             ]
            ],
            "type": "histogram2dcontour"
           }
          ],
          "mesh3d": [
           {
            "colorbar": {
             "outlinewidth": 0,
             "ticks": ""
            },
            "type": "mesh3d"
           }
          ],
          "parcoords": [
           {
            "line": {
             "colorbar": {
              "outlinewidth": 0,
              "ticks": ""
             }
            },
            "type": "parcoords"
           }
          ],
          "pie": [
           {
            "automargin": true,
            "type": "pie"
           }
          ],
          "scatter": [
           {
            "marker": {
             "colorbar": {
              "outlinewidth": 0,
              "ticks": ""
             }
            },
            "type": "scatter"
           }
          ],
          "scatter3d": [
           {
            "line": {
             "colorbar": {
              "outlinewidth": 0,
              "ticks": ""
             }
            },
            "marker": {
             "colorbar": {
              "outlinewidth": 0,
              "ticks": ""
             }
            },
            "type": "scatter3d"
           }
          ],
          "scattercarpet": [
           {
            "marker": {
             "colorbar": {
              "outlinewidth": 0,
              "ticks": ""
             }
            },
            "type": "scattercarpet"
           }
          ],
          "scattergeo": [
           {
            "marker": {
             "colorbar": {
              "outlinewidth": 0,
              "ticks": ""
             }
            },
            "type": "scattergeo"
           }
          ],
          "scattergl": [
           {
            "marker": {
             "colorbar": {
              "outlinewidth": 0,
              "ticks": ""
             }
            },
            "type": "scattergl"
           }
          ],
          "scattermapbox": [
           {
            "marker": {
             "colorbar": {
              "outlinewidth": 0,
              "ticks": ""
             }
            },
            "type": "scattermapbox"
           }
          ],
          "scatterpolar": [
           {
            "marker": {
             "colorbar": {
              "outlinewidth": 0,
              "ticks": ""
             }
            },
            "type": "scatterpolar"
           }
          ],
          "scatterpolargl": [
           {
            "marker": {
             "colorbar": {
              "outlinewidth": 0,
              "ticks": ""
             }
            },
            "type": "scatterpolargl"
           }
          ],
          "scatterternary": [
           {
            "marker": {
             "colorbar": {
              "outlinewidth": 0,
              "ticks": ""
             }
            },
            "type": "scatterternary"
           }
          ],
          "surface": [
           {
            "colorbar": {
             "outlinewidth": 0,
             "ticks": ""
            },
            "colorscale": [
             [
              0,
              "#0d0887"
             ],
             [
              0.1111111111111111,
              "#46039f"
             ],
             [
              0.2222222222222222,
              "#7201a8"
             ],
             [
              0.3333333333333333,
              "#9c179e"
             ],
             [
              0.4444444444444444,
              "#bd3786"
             ],
             [
              0.5555555555555556,
              "#d8576b"
             ],
             [
              0.6666666666666666,
              "#ed7953"
             ],
             [
              0.7777777777777778,
              "#fb9f3a"
             ],
             [
              0.8888888888888888,
              "#fdca26"
             ],
             [
              1,
              "#f0f921"
             ]
            ],
            "type": "surface"
           }
          ],
          "table": [
           {
            "cells": {
             "fill": {
              "color": "#EBF0F8"
             },
             "line": {
              "color": "white"
             }
            },
            "header": {
             "fill": {
              "color": "#C8D4E3"
             },
             "line": {
              "color": "white"
             }
            },
            "type": "table"
           }
          ]
         },
         "layout": {
          "annotationdefaults": {
           "arrowcolor": "#2a3f5f",
           "arrowhead": 0,
           "arrowwidth": 1
          },
          "coloraxis": {
           "colorbar": {
            "outlinewidth": 0,
            "ticks": ""
           }
          },
          "colorscale": {
           "diverging": [
            [
             0,
             "#8e0152"
            ],
            [
             0.1,
             "#c51b7d"
            ],
            [
             0.2,
             "#de77ae"
            ],
            [
             0.3,
             "#f1b6da"
            ],
            [
             0.4,
             "#fde0ef"
            ],
            [
             0.5,
             "#f7f7f7"
            ],
            [
             0.6,
             "#e6f5d0"
            ],
            [
             0.7,
             "#b8e186"
            ],
            [
             0.8,
             "#7fbc41"
            ],
            [
             0.9,
             "#4d9221"
            ],
            [
             1,
             "#276419"
            ]
           ],
           "sequential": [
            [
             0,
             "#0d0887"
            ],
            [
             0.1111111111111111,
             "#46039f"
            ],
            [
             0.2222222222222222,
             "#7201a8"
            ],
            [
             0.3333333333333333,
             "#9c179e"
            ],
            [
             0.4444444444444444,
             "#bd3786"
            ],
            [
             0.5555555555555556,
             "#d8576b"
            ],
            [
             0.6666666666666666,
             "#ed7953"
            ],
            [
             0.7777777777777778,
             "#fb9f3a"
            ],
            [
             0.8888888888888888,
             "#fdca26"
            ],
            [
             1,
             "#f0f921"
            ]
           ],
           "sequentialminus": [
            [
             0,
             "#0d0887"
            ],
            [
             0.1111111111111111,
             "#46039f"
            ],
            [
             0.2222222222222222,
             "#7201a8"
            ],
            [
             0.3333333333333333,
             "#9c179e"
            ],
            [
             0.4444444444444444,
             "#bd3786"
            ],
            [
             0.5555555555555556,
             "#d8576b"
            ],
            [
             0.6666666666666666,
             "#ed7953"
            ],
            [
             0.7777777777777778,
             "#fb9f3a"
            ],
            [
             0.8888888888888888,
             "#fdca26"
            ],
            [
             1,
             "#f0f921"
            ]
           ]
          },
          "colorway": [
           "#636efa",
           "#EF553B",
           "#00cc96",
           "#ab63fa",
           "#FFA15A",
           "#19d3f3",
           "#FF6692",
           "#B6E880",
           "#FF97FF",
           "#FECB52"
          ],
          "font": {
           "color": "#2a3f5f"
          },
          "geo": {
           "bgcolor": "white",
           "lakecolor": "white",
           "landcolor": "#E5ECF6",
           "showlakes": true,
           "showland": true,
           "subunitcolor": "white"
          },
          "hoverlabel": {
           "align": "left"
          },
          "hovermode": "closest",
          "mapbox": {
           "style": "light"
          },
          "paper_bgcolor": "white",
          "plot_bgcolor": "#E5ECF6",
          "polar": {
           "angularaxis": {
            "gridcolor": "white",
            "linecolor": "white",
            "ticks": ""
           },
           "bgcolor": "#E5ECF6",
           "radialaxis": {
            "gridcolor": "white",
            "linecolor": "white",
            "ticks": ""
           }
          },
          "scene": {
           "xaxis": {
            "backgroundcolor": "#E5ECF6",
            "gridcolor": "white",
            "gridwidth": 2,
            "linecolor": "white",
            "showbackground": true,
            "ticks": "",
            "zerolinecolor": "white"
           },
           "yaxis": {
            "backgroundcolor": "#E5ECF6",
            "gridcolor": "white",
            "gridwidth": 2,
            "linecolor": "white",
            "showbackground": true,
            "ticks": "",
            "zerolinecolor": "white"
           },
           "zaxis": {
            "backgroundcolor": "#E5ECF6",
            "gridcolor": "white",
            "gridwidth": 2,
            "linecolor": "white",
            "showbackground": true,
            "ticks": "",
            "zerolinecolor": "white"
           }
          },
          "shapedefaults": {
           "line": {
            "color": "#2a3f5f"
           }
          },
          "ternary": {
           "aaxis": {
            "gridcolor": "white",
            "linecolor": "white",
            "ticks": ""
           },
           "baxis": {
            "gridcolor": "white",
            "linecolor": "white",
            "ticks": ""
           },
           "bgcolor": "#E5ECF6",
           "caxis": {
            "gridcolor": "white",
            "linecolor": "white",
            "ticks": ""
           }
          },
          "title": {
           "x": 0.05
          },
          "xaxis": {
           "automargin": true,
           "gridcolor": "white",
           "linecolor": "white",
           "ticks": "",
           "title": {
            "standoff": 15
           },
           "zerolinecolor": "white",
           "zerolinewidth": 2
          },
          "yaxis": {
           "automargin": true,
           "gridcolor": "white",
           "linecolor": "white",
           "ticks": "",
           "title": {
            "standoff": 15
           },
           "zerolinecolor": "white",
           "zerolinewidth": 2
          }
         }
        }
       }
      },
      "text/html": [
       "<div>                            <div id=\"c45fe096-38c8-462f-89bb-7c34d83a1169\" class=\"plotly-graph-div\" style=\"height:525px; width:100%;\"></div>            <script type=\"text/javascript\">                require([\"plotly\"], function(Plotly) {                    window.PLOTLYENV=window.PLOTLYENV || {};                                    if (document.getElementById(\"c45fe096-38c8-462f-89bb-7c34d83a1169\")) {                    Plotly.newPlot(                        \"c45fe096-38c8-462f-89bb-7c34d83a1169\",                        [{\"fill\": \"toself\", \"fillcolor\": \"rgba(0.12156862745098039, 0.4666666666666667, 0.7058823529411765, 0.01)\", \"line\": {\"color\": \"rgba(0.12156862745098039, 0.4666666666666667, 0.7058823529411765, 1.0)\", \"dash\": \"dash\", \"width\": 3}, \"name\": \"Year 2000\", \"r\": [3.5907643312101936, 0.9394706559263521, 0.9910628019323671, 0.5053712666745367, 1.1132637853949332, 0.6761651131824234, 57.686746987951985, 7.416792738275341, 36.76470588235294, 1.708489601091033, 43.68749999999976, 10.039215686274508, 0.7684175383930559, 3.436022819885901, 14.24210526315788, 3.5907643312101936], \"theta\": [\"China\", \"Japan\", \"South Korea\", \"Australia\", \"New Zealand\", \"Brunei\", \"Cambodia\", \"Indonesia\", \"Laos\", \"Malaysia\", \"Myanmar\", \"Philippines\", \"Singapore\", \"Thailand\", \"Vietnam\", \"China\"], \"type\": \"scatterpolar\"}, {\"fill\": \"toself\", \"fillcolor\": \"rgba(0.6823529411764706, 0.7803921568627451, 0.9098039215686274, 0.01)\", \"line\": {\"color\": \"rgba(0.6823529411764706, 0.7803921568627451, 0.9098039215686274, 1.0)\", \"dash\": \"dash\", \"width\": 3}, \"name\": \"Year 2001\", \"r\": [3.534407027818446, 0.9517906336088153, 0.9910652920962199, 0.5001184553423359, 1.056182531894014, 0.721931190712162, 51.41111111111107, 6.717986676535899, 34.364261168384864, 1.637267904509284, 50.24528301886819, 10.555697823303465, 0.76841441630766, 3.2443991853360483, 12.628571428571417, 3.534407027818446], \"theta\": [\"China\", \"Japan\", \"South Korea\", \"Australia\", \"New Zealand\", \"Brunei\", \"Cambodia\", \"Indonesia\", \"Laos\", \"Malaysia\", \"Myanmar\", \"Philippines\", \"Singapore\", \"Thailand\", \"Vietnam\", \"China\"], \"type\": \"scatterpolar\"}, {\"fill\": \"toself\", \"fillcolor\": \"rgba(0.9, 0.498, 0.054, 0.01)\", \"line\": {\"color\": \"rgba(0.9, 0.498, 0.054, 1.0)\", \"dash\": \"dash\", \"width\": 3}, \"name\": \"Year 2002\", \"r\": [3.2214765100671134, 0.9313354001607531, 0.9646519746890683, 0.4991650763358778, 1.0656934306569341, 0.7596673596673597, 53.385416666666366, 6.592028985507246, 33.22259136212623, 1.6547811993517016, 48.50877192982423, 10.80100755667506, 0.8108, 3.1090317331163546, 11.082251082251078, 3.2214765100671134], \"theta\": [\"China\", \"Japan\", \"South Korea\", \"Australia\", \"New Zealand\", \"Brunei\", \"Cambodia\", \"Indonesia\", \"Laos\", \"Malaysia\", \"Myanmar\", \"Philippines\", \"Singapore\", \"Thailand\", \"Vietnam\", \"China\"], \"type\": \"scatterpolar\"}, {\"fill\": \"toself\", \"fillcolor\": \"rgba(0.9, 0.733, 0.47, 0.01)\", \"line\": {\"color\": \"rgba(0.9, 0.733, 0.47, 1.0)\", \"dash\": \"dash\", \"width\": 3}, \"name\": \"Year 2003\", \"r\": [2.750920245398772, 0.9265971907566833, 0.9726027397260274, 0.4946371519853948, 1.0304483337329176, 0.7365684575389948, 50.355769230769404, 6.4840312278211485, 31.746031746031775, 1.4634223918575062, 45.868852459016445, 11.025031289111393, 1.2375992939099736, 2.9594813614262554, 10.042801556420255, 2.750920245398772], \"theta\": [\"China\", \"Japan\", \"South Korea\", \"Australia\", \"New Zealand\", \"Brunei\", \"Cambodia\", \"Indonesia\", \"Laos\", \"Malaysia\", \"Myanmar\", \"Philippines\", \"Singapore\", \"Thailand\", \"Vietnam\", \"China\"], \"type\": \"scatterpolar\"}, {\"fill\": \"toself\", \"fillcolor\": \"rgba(0.17254901960784313, 0.6274509803921569, 0.17254901960784313, 0.01)\", \"line\": {\"color\": \"rgba(0.17254901960784313, 0.6274509803921569, 0.17254901960784313, 1.0)\", \"dash\": \"dash\", \"width\": 3}, \"name\": \"Year 2004\", \"r\": [2.4048943270300334, 0.9310918774966711, 0.9440932437771632, 0.48338692390139326, 1.057317359642941, 0.6873361300471945, 49.919642857142904, 6.121951219512197, 30.58103975535173, 1.3668952618453867, 36.47761194029829, 10.845105328376704, 1.3681899495852983, 2.7715430861723442, 8.814035087719306, 2.4048943270300334], \"theta\": [\"China\", \"Japan\", \"South Korea\", \"Australia\", \"New Zealand\", \"Brunei\", \"Cambodia\", \"Indonesia\", \"Laos\", \"Malaysia\", \"Myanmar\", \"Philippines\", \"Singapore\", \"Thailand\", \"Vietnam\", \"China\"], \"type\": \"scatterpolar\"}, {\"fill\": \"toself\", \"fillcolor\": \"rgba(0.596078431372549, 0.8745098039215686, 0.5411764705882353, 0.01)\", \"line\": {\"color\": \"rgba(0.596078431372549, 0.8745098039215686, 0.5411764705882353, 1.0)\", \"dash\": \"dash\", \"width\": 3}, \"name\": \"Year 2005\", \"r\": [2.147887323943661, 0.9268239405854085, 0.9879336349924586, 0.48650000000000004, 1.0250855188141392, 0.698812858476724, 44.40163934426234, 6.141208418194162, 29.069767441860478, 1.3170582850167836, 39.689189189189385, 10.984029484029481, 1.3104994587907839, 2.716588050314466, 8.244444444444452, 2.147887323943661], \"theta\": [\"China\", \"Japan\", \"South Korea\", \"Australia\", \"New Zealand\", \"Brunei\", \"Cambodia\", \"Indonesia\", \"Laos\", \"Malaysia\", \"Myanmar\", \"Philippines\", \"Singapore\", \"Thailand\", \"Vietnam\", \"China\"], \"type\": \"scatterpolar\"}, {\"fill\": \"toself\", \"fillcolor\": \"rgba(1.0, 0.596078431372549, 0.5882352941176471, 0.01)\", \"line\": {\"color\": \"rgba(1.0, 0.596078431372549, 0.5882352941176471, 1.0)\", \"dash\": \"dash\", \"width\": 3}, \"name\": \"Year 2006\", \"r\": [1.9545454545454546, 0.9443845656391464, 0.978158844765343, 0.4871, 1.040513615231348, 0.7282, 41.894736842105324, 6.168421052631578, 25.773195876288696, 1.36437125748503, 36.130952380952536, 12.210012210012215, 1.3330893118594436, 2.693573068094874, 7.951149425287342, 1.9545454545454546], \"theta\": [\"China\", \"Japan\", \"South Korea\", \"Australia\", \"New Zealand\", \"Brunei\", \"Cambodia\", \"Indonesia\", \"Laos\", \"Malaysia\", \"Myanmar\", \"Philippines\", \"Singapore\", \"Thailand\", \"Vietnam\", \"China\"], \"type\": \"scatterpolar\"}, {\"fill\": \"toself\", \"fillcolor\": \"rgba(0.5803921568627451, 0.403921568627451, 0.7411764705882353, 0.01)\", \"line\": {\"color\": \"rgba(0.5803921568627451, 0.403921568627451, 0.7411764705882353, 1.0)\", \"dash\": \"dash\", \"width\": 3}, \"name\": \"Year 2007\", \"r\": [1.8275862068965516, 0.9189819724284201, 0.9261117840456825, 0.4868, 1.0783678756476687, 0.4205, 36.99315068493164, 5.74521072796935, 23.094688221709003, 1.3621145374449337, 36.31632653061213, 11.76626506024097, 1.0, 2.672253258845438, 7.906005221932114, 1.8275862068965516], \"theta\": [\"China\", \"Japan\", \"South Korea\", \"Australia\", \"New Zealand\", \"Brunei\", \"Cambodia\", \"Indonesia\", \"Laos\", \"Malaysia\", \"Myanmar\", \"Philippines\", \"Singapore\", \"Thailand\", \"Vietnam\", \"China\"], \"type\": \"scatterpolar\"}, {\"fill\": \"toself\", \"fillcolor\": \"rgba(0.7725490196078432, 0.6901960784313725, 0.8352941176470589, 0.01)\", \"line\": {\"color\": \"rgba(0.7725490196078432, 0.6901960784313725, 0.8352941176470589, 1.0)\", \"dash\": \"dash\", \"width\": 3}, \"name\": \"Year 2008\", \"r\": [1.7099406528189909, 0.9720047195108871, 0.9061204179797645, 0.4908, 1.0604280318925725, 0.3932, 34.02469135802471, 5.253703703703702, 20.04008016032062, 1.2534403669724772, 47.98275862068943, 10.95362663495839, 1.2326612326612325, 2.717501815541031, 7.091334894613588, 1.7099406528189909], \"theta\": [\"China\", \"Japan\", \"South Korea\", \"Australia\", \"New Zealand\", \"Brunei\", \"Cambodia\", \"Indonesia\", \"Laos\", \"Malaysia\", \"Myanmar\", \"Philippines\", \"Singapore\", \"Thailand\", \"Vietnam\", \"China\"], \"type\": \"scatterpolar\"}, {\"fill\": \"toself\", \"fillcolor\": \"rgba(0.5490196078431373, 0.33725490196078434, 0.29411764705882354, 0.01)\", \"line\": {\"color\": \"rgba(0.5490196078431373, 0.33725490196078434, 0.29411764705882354, 1.0)\", \"dash\": \"dash\", \"width\": 3}, \"name\": \"Year 2009\", \"r\": [1.6346541302887838, 1.030048758362626, 0.9073599999999999, 0.49639999999999995, 1.1586617405582924, 0.4618, 28.833333333333307, 4.974480712166173, 17.421602787456443, 1.3124824684431975, 46.138686131386706, 11.26173708920187, 0.7899272024959145, 2.560906515580737, 6.606382978723398, 1.6346541302887838], \"theta\": [\"China\", \"Japan\", \"South Korea\", \"Australia\", \"New Zealand\", \"Brunei\", \"Cambodia\", \"Indonesia\", \"Laos\", \"Malaysia\", \"Myanmar\", \"Philippines\", \"Singapore\", \"Thailand\", \"Vietnam\", \"China\"], \"type\": \"scatterpolar\"}, {\"fill\": \"toself\", \"fillcolor\": \"rgba(0.7686274509803922, 0.611764705882353, 0.5803921568627451, 0.01)\", \"line\": {\"color\": \"rgba(0.7686274509803922, 0.611764705882353, 0.5803921568627451, 1.0)\", \"dash\": \"dash\", \"width\": 3}, \"name\": \"Year 2010\", \"r\": [1.5005988023952095, 0.9862894450489662, 0.815813953488372, 0.508, 1.163747454175153, 0.44930000000000003, 26.479797979797926, 5.2647226986849605, 15.797788309636646, 1.2137931034482756, 36.1151515151516, 10.561484918793496, 0.820509383378016, 2.4417306350314028, 6.021317829457367, 1.5005988023952095], \"theta\": [\"China\", \"Japan\", \"South Korea\", \"Australia\", \"New Zealand\", \"Brunei\", \"Cambodia\", \"Indonesia\", \"Laos\", \"Malaysia\", \"Myanmar\", \"Philippines\", \"Singapore\", \"Thailand\", \"Vietnam\", \"China\"], \"type\": \"scatterpolar\"}, {\"fill\": \"toself\", \"fillcolor\": \"rgba(0.8901960784313725, 0.4666666666666667, 0.7607843137254902, 0.01)\", \"line\": {\"color\": \"rgba(0.8901960784313725, 0.4666666666666667, 0.7607843137254902, 1.0)\", \"dash\": \"dash\", \"width\": 3}, \"name\": \"Year 2011\", \"r\": [1.3661143773383218, 0.9468641114982579, 0.7884066676678181, 0.5195000000000001, 1.199959522363894, 0.3843, 26.523148148148206, 4.4953322350356935, 14.5985401459854, 1.2280938258290646, 31.487684729064064, 10.639455782312933, 1.0496701590997284, 2.4793162393162396, 5.705467372134041, 1.3661143773383218], \"theta\": [\"China\", \"Japan\", \"South Korea\", \"Australia\", \"New Zealand\", \"Brunei\", \"Cambodia\", \"Indonesia\", \"Laos\", \"Malaysia\", \"Myanmar\", \"Philippines\", \"Singapore\", \"Thailand\", \"Vietnam\", \"China\"], \"type\": \"scatterpolar\"}, {\"fill\": \"toself\", \"fillcolor\": \"rgba(0.4980392156862745, 0.4980392156862745, 0.4980392156862745, 0.01)\", \"line\": {\"color\": \"rgba(0.4980392156862745, 0.4980392156862745, 0.4980392156862745, 1.0)\", \"dash\": \"dash\", \"width\": 3}, \"name\": \"Year 2012\", \"r\": [1.338771593090211, 0.9163718237375362, 0.7993574766355139, 0.5244, 1.1572087427311006, 0.39170000000000005, 25.770212765957485, 4.39842105263158, 13.513513513513521, 1.254860746190226, 39.84063745019918, 10.247216035634745, 1.001767899987372, 2.3393513874958205, 6.1710526315789505, 1.338771593090211], \"theta\": [\"China\", \"Japan\", \"South Korea\", \"Australia\", \"New Zealand\", \"Brunei\", \"Cambodia\", \"Indonesia\", \"Laos\", \"Malaysia\", \"Myanmar\", \"Philippines\", \"Singapore\", \"Thailand\", \"Vietnam\", \"China\"], \"type\": \"scatterpolar\"}, {\"fill\": \"toself\", \"fillcolor\": \"rgba(0.7803921568627451, 0.7803921568627451, 0.7803921568627451, 0.01)\", \"line\": {\"color\": \"rgba(0.7803921568627451, 0.7803921568627451, 0.7803921568627451, 1.0)\", \"dash\": \"dash\", \"width\": 3}, \"name\": \"Year 2013\", \"r\": [1.3242424242424242, 0.9091577399705943, 0.7930985312990161, 0.5444, 1.1925896572221124, 0.494, 25.5944881889764, 5.184033177812339, 11.820330969267138, 1.1715153048317732, 33.89830508474579, 9.610021786492375, 0.9064985925835272, 2.2354471544715446, 6.023148148148151, 1.3242424242424242], \"theta\": [\"China\", \"Japan\", \"South Korea\", \"Australia\", \"New Zealand\", \"Brunei\", \"Cambodia\", \"Indonesia\", \"Laos\", \"Malaysia\", \"Myanmar\", \"Philippines\", \"Singapore\", \"Thailand\", \"Vietnam\", \"China\"], \"type\": \"scatterpolar\"}, {\"fill\": \"toself\", \"fillcolor\": \"rgba(0.7372549019607844, 0.7411764705882353, 0.13333333333333333, 0.01)\", \"line\": {\"color\": \"rgba(0.7372549019607844, 0.7411764705882353, 0.13333333333333333, 1.0)\", \"dash\": \"dash\", \"width\": 3}, \"name\": \"Year 2014\", \"r\": [1.3282412847630238, 0.9442064570055375, 0.8040089086859689, 0.5590999999999999, 1.1949317738791423, 0.42779999999999996, 21.873188405797137, 5.146680391147709, 10.79913606911447, 1.1542010684798443, 28.16901408450706, 9.183262711864403, 0.9097744360902256, 2.2941923198984444, 5.341569767441864, 1.3282412847630238], \"theta\": [\"China\", \"Japan\", \"South Korea\", \"Australia\", \"New Zealand\", \"Brunei\", \"Cambodia\", \"Indonesia\", \"Laos\", \"Malaysia\", \"Myanmar\", \"Philippines\", \"Singapore\", \"Thailand\", \"Vietnam\", \"China\"], \"type\": \"scatterpolar\"}, {\"fill\": \"toself\", \"fillcolor\": \"rgba(0.8588235294117647, 0.8588235294117647, 0.5529411764705883, 0.01)\", \"line\": {\"color\": \"rgba(0.8588235294117647, 0.8588235294117647, 0.5529411764705883, 1.0)\", \"dash\": \"dash\", \"width\": 3}, \"name\": \"Year 2015\", \"r\": [1.3493761140819964, 0.9740179399938138, 0.7954915806626833, 0.554, 1.199885561701316, 0.556, 17.130434782608674, 4.638218923933209, 7.130513051305132, 1.2093348891481914, 22.153664302600472, 8.32510288065844, 0.8487335834896811, 2.276483379931656, 4.788540245566164, 1.3493761140819964], \"theta\": [\"China\", \"Japan\", \"South Korea\", \"Australia\", \"New Zealand\", \"Brunei\", \"Cambodia\", \"Indonesia\", \"Laos\", \"Malaysia\", \"Myanmar\", \"Philippines\", \"Singapore\", \"Thailand\", \"Vietnam\", \"China\"], \"type\": \"scatterpolar\"}, {\"fill\": \"toself\", \"fillcolor\": \"rgba(0.09019607843137255, 0.7450980392156863, 0.8117647058823529, 0.01)\", \"line\": {\"color\": \"rgba(0.09019607843137255, 0.7450980392156863, 0.8117647058823529, 1.0)\", \"dash\": \"dash\", \"width\": 3}, \"name\": \"Year 2016\", \"r\": [1.358004564721226, 0.9869943676395289, 0.7688648077177216, 0.5472, 1.2672162948593597, 0.5185, 15.099999999999985, 4.347289554869987, 3.6421404682274234, 1.1589939366719064, 19.81744421906693, 8.100790513833996, 1.0, 2.292438505921652, 4.754161331626123, 1.358004564721226], \"theta\": [\"China\", \"Japan\", \"South Korea\", \"Australia\", \"New Zealand\", \"Brunei\", \"Cambodia\", \"Indonesia\", \"Laos\", \"Malaysia\", \"Myanmar\", \"Philippines\", \"Singapore\", \"Thailand\", \"Vietnam\", \"China\"], \"type\": \"scatterpolar\"}, {\"fill\": \"toself\", \"fillcolor\": \"rgba(0.6196078431372549, 0.8549019607843137, 0.8980392156862745, 0.01)\", \"line\": {\"color\": \"rgba(0.6196078431372549, 0.8549019607843137, 0.8980392156862745, 1.0)\", \"dash\": \"dash\", \"width\": 3}, \"name\": \"Year 2017\", \"r\": [1.3457048787788088, 1.0, 0.7432345774015646, 0.5493, 1.216171617161716, 0.5207999999999999, 14.87463556851312, 4.222128378378378, 3.555815768930523, 1.1765980498374862, 18.281535648994524, 7.478180129990713, 1.0, 2.26179875333927, 4.769507803121246, 1.3457048787788088], \"theta\": [\"China\", \"Japan\", \"South Korea\", \"Australia\", \"New Zealand\", \"Brunei\", \"Cambodia\", \"Indonesia\", \"Laos\", \"Malaysia\", \"Myanmar\", \"Philippines\", \"Singapore\", \"Thailand\", \"Vietnam\", \"China\"], \"type\": \"scatterpolar\"}],                        {\"legend\": {\"x\": 0.9, \"y\": 1.1}, \"plot_bgcolor\": \"rgba(0,0,0,0)\", \"polar\": {\"angularaxis\": {\"gridcolor\": \"black\", \"linecolor\": \"black\", \"linewidth\": 4}, \"bgcolor\": \"rgba(0,0,0,0)\", \"gridshape\": \"linear\", \"radialaxis\": {\"gridcolor\": \"black\", \"range\": [0, 57.686746987951985], \"showticklabels\": false, \"visible\": true}}, \"showlegend\": true, \"template\": {\"data\": {\"bar\": [{\"error_x\": {\"color\": \"#2a3f5f\"}, \"error_y\": {\"color\": \"#2a3f5f\"}, \"marker\": {\"line\": {\"color\": \"#E5ECF6\", \"width\": 0.5}}, \"type\": \"bar\"}], \"barpolar\": [{\"marker\": {\"line\": {\"color\": \"#E5ECF6\", \"width\": 0.5}}, \"type\": \"barpolar\"}], \"carpet\": [{\"aaxis\": {\"endlinecolor\": \"#2a3f5f\", \"gridcolor\": \"white\", \"linecolor\": \"white\", \"minorgridcolor\": \"white\", \"startlinecolor\": \"#2a3f5f\"}, \"baxis\": {\"endlinecolor\": \"#2a3f5f\", \"gridcolor\": \"white\", \"linecolor\": \"white\", \"minorgridcolor\": \"white\", \"startlinecolor\": \"#2a3f5f\"}, \"type\": \"carpet\"}], \"choropleth\": [{\"colorbar\": {\"outlinewidth\": 0, \"ticks\": \"\"}, \"type\": \"choropleth\"}], \"contour\": [{\"colorbar\": {\"outlinewidth\": 0, \"ticks\": \"\"}, \"colorscale\": [[0.0, \"#0d0887\"], [0.1111111111111111, \"#46039f\"], [0.2222222222222222, \"#7201a8\"], [0.3333333333333333, \"#9c179e\"], [0.4444444444444444, \"#bd3786\"], [0.5555555555555556, \"#d8576b\"], [0.6666666666666666, \"#ed7953\"], [0.7777777777777778, \"#fb9f3a\"], [0.8888888888888888, \"#fdca26\"], [1.0, \"#f0f921\"]], \"type\": \"contour\"}], \"contourcarpet\": [{\"colorbar\": {\"outlinewidth\": 0, \"ticks\": \"\"}, \"type\": \"contourcarpet\"}], \"heatmap\": [{\"colorbar\": {\"outlinewidth\": 0, \"ticks\": \"\"}, \"colorscale\": [[0.0, \"#0d0887\"], [0.1111111111111111, \"#46039f\"], [0.2222222222222222, \"#7201a8\"], [0.3333333333333333, \"#9c179e\"], [0.4444444444444444, \"#bd3786\"], [0.5555555555555556, \"#d8576b\"], [0.6666666666666666, \"#ed7953\"], [0.7777777777777778, \"#fb9f3a\"], [0.8888888888888888, \"#fdca26\"], [1.0, \"#f0f921\"]], \"type\": \"heatmap\"}], \"heatmapgl\": [{\"colorbar\": {\"outlinewidth\": 0, \"ticks\": \"\"}, \"colorscale\": [[0.0, \"#0d0887\"], [0.1111111111111111, \"#46039f\"], [0.2222222222222222, \"#7201a8\"], [0.3333333333333333, \"#9c179e\"], [0.4444444444444444, \"#bd3786\"], [0.5555555555555556, \"#d8576b\"], [0.6666666666666666, \"#ed7953\"], [0.7777777777777778, \"#fb9f3a\"], [0.8888888888888888, \"#fdca26\"], [1.0, \"#f0f921\"]], \"type\": \"heatmapgl\"}], \"histogram\": [{\"marker\": {\"colorbar\": {\"outlinewidth\": 0, \"ticks\": \"\"}}, \"type\": \"histogram\"}], \"histogram2d\": [{\"colorbar\": {\"outlinewidth\": 0, \"ticks\": \"\"}, \"colorscale\": [[0.0, \"#0d0887\"], [0.1111111111111111, \"#46039f\"], [0.2222222222222222, \"#7201a8\"], [0.3333333333333333, \"#9c179e\"], [0.4444444444444444, \"#bd3786\"], [0.5555555555555556, \"#d8576b\"], [0.6666666666666666, \"#ed7953\"], [0.7777777777777778, \"#fb9f3a\"], [0.8888888888888888, \"#fdca26\"], [1.0, \"#f0f921\"]], \"type\": \"histogram2d\"}], \"histogram2dcontour\": [{\"colorbar\": {\"outlinewidth\": 0, \"ticks\": \"\"}, \"colorscale\": [[0.0, \"#0d0887\"], [0.1111111111111111, \"#46039f\"], [0.2222222222222222, \"#7201a8\"], [0.3333333333333333, \"#9c179e\"], [0.4444444444444444, \"#bd3786\"], [0.5555555555555556, \"#d8576b\"], [0.6666666666666666, \"#ed7953\"], [0.7777777777777778, \"#fb9f3a\"], [0.8888888888888888, \"#fdca26\"], [1.0, \"#f0f921\"]], \"type\": \"histogram2dcontour\"}], \"mesh3d\": [{\"colorbar\": {\"outlinewidth\": 0, \"ticks\": \"\"}, \"type\": \"mesh3d\"}], \"parcoords\": [{\"line\": {\"colorbar\": {\"outlinewidth\": 0, \"ticks\": \"\"}}, \"type\": \"parcoords\"}], \"pie\": [{\"automargin\": true, \"type\": \"pie\"}], \"scatter\": [{\"marker\": {\"colorbar\": {\"outlinewidth\": 0, \"ticks\": \"\"}}, \"type\": \"scatter\"}], \"scatter3d\": [{\"line\": {\"colorbar\": {\"outlinewidth\": 0, \"ticks\": \"\"}}, \"marker\": {\"colorbar\": {\"outlinewidth\": 0, \"ticks\": \"\"}}, \"type\": \"scatter3d\"}], \"scattercarpet\": [{\"marker\": {\"colorbar\": {\"outlinewidth\": 0, \"ticks\": \"\"}}, \"type\": \"scattercarpet\"}], \"scattergeo\": [{\"marker\": {\"colorbar\": {\"outlinewidth\": 0, \"ticks\": \"\"}}, \"type\": \"scattergeo\"}], \"scattergl\": [{\"marker\": {\"colorbar\": {\"outlinewidth\": 0, \"ticks\": \"\"}}, \"type\": \"scattergl\"}], \"scattermapbox\": [{\"marker\": {\"colorbar\": {\"outlinewidth\": 0, \"ticks\": \"\"}}, \"type\": \"scattermapbox\"}], \"scatterpolar\": [{\"marker\": {\"colorbar\": {\"outlinewidth\": 0, \"ticks\": \"\"}}, \"type\": \"scatterpolar\"}], \"scatterpolargl\": [{\"marker\": {\"colorbar\": {\"outlinewidth\": 0, \"ticks\": \"\"}}, \"type\": \"scatterpolargl\"}], \"scatterternary\": [{\"marker\": {\"colorbar\": {\"outlinewidth\": 0, \"ticks\": \"\"}}, \"type\": \"scatterternary\"}], \"surface\": [{\"colorbar\": {\"outlinewidth\": 0, \"ticks\": \"\"}, \"colorscale\": [[0.0, \"#0d0887\"], [0.1111111111111111, \"#46039f\"], [0.2222222222222222, \"#7201a8\"], [0.3333333333333333, \"#9c179e\"], [0.4444444444444444, \"#bd3786\"], [0.5555555555555556, \"#d8576b\"], [0.6666666666666666, \"#ed7953\"], [0.7777777777777778, \"#fb9f3a\"], [0.8888888888888888, \"#fdca26\"], [1.0, \"#f0f921\"]], \"type\": \"surface\"}], \"table\": [{\"cells\": {\"fill\": {\"color\": \"#EBF0F8\"}, \"line\": {\"color\": \"white\"}}, \"header\": {\"fill\": {\"color\": \"#C8D4E3\"}, \"line\": {\"color\": \"white\"}}, \"type\": \"table\"}]}, \"layout\": {\"annotationdefaults\": {\"arrowcolor\": \"#2a3f5f\", \"arrowhead\": 0, \"arrowwidth\": 1}, \"coloraxis\": {\"colorbar\": {\"outlinewidth\": 0, \"ticks\": \"\"}}, \"colorscale\": {\"diverging\": [[0, \"#8e0152\"], [0.1, \"#c51b7d\"], [0.2, \"#de77ae\"], [0.3, \"#f1b6da\"], [0.4, \"#fde0ef\"], [0.5, \"#f7f7f7\"], [0.6, \"#e6f5d0\"], [0.7, \"#b8e186\"], [0.8, \"#7fbc41\"], [0.9, \"#4d9221\"], [1, \"#276419\"]], \"sequential\": [[0.0, \"#0d0887\"], [0.1111111111111111, \"#46039f\"], [0.2222222222222222, \"#7201a8\"], [0.3333333333333333, \"#9c179e\"], [0.4444444444444444, \"#bd3786\"], [0.5555555555555556, \"#d8576b\"], [0.6666666666666666, \"#ed7953\"], [0.7777777777777778, \"#fb9f3a\"], [0.8888888888888888, \"#fdca26\"], [1.0, \"#f0f921\"]], \"sequentialminus\": [[0.0, \"#0d0887\"], [0.1111111111111111, \"#46039f\"], [0.2222222222222222, \"#7201a8\"], [0.3333333333333333, \"#9c179e\"], [0.4444444444444444, \"#bd3786\"], [0.5555555555555556, \"#d8576b\"], [0.6666666666666666, \"#ed7953\"], [0.7777777777777778, \"#fb9f3a\"], [0.8888888888888888, \"#fdca26\"], [1.0, \"#f0f921\"]]}, \"colorway\": [\"#636efa\", \"#EF553B\", \"#00cc96\", \"#ab63fa\", \"#FFA15A\", \"#19d3f3\", \"#FF6692\", \"#B6E880\", \"#FF97FF\", \"#FECB52\"], \"font\": {\"color\": \"#2a3f5f\"}, \"geo\": {\"bgcolor\": \"white\", \"lakecolor\": \"white\", \"landcolor\": \"#E5ECF6\", \"showlakes\": true, \"showland\": true, \"subunitcolor\": \"white\"}, \"hoverlabel\": {\"align\": \"left\"}, \"hovermode\": \"closest\", \"mapbox\": {\"style\": \"light\"}, \"paper_bgcolor\": \"white\", \"plot_bgcolor\": \"#E5ECF6\", \"polar\": {\"angularaxis\": {\"gridcolor\": \"white\", \"linecolor\": \"white\", \"ticks\": \"\"}, \"bgcolor\": \"#E5ECF6\", \"radialaxis\": {\"gridcolor\": \"white\", \"linecolor\": \"white\", \"ticks\": \"\"}}, \"scene\": {\"xaxis\": {\"backgroundcolor\": \"#E5ECF6\", \"gridcolor\": \"white\", \"gridwidth\": 2, \"linecolor\": \"white\", \"showbackground\": true, \"ticks\": \"\", \"zerolinecolor\": \"white\"}, \"yaxis\": {\"backgroundcolor\": \"#E5ECF6\", \"gridcolor\": \"white\", \"gridwidth\": 2, \"linecolor\": \"white\", \"showbackground\": true, \"ticks\": \"\", \"zerolinecolor\": \"white\"}, \"zaxis\": {\"backgroundcolor\": \"#E5ECF6\", \"gridcolor\": \"white\", \"gridwidth\": 2, \"linecolor\": \"white\", \"showbackground\": true, \"ticks\": \"\", \"zerolinecolor\": \"white\"}}, \"shapedefaults\": {\"line\": {\"color\": \"#2a3f5f\"}}, \"ternary\": {\"aaxis\": {\"gridcolor\": \"white\", \"linecolor\": \"white\", \"ticks\": \"\"}, \"baxis\": {\"gridcolor\": \"white\", \"linecolor\": \"white\", \"ticks\": \"\"}, \"bgcolor\": \"#E5ECF6\", \"caxis\": {\"gridcolor\": \"white\", \"linecolor\": \"white\", \"ticks\": \"\"}}, \"title\": {\"x\": 0.05}, \"xaxis\": {\"automargin\": true, \"gridcolor\": \"white\", \"linecolor\": \"white\", \"ticks\": \"\", \"title\": {\"standoff\": 15}, \"zerolinecolor\": \"white\", \"zerolinewidth\": 2}, \"yaxis\": {\"automargin\": true, \"gridcolor\": \"white\", \"linecolor\": \"white\", \"ticks\": \"\", \"title\": {\"standoff\": 15}, \"zerolinecolor\": \"white\", \"zerolinewidth\": 2}}}},                        {\"responsive\": true}                    ).then(function(){\n",
       "                            \n",
       "var gd = document.getElementById('c45fe096-38c8-462f-89bb-7c34d83a1169');\n",
       "var x = new MutationObserver(function (mutations, observer) {{\n",
       "        var display = window.getComputedStyle(gd).display;\n",
       "        if (!display || display === 'none') {{\n",
       "            console.log([gd, 'removed!']);\n",
       "            Plotly.purge(gd);\n",
       "            observer.disconnect();\n",
       "        }}\n",
       "}});\n",
       "\n",
       "// Listen for the removal of the full notebook cells\n",
       "var notebookContainer = gd.closest('#notebook-container');\n",
       "if (notebookContainer) {{\n",
       "    x.observe(notebookContainer, {childList: true});\n",
       "}}\n",
       "\n",
       "// Listen for the clearing of the current output cell\n",
       "var outputEl = gd.closest('.output');\n",
       "if (outputEl) {{\n",
       "    x.observe(outputEl, {childList: true});\n",
       "}}\n",
       "\n",
       "                        })                };                });            </script>        </div>"
      ]
     },
     "metadata": {},
     "output_type": "display_data"
    },
    {
     "data": {
      "application/javascript": [
       "\n",
       "            setTimeout(function() {\n",
       "                var nbb_cell_id = 53;\n",
       "                var nbb_unformatted_code = \"radar_chart(df_CPP, \\\"CPI\\\")\";\n",
       "                var nbb_formatted_code = \"radar_chart(df_CPP, \\\"CPI\\\")\";\n",
       "                var nbb_cells = Jupyter.notebook.get_cells();\n",
       "                for (var i = 0; i < nbb_cells.length; ++i) {\n",
       "                    if (nbb_cells[i].input_prompt_number == nbb_cell_id) {\n",
       "                        if (nbb_cells[i].get_text() == nbb_unformatted_code) {\n",
       "                             nbb_cells[i].set_text(nbb_formatted_code);\n",
       "                        }\n",
       "                        break;\n",
       "                    }\n",
       "                }\n",
       "            }, 500);\n",
       "            "
      ],
      "text/plain": [
       "<IPython.core.display.Javascript object>"
      ]
     },
     "metadata": {},
     "output_type": "display_data"
    }
   ],
   "source": [
    "radar_chart(df_CPP, \"CPI\")"
   ]
  },
  {
   "cell_type": "markdown",
   "metadata": {},
   "source": [
    "# Prepare Stata data"
   ]
  },
  {
   "cell_type": "code",
   "execution_count": 51,
   "metadata": {},
   "outputs": [
    {
     "data": {
      "application/javascript": [
       "\n",
       "            setTimeout(function() {\n",
       "                var nbb_cell_id = 51;\n",
       "                var nbb_unformatted_code = \"df = pd.concat(\\n    [df_CPP.iloc[:, :4], df_CPP[\\\"CEE\\\"], df_CPP[\\\"CEP\\\"], df_CPP[\\\"CEEP\\\"], df_CPP[\\\"CPP\\\"],\\n    df_CPP[\\\"CPI\\\"]],\\n    axis=1,\\n)\\ndf.to_excel(\\\"carbon_performance.xlsx\\\")\";\n",
       "                var nbb_formatted_code = \"df = pd.concat(\\n    [\\n        df_CPP.iloc[:, :4],\\n        df_CPP[\\\"CEE\\\"],\\n        df_CPP[\\\"CEP\\\"],\\n        df_CPP[\\\"CEEP\\\"],\\n        df_CPP[\\\"CPP\\\"],\\n        df_CPP[\\\"CPI\\\"],\\n    ],\\n    axis=1,\\n)\\ndf.to_excel(\\\"carbon_performance.xlsx\\\")\";\n",
       "                var nbb_cells = Jupyter.notebook.get_cells();\n",
       "                for (var i = 0; i < nbb_cells.length; ++i) {\n",
       "                    if (nbb_cells[i].input_prompt_number == nbb_cell_id) {\n",
       "                        if (nbb_cells[i].get_text() == nbb_unformatted_code) {\n",
       "                             nbb_cells[i].set_text(nbb_formatted_code);\n",
       "                        }\n",
       "                        break;\n",
       "                    }\n",
       "                }\n",
       "            }, 500);\n",
       "            "
      ],
      "text/plain": [
       "<IPython.core.display.Javascript object>"
      ]
     },
     "metadata": {},
     "output_type": "display_data"
    }
   ],
   "source": [
    "df = pd.concat(\n",
    "    [\n",
    "        df_CPP.iloc[:, :4],\n",
    "        df_CPP[\"CEE\"],\n",
    "        df_CPP[\"CEP\"],\n",
    "        df_CPP[\"CEEP\"],\n",
    "        df_CPP[\"CPP\"],\n",
    "        df_CPP[\"CPI\"],\n",
    "    ],\n",
    "    axis=1,\n",
    ")\n",
    "df.to_excel(\"carbon_performance.xlsx\")"
   ]
  }
 ],
 "metadata": {
  "kernelspec": {
   "display_name": "base",
   "language": "python",
   "name": "base"
  },
  "language_info": {
   "codemirror_mode": {
    "name": "ipython",
    "version": 3
   },
   "file_extension": ".py",
   "mimetype": "text/x-python",
   "name": "python",
   "nbconvert_exporter": "python",
   "pygments_lexer": "ipython3",
   "version": "3.7.3"
  },
  "toc": {
   "base_numbering": 1,
   "nav_menu": {},
   "number_sections": true,
   "sideBar": true,
   "skip_h1_title": false,
   "title_cell": "Table of Contents",
   "title_sidebar": "Contents",
   "toc_cell": false,
   "toc_position": {},
   "toc_section_display": true,
   "toc_window_display": false
  }
 },
 "nbformat": 4,
 "nbformat_minor": 4
}
